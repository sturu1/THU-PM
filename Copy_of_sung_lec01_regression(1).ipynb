{
  "nbformat": 4,
  "nbformat_minor": 0,
  "metadata": {
    "colab": {
      "name": "Copy of sung_lec01_regression(1).ipynb",
      "provenance": [],
      "collapsed_sections": [],
      "include_colab_link": true
    },
    "kernelspec": {
      "name": "python3",
      "display_name": "Python 3"
    }
  },
  "cells": [
    {
      "cell_type": "markdown",
      "metadata": {
        "id": "view-in-github",
        "colab_type": "text"
      },
      "source": [
        "<a href=\"https://colab.research.google.com/github/sturu1/THU-PM/blob/master/Copy_of_sung_lec01_regression(1).ipynb\" target=\"_parent\"><img src=\"https://colab.research.google.com/assets/colab-badge.svg\" alt=\"Open In Colab\"/></a>"
      ]
    },
    {
      "cell_type": "markdown",
      "metadata": {
        "id": "0Y8UEW4k5S8h",
        "colab_type": "text"
      },
      "source": [
        "## Simple Linear Regression 구현 실습(1)"
      ]
    },
    {
      "cell_type": "markdown",
      "metadata": {
        "id": "9Xgpg79p5Y-e",
        "colab_type": "text"
      },
      "source": [
        "> 먼저 필요한 Keras 및 numpy 라이브러리를 불러옵니다.\n",
        "\n"
      ]
    },
    {
      "cell_type": "code",
      "metadata": {
        "id": "2KJ5XU2sCQUO",
        "colab_type": "code",
        "colab": {}
      },
      "source": [
        "import numpy as np\n",
        "from keras.optimizers import SGD\n",
        "from keras.layers import Dense\n",
        "from keras.models import Sequential"
      ],
      "execution_count": null,
      "outputs": []
    },
    {
      "cell_type": "markdown",
      "metadata": {
        "id": "f0GjCd6E5g1n",
        "colab_type": "text"
      },
      "source": [
        "> 실습에 사용할 데이터를 numpy 배열로 생성합니다. \n",
        "총 4개의 입력 및 출력 샘플을 정의합니다. \n",
        "\n",
        "> 입력데이터는 4개의 샘플(개체)로 이루어져 있으며, 각 개체는 한개의 속성을 가지고 있습니다. 출력데이터도 4개의 샘플, 1개의 속성으로 이루어져 있습니다. "
      ]
    },
    {
      "cell_type": "code",
      "metadata": {
        "id": "i8wzURqERMCe",
        "colab_type": "code",
        "colab": {}
      },
      "source": [
        "x_train = np.array([[1], [2], [3], [4]])\n",
        "y_train = np.array([[0], [-1], [-2], [-3]])"
      ],
      "execution_count": null,
      "outputs": []
    },
    {
      "cell_type": "markdown",
      "metadata": {
        "id": "uOlL0J07yzHL",
        "colab_type": "text"
      },
      "source": [
        "> 이러한 입력, 출력데이터간의 관계를 가장 잘 설명하는 규칙을 찾는 것이 문제입니다. simple linear regression에서는 입력과 출력 데이터 간의 관계를 선형으로 가정합니다. 즉, 다음의 방정식을 만족시키는 w1과 b 값을 찾는 것이 학습이라고 할 수 있습니다. \n",
        "``` \n",
        "y = w1*x1 + b\n",
        "```\n",
        "프로그래밍을 통해 학습하기 전에, 먼저 여러분들이 예측해 보세요. w1과 b 값은 얼마이겠습니까? "
      ]
    },
    {
      "cell_type": "markdown",
      "metadata": {
        "id": "Ul3HfVkr5rhA",
        "colab_type": "text"
      },
      "source": [
        "각 입력 및 출력 데이터의 차원과 shape를 확인합니다. "
      ]
    },
    {
      "cell_type": "code",
      "metadata": {
        "id": "gYdFmYKXSZAw",
        "colab_type": "code",
        "colab": {
          "base_uri": "https://localhost:8080/",
          "height": 52
        },
        "outputId": "83409308-152b-4b98-adb9-81798fd40c72"
      },
      "source": [
        "print(x_train.ndim)\n",
        "print(x_train.shape)"
      ],
      "execution_count": null,
      "outputs": [
        {
          "output_type": "stream",
          "text": [
            "2\n",
            "(4, 1)\n"
          ],
          "name": "stdout"
        }
      ]
    },
    {
      "cell_type": "markdown",
      "metadata": {
        "id": "lt8VQOes5zv_",
        "colab_type": "text"
      },
      "source": [
        "> 이제 Keras를 이용하여 **w1**과**b** 값을 찾는 학습을 진행해 보겠습니다. 먼저 여러분은 **모델을 생성**해야 합니다. 모델을 생성한다는 것은 마치 학습을 위한 뇌의 구조를 만드는 작업에 비유할 수 있습니다. 즉, 네트워크의 구조(뇌의 뉴런의 구조), 학습을 위해 필요한 손실함수 및 optimzer 설정(Gradient Descent Algorithm)등을 정의하는 것입니다. \n",
        "\n",
        "> 복잡한 모델을 만들면 보다 복잡한 문제를 학습할 수 있지만 학습에 오랜 시간이 걸리고, 단순한 모델을 만들면 단순한 문제만 학습할 수 있지만 학습에 걸리는 시간이 짧아집니다. 마치, 특정 문제를 해결하는데 인간의 뇌를 사용할지, 강아지의 뇌를 사용할지, 곤충의 뇌를 사용할지를 정하는 것에 비유할 수 있습니다. \n",
        "\n",
        "> 이번 예제에서는 **Keras의 Sequential() 함수**을을 이용하여 네트워크의 구조를 정의합니다. 이 예제에서는 1개의 layer(층)과 하나의 셀만을 가진 매우 단순한 구조로 network를 정의하였습니다. 사실 신경망이라고 볼수도 없습니다. \n",
        "\n",
        "> 본 예제는 regression 기법을 구현하는 것으로, activation 함수(활성 함수)로 linear를 선택하였습니다. 이는 활성함수 입력 전 후로 아무런 변화가 없음을 의미합니다. 결론적으로 Dense 층이 의미하는 것은 다음과 같은 수식입니다. \n",
        "```\n",
        "y=w1 * x1 + b\n",
        "```"
      ]
    },
    {
      "cell_type": "code",
      "metadata": {
        "id": "esWivA_GRN8m",
        "colab_type": "code",
        "colab": {}
      },
      "source": [
        "model = Sequential()"
      ],
      "execution_count": null,
      "outputs": []
    },
    {
      "cell_type": "markdown",
      "metadata": {
        "id": "zoY7yXfq2COr",
        "colab_type": "text"
      },
      "source": [
        "> 이제 모델에 layer(층)와 unit(셀, 뉴런)을 순차적으로 추가합니다. 이때, 입력데이터의 각 개체의 모양을 input_shape로 정의하는 것이 필요합니다. input 데이터는 4개의 개체(4명의 학생)로 이루어져 있지만, 한 개체는 1개의 속성을 가지고 있으므로 **inpu_shape는 1D 벡터인 (3,)**로 지정합니다. 또는 input_dim=3 으로 표현하기도 합니다. "
      ]
    },
    {
      "cell_type": "code",
      "metadata": {
        "id": "0925d-tV5QdP",
        "colab_type": "code",
        "colab": {}
      },
      "source": [
        "model.add(Dense(1, input_shape = (1,), activation='linear'))"
      ],
      "execution_count": null,
      "outputs": []
    },
    {
      "cell_type": "markdown",
      "metadata": {
        "id": "ICjqYsjFTPxA",
        "colab_type": "text"
      },
      "source": [
        "> 참고로 윗 식은 다음과 같이 표현 가능합니다.\n",
        "```\n",
        "model.add(Dense(1, input_dim=1))\n",
        "```\n",
        "(P70 참조) Dense 함수에서 activation이 linear일 경우, 그 역할은 다음처럼 단순 선형 변환입니다. \n",
        "```\n",
        "outputput = dot(W,input)+b\n",
        "```"
      ]
    },
    {
      "cell_type": "markdown",
      "metadata": {
        "id": "0DKMSUslVtKN",
        "colab_type": "text"
      },
      "source": [
        "> 다음으로 모델을 컴파일 합니다. 이때 활용할 손실함수(loss function or cost function) 및 Gradient Descent 알고리즘을 정의합니다. \n",
        "mse는 평균제곱오차를 손실함수로 사용한다는 의미이고,\n",
        "SGD는 Gradient Descent Algorithm 중 하나로 확률적경사하강법을 의미합니다. "
      ]
    },
    {
      "cell_type": "code",
      "metadata": {
        "id": "liQW9s2MRRj2",
        "colab_type": "code",
        "colab": {}
      },
      "source": [
        "model.compile(loss='mse', optimizer=SGD(lr=0.1))"
      ],
      "execution_count": null,
      "outputs": []
    },
    {
      "cell_type": "markdown",
      "metadata": {
        "id": "LOQu510eVSud",
        "colab_type": "text"
      },
      "source": [
        "> 자 이제 모델의 생성이 끝났습니다. \n",
        "최종 학습 이전에 모델의 구조를 확인해 볼까요? "
      ]
    },
    {
      "cell_type": "code",
      "metadata": {
        "id": "3tDAAaAeVSLm",
        "colab_type": "code",
        "colab": {
          "base_uri": "https://localhost:8080/",
          "height": 194
        },
        "outputId": "c0b1fa88-63ea-4a2b-d919-456b6412fddd"
      },
      "source": [
        "model.summary()"
      ],
      "execution_count": null,
      "outputs": [
        {
          "output_type": "stream",
          "text": [
            "Model: \"sequential_2\"\n",
            "_________________________________________________________________\n",
            "Layer (type)                 Output Shape              Param #   \n",
            "=================================================================\n",
            "dense_4 (Dense)              (None, 1)                 2         \n",
            "=================================================================\n",
            "Total params: 2\n",
            "Trainable params: 2\n",
            "Non-trainable params: 0\n",
            "_________________________________________________________________\n"
          ],
          "name": "stdout"
        }
      ]
    },
    {
      "cell_type": "markdown",
      "metadata": {
        "id": "5xNMeDr2VnV9",
        "colab_type": "text"
      },
      "source": [
        "> 이제 입력 및 출력 샘플을 가지고 모델을 학습 시킵니다. \n",
        "> 한번에 학습되지 않겠지요? 총 200번 반복하면서 점점 학습의 정확도를 높입니다. 여기서 모든 입력데이터를 전부 사용하여 학습하는 것을 **1 epoch** 학습하였다고 표현합니다. 우리는 200번을 학습시킬 계획이므로 **epochs=200**으로 설정합니다 ."
      ]
    },
    {
      "cell_type": "code",
      "metadata": {
        "id": "fO55DiksVlWd",
        "colab_type": "code",
        "colab": {}
      },
      "source": [
        "history = model.fit(x_train, y_train, epochs=200)"
      ],
      "execution_count": null,
      "outputs": []
    },
    {
      "cell_type": "markdown",
      "metadata": {
        "id": "ndRDDAi33m26",
        "colab_type": "text"
      },
      "source": [
        "> 학습이 진행되는 동안 학습 결과와 실제 출력값의 차리를 나타내는 loss 값이 점차 줄고 있는 것을 확인할 수 있습니다. 학습이 잘 진행되고 있다는 의미겠지요. "
      ]
    },
    {
      "cell_type": "markdown",
      "metadata": {
        "id": "zR2GyR2FWrNu",
        "colab_type": "text"
      },
      "source": [
        "> 그럼, 모델의 학습결과, 즉 모델의 가중치를 확인해 볼까요? \n",
        "w값은 거의 -1, b 값은 거의 1이 나오는 것을 알 수 있지요? "
      ]
    },
    {
      "cell_type": "code",
      "metadata": {
        "id": "Fh2ieLwMWQI2",
        "colab_type": "code",
        "colab": {
          "base_uri": "https://localhost:8080/",
          "height": 52
        },
        "outputId": "a701fcd0-f1d7-4a0a-d8bc-853f88f7c9a9"
      },
      "source": [
        "model.weights"
      ],
      "execution_count": null,
      "outputs": [
        {
          "output_type": "execute_result",
          "data": {
            "text/plain": [
              "[<tf.Variable 'dense_4/kernel:0' shape=(1, 1) dtype=float32, numpy=array([[-0.9986859]], dtype=float32)>,\n",
              " <tf.Variable 'dense_4/bias:0' shape=(1,) dtype=float32, numpy=array([0.99613637], dtype=float32)>]"
            ]
          },
          "metadata": {
            "tags": []
          },
          "execution_count": 22
        }
      ]
    },
    {
      "cell_type": "markdown",
      "metadata": {
        "id": "vXD5XdLi36wg",
        "colab_type": "text"
      },
      "source": [
        "> 학습이 진행되는 동안(epoch) 손실값(실제값과 학습값과의 차이)의 변화를 확인해 보겠습니다. 그래프를 그리는 도구인 matplotlib 모듈을 사용하겠습니다. \n",
        "\n",
        "> 학습이 진행되는 동안 손실값은 history.history라는 변수에 dictionary 형태로 저장되어 있습니다. 따라서 여러분은 다음과 같이 100번의 반복동안 손실함수의 값(mse)을 확인할 수 있습니다. "
      ]
    },
    {
      "cell_type": "code",
      "metadata": {
        "id": "9Jy9JN_M4eCS",
        "colab_type": "code",
        "colab": {
          "base_uri": "https://localhost:8080/",
          "height": 1000
        },
        "outputId": "52f063e4-8204-46b7-adbd-03fffd640c88"
      },
      "source": [
        "history.history"
      ],
      "execution_count": null,
      "outputs": [
        {
          "output_type": "execute_result",
          "data": {
            "text/plain": [
              "{'loss': [38.517608642578125,\n",
              "  17.52765464782715,\n",
              "  8.089747428894043,\n",
              "  3.83931827545166,\n",
              "  1.918734073638916,\n",
              "  1.0449285507202148,\n",
              "  0.6417853236198425,\n",
              "  0.4505993127822876,\n",
              "  0.35517868399620056,\n",
              "  0.3033202290534973,\n",
              "  0.27155202627182007,\n",
              "  0.24930456280708313,\n",
              "  0.23180268704891205,\n",
              "  0.21687448024749756,\n",
              "  0.20351892709732056,\n",
              "  0.19126182794570923,\n",
              "  0.17986717820167542,\n",
              "  0.16920727491378784,\n",
              "  0.15920424461364746,\n",
              "  0.14980380237102509,\n",
              "  0.14096347987651825,\n",
              "  0.13264717161655426,\n",
              "  0.1248224750161171,\n",
              "  0.11745982617139816,\n",
              "  0.11053163558244705,\n",
              "  0.10401222109794617,\n",
              "  0.09787734597921371,\n",
              "  0.09210438281297684,\n",
              "  0.08667190372943878,\n",
              "  0.08155983686447144,\n",
              "  0.0767492800951004,\n",
              "  0.07222248613834381,\n",
              "  0.06796266883611679,\n",
              "  0.06395412981510162,\n",
              "  0.06018199026584625,\n",
              "  0.056632377207279205,\n",
              "  0.05329208821058273,\n",
              "  0.050148822367191315,\n",
              "  0.04719095677137375,\n",
              "  0.04440757632255554,\n",
              "  0.04178832843899727,\n",
              "  0.03932357579469681,\n",
              "  0.03700420260429382,\n",
              "  0.034821633249521255,\n",
              "  0.03276779130101204,\n",
              "  0.030835090205073357,\n",
              "  0.029016394168138504,\n",
              "  0.02730494551360607,\n",
              "  0.02569444477558136,\n",
              "  0.02417895942926407,\n",
              "  0.022752832621335983,\n",
              "  0.02141083963215351,\n",
              "  0.02014799416065216,\n",
              "  0.018959620967507362,\n",
              "  0.01784135028719902,\n",
              "  0.016789043322205544,\n",
              "  0.015798799693584442,\n",
              "  0.014866947196424007,\n",
              "  0.01399006973952055,\n",
              "  0.013164911419153214,\n",
              "  0.01238842774182558,\n",
              "  0.011657742783427238,\n",
              "  0.010970141738653183,\n",
              "  0.010323099792003632,\n",
              "  0.009714232757687569,\n",
              "  0.009141271002590656,\n",
              "  0.008602100424468517,\n",
              "  0.00809473730623722,\n",
              "  0.007617291994392872,\n",
              "  0.007168016862124205,\n",
              "  0.006745230406522751,\n",
              "  0.006347385235130787,\n",
              "  0.005973010789602995,\n",
              "  0.00562070868909359,\n",
              "  0.005289193242788315,\n",
              "  0.004977232310920954,\n",
              "  0.004683664068579674,\n",
              "  0.0044074165634810925,\n",
              "  0.004147454630583525,\n",
              "  0.0039028350729495287,\n",
              "  0.0036726328544318676,\n",
              "  0.0034560179337859154,\n",
              "  0.0032521802932024,\n",
              "  0.003060361836105585,\n",
              "  0.002879851032048464,\n",
              "  0.0027099978178739548,\n",
              "  0.0025501586496829987,\n",
              "  0.002399745862931013,\n",
              "  0.0022582008969038725,\n",
              "  0.0021250115241855383,\n",
              "  0.001999670173972845,\n",
              "  0.0018817288801074028,\n",
              "  0.0017707438673824072,\n",
              "  0.0016662998823449016,\n",
              "  0.0015680212527513504,\n",
              "  0.0014755332376807928,\n",
              "  0.0013885059161111712,\n",
              "  0.001306608784943819,\n",
              "  0.0012295421911403537,\n",
              "  0.0011570220813155174,\n",
              "  0.0010887804673984647,\n",
              "  0.0010245625162497163,\n",
              "  0.0009641298674978316,\n",
              "  0.0009072637185454369,\n",
              "  0.0008537503308616579,\n",
              "  0.0008033972699195147,\n",
              "  0.000756009598262608,\n",
              "  0.0007114199106581509,\n",
              "  0.000669458182528615,\n",
              "  0.0006299735978245735,\n",
              "  0.0005928152240812778,\n",
              "  0.0005578483687713742,\n",
              "  0.0005249465466476977,\n",
              "  0.0004939845530316234,\n",
              "  0.00046484952326864004,\n",
              "  0.00043743071728385985,\n",
              "  0.00041163034620694816,\n",
              "  0.00038735143607482314,\n",
              "  0.0003645053075160831,\n",
              "  0.0003430057258810848,\n",
              "  0.00032277576974593103,\n",
              "  0.0003037361311726272,\n",
              "  0.00028582257800735533,\n",
              "  0.00026896269991993904,\n",
              "  0.0002530993369873613,\n",
              "  0.00023817119654268026,\n",
              "  0.00022412321413867176,\n",
              "  0.0002109034830937162,\n",
              "  0.00019846452050842345,\n",
              "  0.00018675789760891348,\n",
              "  0.00017574333469383419,\n",
              "  0.00016537783085368574,\n",
              "  0.00015562406042590737,\n",
              "  0.00014644456678070128,\n",
              "  0.00013780697190668434,\n",
              "  0.0001296785776503384,\n",
              "  0.00012203054211568087,\n",
              "  0.0001148335068137385,\n",
              "  0.00010806007776409388,\n",
              "  0.00010168715380132198,\n",
              "  9.568879613652825e-05,\n",
              "  9.004558523884043e-05,\n",
              "  8.473347406834364e-05,\n",
              "  7.973633182700723e-05,\n",
              "  7.503328379243612e-05,\n",
              "  7.060711504891515e-05,\n",
              "  6.644259701715782e-05,\n",
              "  6.25242610112764e-05,\n",
              "  5.88366856391076e-05,\n",
              "  5.536639946512878e-05,\n",
              "  5.2100542234256864e-05,\n",
              "  4.9027494242182e-05,\n",
              "  4.6136043238220736e-05,\n",
              "  4.341443127486855e-05,\n",
              "  4.0853454265743494e-05,\n",
              "  3.8444217352662235e-05,\n",
              "  3.6176996218273416e-05,\n",
              "  3.4042721381410956e-05,\n",
              "  3.20353101415094e-05,\n",
              "  3.0145227356115356e-05,\n",
              "  2.8367545382934622e-05,\n",
              "  2.6694444386521354e-05,\n",
              "  2.512018909328617e-05,\n",
              "  2.3638542188564315e-05,\n",
              "  2.2244286810746416e-05,\n",
              "  2.0931995095452294e-05,\n",
              "  1.969770892173983e-05,\n",
              "  1.8535407434683293e-05,\n",
              "  1.7442132957512513e-05,\n",
              "  1.6413749108323827e-05,\n",
              "  1.544540464237798e-05,\n",
              "  1.453438017051667e-05,\n",
              "  1.367720960843144e-05,\n",
              "  1.2870462342107203e-05,\n",
              "  1.2111167961847968e-05,\n",
              "  1.1397018170100637e-05,\n",
              "  1.0724835192377213e-05,\n",
              "  1.0092169759445824e-05,\n",
              "  9.497090104559902e-06,\n",
              "  8.936822268879041e-06,\n",
              "  8.409861038671806e-06,\n",
              "  7.913886292953975e-06,\n",
              "  7.447044026775984e-06,\n",
              "  7.007870408415329e-06,\n",
              "  6.594548722205218e-06,\n",
              "  6.205558747751638e-06,\n",
              "  5.839513050887035e-06,\n",
              "  5.494944616657449e-06,\n",
              "  5.170919394004159e-06,\n",
              "  4.865952178079169e-06,\n",
              "  4.578946573019493e-06,\n",
              "  4.308852112444583e-06,\n",
              "  4.054825694765896e-06,\n",
              "  3.8154803405632265e-06,\n",
              "  3.590414280552068e-06,\n",
              "  3.378747578608454e-06,\n",
              "  3.179361556249205e-06,\n",
              "  2.991840119648259e-06,\n",
              "  2.815437710523838e-06,\n",
              "  2.6494685698708054e-06]}"
            ]
          },
          "metadata": {
            "tags": []
          },
          "execution_count": 23
        }
      ]
    },
    {
      "cell_type": "code",
      "metadata": {
        "id": "HDQBglt64SrO",
        "colab_type": "code",
        "colab": {
          "base_uri": "https://localhost:8080/",
          "height": 294
        },
        "outputId": "5488a877-de25-4512-ce01-58c320bffbf2"
      },
      "source": [
        "# Plot training & validation loss values\n",
        "import matplotlib.pyplot as plt\n",
        "\n",
        "plt.plot(history.history['loss'])\n",
        "plt.title('Model loss')\n",
        "plt.ylabel('Loss')\n",
        "plt.xlabel('Epoch')\n",
        "plt.show()"
      ],
      "execution_count": null,
      "outputs": [
        {
          "output_type": "display_data",
          "data": {
            "image/png": "[encoded data removed]",
            "text/plain": [
              "<Figure size 432x288 with 1 Axes>"
            ]
          },
          "metadata": {
            "tags": [],
            "needs_background": "light"
          }
        }
      ]
    },
    {
      "cell_type": "markdown",
      "metadata": {
        "id": "cRBsXuB_V8pO",
        "colab_type": "text"
      },
      "source": [
        "> 학습이 끝났으니, 이번에는 새로운 데이터(샘플)에 대한 모델의 예측값을 확인해 볼까요? \n",
        "만일 입력데이터 5라는 새로운 샘플이 주어졌을때, 출력은 어떻게 될까요? \n",
        "\n"
      ]
    },
    {
      "cell_type": "code",
      "metadata": {
        "id": "4Rik3PJGV8x-",
        "colab_type": "code",
        "colab": {}
      },
      "source": [
        "y_predict = model.predict(np.array([5]))\n",
        "print(y_predict)"
      ],
      "execution_count": null,
      "outputs": []
    }
  ]
}