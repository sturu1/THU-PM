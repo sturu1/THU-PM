{
  "nbformat": 4,
  "nbformat_minor": 0,
  "metadata": {
    "colab": {
      "name": "Copy of python기초(3).ipynb",
      "provenance": [],
      "collapsed_sections": [],
      "include_colab_link": true
    },
    "kernelspec": {
      "name": "python3",
      "display_name": "Python 3"
    }
  },
  "cells": [
    {
      "cell_type": "markdown",
      "metadata": {
        "id": "view-in-github",
        "colab_type": "text"
      },
      "source": [
        "<a href=\"https://colab.research.google.com/github/sturu1/THU-PM/blob/master/Copy_of_python%EA%B8%B0%EC%B4%88(3).ipynb\" target=\"_parent\"><img src=\"https://colab.research.google.com/assets/colab-badge.svg\" alt=\"Open In Colab\"/></a>"
      ]
    },
    {
      "cell_type": "markdown",
      "metadata": {
        "id": "aLKGxGD9QeH8",
        "colab_type": "text"
      },
      "source": [
        "## 7. 함수\n",
        "> * 함수 : 특정한 기능을 가진 프로그램 단위\n",
        "* 함수의 구성요건 : 이름, 인자(매개변수), 내용, 리턴값\n",
        "* 구조\n",
        "```\n",
        "def 함수이름(매개변수) : \n",
        "    명령문 1\n",
        "    명령문 2\n",
        "     ...\n",
        "    명령문 n\n",
        "    return 결과값\n",
        "```"
      ]
    },
    {
      "cell_type": "code",
      "metadata": {
        "id": "YveuQKONQYkL",
        "colab_type": "code",
        "colab": {}
      },
      "source": [
        "def sum(a,b):\n",
        "  total = a+b\n",
        "  return total"
      ],
      "execution_count": null,
      "outputs": []
    },
    {
      "cell_type": "code",
      "metadata": {
        "id": "4pALWiioRfJf",
        "colab_type": "code",
        "colab": {
          "base_uri": "https://localhost:8080/",
          "height": 34
        },
        "outputId": "9d6ae527-a14c-4027-a308-6f702079b574"
      },
      "source": [
        "sum(10,4)"
      ],
      "execution_count": null,
      "outputs": [
        {
          "output_type": "execute_result",
          "data": {
            "text/plain": [
              "14"
            ]
          },
          "metadata": {
            "tags": []
          },
          "execution_count": 2
        }
      ]
    },
    {
      "cell_type": "code",
      "metadata": {
        "id": "0BhRwdZJRh54",
        "colab_type": "code",
        "colab": {}
      },
      "source": [
        "def area(r):\n",
        "  pi=3.14\n",
        "  return r*r*pi\n",
        "\n",
        "def circum(r):\n",
        "  pi=3.14\n",
        "  return 2*pi*r"
      ],
      "execution_count": null,
      "outputs": []
    },
    {
      "cell_type": "code",
      "metadata": {
        "id": "DgYsTP3NR0tx",
        "colab_type": "code",
        "colab": {
          "base_uri": "https://localhost:8080/",
          "height": 34
        },
        "outputId": "55f13c04-5291-4983-c1ce-2b763cc06f5a"
      },
      "source": [
        "r = int(input(\"원의 반지름은? \"))"
      ],
      "execution_count": null,
      "outputs": [
        {
          "output_type": "stream",
          "text": [
            "원의 반지름은? 10\n"
          ],
          "name": "stdout"
        }
      ]
    },
    {
      "cell_type": "code",
      "metadata": {
        "id": "tC7lptvJR5eA",
        "colab_type": "code",
        "colab": {
          "base_uri": "https://localhost:8080/",
          "height": 34
        },
        "outputId": "4780f663-f84b-4423-b068-340b581c266b"
      },
      "source": [
        "print(\"원의 넓이: {}\".format(area(r)))"
      ],
      "execution_count": null,
      "outputs": [
        {
          "output_type": "stream",
          "text": [
            "원의 넓이: 314.0\n"
          ],
          "name": "stdout"
        }
      ]
    },
    {
      "cell_type": "code",
      "metadata": {
        "id": "ZefnpeT7SD0p",
        "colab_type": "code",
        "colab": {
          "base_uri": "https://localhost:8080/",
          "height": 34
        },
        "outputId": "094a9012-2bc6-4a5e-dcda-ffce20fc93cb"
      },
      "source": [
        "print(\"원의 둘레: %.2f\"% circum(r))"
      ],
      "execution_count": null,
      "outputs": [
        {
          "output_type": "stream",
          "text": [
            "원의 둘레: 62.80\n"
          ],
          "name": "stdout"
        }
      ]
    },
    {
      "cell_type": "markdown",
      "metadata": {
        "id": "oRgybbEpSnuz",
        "colab_type": "text"
      },
      "source": [
        "## 8. 내장함수\n",
        "\n",
        "> 모듈: 여러 변수와 함수를 갖고 있는 집합체\n",
        "* 표준 모듈\n",
        "  * 파이썬에 기본적으로 내장된 모듈\n",
        "  * 별도 설치가 필요 없음\n",
        "* 외부모듈\n",
        "  * 다른 사람들이 만들어서 공개한 모듈\n",
        "  * 사용을 위해서는 설치가 필요함 (pip 명령어 사용)\n",
        " ![대체 텍스트](https://raw.githubusercontent.com/managerj/DL_Lecture/master/module.png)\n",
        "\n",
        "> 모듈의 사용\n",
        "```\n",
        "import math\n",
        "math.수학함수(파리미터)\n",
        "```\n",
        "```\n",
        "import math as m\n",
        "m.수학함수(파라미터)\n",
        "\n",
        "> from 구문\n",
        "* 다양한 함수를 계속해서 입력하는 것의 비효율성\n",
        "* ‘가져오고 싶은 변수 또는 함수’에 여러 개의 변수 또는 함수 입력 가능\n",
        "이를 통해 가져온 기능은 math 붙이지 않고도 사용할 수 있음\n",
        "```\n",
        "from math import sin, cos\n"
      ]
    },
    {
      "cell_type": "code",
      "metadata": {
        "id": "-Mo7Gdx5GdJG",
        "colab_type": "code",
        "colab": {}
      },
      "source": [
        "!pip list"
      ],
      "execution_count": null,
      "outputs": []
    },
    {
      "cell_type": "code",
      "metadata": {
        "id": "AH4FhZ4uGy-f",
        "colab_type": "code",
        "colab": {}
      },
      "source": [
        "import math\n",
        "math."
      ],
      "execution_count": null,
      "outputs": []
    },
    {
      "cell_type": "code",
      "metadata": {
        "id": "yfK-g7kDW5Z3",
        "colab_type": "code",
        "colab": {
          "base_uri": "https://localhost:8080/",
          "height": 50
        },
        "outputId": "1b8c4892-d1af-434c-b21d-252d140a0416"
      },
      "source": [
        "import math \n",
        "print(math.sin(30))\n",
        "print(math.cos(30))"
      ],
      "execution_count": null,
      "outputs": [
        {
          "output_type": "stream",
          "text": [
            "-0.9880316240928618\n",
            "0.15425144988758405\n"
          ],
          "name": "stdout"
        }
      ]
    },
    {
      "cell_type": "code",
      "metadata": {
        "id": "ao-Lc4SOW-7P",
        "colab_type": "code",
        "colab": {
          "base_uri": "https://localhost:8080/",
          "height": 50
        },
        "outputId": "6118f2b1-6135-42dd-b942-727f61b78f92"
      },
      "source": [
        "import math as m\n",
        "print(m.sin(30))\n",
        "print(m.cos(30))"
      ],
      "execution_count": null,
      "outputs": [
        {
          "output_type": "stream",
          "text": [
            "-0.9880316240928618\n",
            "0.15425144988758405\n"
          ],
          "name": "stdout"
        }
      ]
    },
    {
      "cell_type": "code",
      "metadata": {
        "id": "hPKKNRytXEKw",
        "colab_type": "code",
        "colab": {}
      },
      "source": [
        "from math import sin\n",
        "sin(30)"
      ],
      "execution_count": null,
      "outputs": []
    },
    {
      "cell_type": "code",
      "metadata": {
        "id": "UCQw9hYiTEU4",
        "colab_type": "code",
        "colab": {}
      },
      "source": [
        ""
      ],
      "execution_count": null,
      "outputs": []
    }
  ]
}