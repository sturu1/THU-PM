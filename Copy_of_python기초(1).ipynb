{
  "nbformat": 4,
  "nbformat_minor": 0,
  "metadata": {
    "colab": {
      "name": "Copy of python기초(1).ipynb",
      "provenance": [],
      "collapsed_sections": [],
      "include_colab_link": true
    },
    "kernelspec": {
      "name": "python3",
      "display_name": "Python 3"
    }
  },
  "cells": [
    {
      "cell_type": "markdown",
      "metadata": {
        "id": "view-in-github",
        "colab_type": "text"
      },
      "source": [
        "<a href=\"https://colab.research.google.com/github/sturu1/THU-PM/blob/master/Copy_of_python%EA%B8%B0%EC%B4%88(1).ipynb\" target=\"_parent\"><img src=\"https://colab.research.google.com/assets/colab-badge.svg\" alt=\"Open In Colab\"/></a>"
      ]
    },
    {
      "cell_type": "markdown",
      "metadata": {
        "id": "dS0nK3lg_Twr",
        "colab_type": "text"
      },
      "source": [
        "## Python 기초\n",
        "\n",
        "딥러닝을 본격적으로 학습하기에 앞서서 파이썬에 대한 기본 활용 방법을 익혀 봅시다. "
      ]
    },
    {
      "cell_type": "markdown",
      "metadata": {
        "id": "Bdb6bkxu_u-K",
        "colab_type": "text"
      },
      "source": [
        "### 1. 개요\n",
        "\n",
        "* 파이썬은 1989년부터 귀도 반 로섬(Guido van Rossum)이 개발을 시작한 언어\n",
        "\n",
        "* 만인을 위한 프로그래밍(CP4E : Computer Programming for Everybody) 언어로써 발됨\n",
        "\n",
        "* 읽고 쓰기 쉬운 언어\n",
        "\n",
        "* 인터프리트 방식\n",
        "\n",
        "* 생산성이 높고 다른 언어로 작성된 코드와 결합하는 능력이 탁월\n",
        "\n",
        "* 다양하고 풍부한 라이브러리\n",
        "\n",
        "* 무료\n",
        "\n"
      ]
    },
    {
      "cell_type": "markdown",
      "metadata": {
        "id": "0nJlqtSi_6UK",
        "colab_type": "text"
      },
      "source": [
        "### 2. 변수\n",
        "> 변수란? \n",
        "\n",
        "* 변수는 데이터를 담는 메모리 공간\n",
        "* 변수에는 수, 텍스트, 목록, 이미지 데이터 등을 담을 수 있음.\n",
        "\n"
      ]
    },
    {
      "cell_type": "code",
      "metadata": {
        "id": "dGtReWIRvMtN",
        "colab_type": "code",
        "colab": {}
      },
      "source": [
        ""
      ],
      "execution_count": null,
      "outputs": []
    },
    {
      "cell_type": "code",
      "metadata": {
        "id": "YmNYKxJ2ANLY",
        "colab_type": "code",
        "colab": {}
      },
      "source": [
        "a = 2020"
      ],
      "execution_count": null,
      "outputs": []
    },
    {
      "cell_type": "code",
      "metadata": {
        "id": "XEKVznZIAQAk",
        "colab_type": "code",
        "colab": {}
      },
      "source": [
        "print(a)"
      ],
      "execution_count": null,
      "outputs": []
    },
    {
      "cell_type": "code",
      "metadata": {
        "id": "C5aavKQQARlC",
        "colab_type": "code",
        "colab": {}
      },
      "source": [
        "b = a+3030"
      ],
      "execution_count": null,
      "outputs": []
    },
    {
      "cell_type": "code",
      "metadata": {
        "id": "ba8y8dgJAUxK",
        "colab_type": "code",
        "colab": {}
      },
      "source": [
        "b"
      ],
      "execution_count": null,
      "outputs": []
    },
    {
      "cell_type": "code",
      "metadata": {
        "id": "iTsB7X9gAVFh",
        "colab_type": "code",
        "colab": {}
      },
      "source": [
        "a = a - 20"
      ],
      "execution_count": null,
      "outputs": []
    },
    {
      "cell_type": "code",
      "metadata": {
        "id": "aOf8-lpkAXh6",
        "colab_type": "code",
        "colab": {}
      },
      "source": [
        "a"
      ],
      "execution_count": null,
      "outputs": []
    },
    {
      "cell_type": "markdown",
      "metadata": {
        "id": "XNDTarJEAdPy",
        "colab_type": "text"
      },
      "source": [
        "## 3. 자료형 (data type)\n",
        "\n",
        "C언어와달리 파이썬변수는 자료형없음, 변수에 값을 넣으면 자료형 자동지정\n",
        "\n",
        "\n",
        "파이썬은 기본적으로 지원하는 세 종류의 자료형\n",
        "* 정수 (int)\n",
        "* 실수 (float)\n",
        "* 문자/문자열 (str) \n",
        "* bool 형"
      ]
    },
    {
      "cell_type": "code",
      "metadata": {
        "id": "CqC8TvDHAXwK",
        "colab_type": "code",
        "colab": {}
      },
      "source": [
        "a = 3\n",
        "b = 12.3456\n",
        "c='홍길동'"
      ],
      "execution_count": null,
      "outputs": []
    },
    {
      "cell_type": "code",
      "metadata": {
        "id": "pTL0JsfwAvkS",
        "colab_type": "code",
        "colab": {}
      },
      "source": [
        "c"
      ],
      "execution_count": null,
      "outputs": []
    },
    {
      "cell_type": "markdown",
      "metadata": {
        "id": "9AiGaCUrBIRS",
        "colab_type": "text"
      },
      "source": [
        "변수의 type 확인"
      ]
    },
    {
      "cell_type": "code",
      "metadata": {
        "id": "vA4eLPJCAw6i",
        "colab_type": "code",
        "colab": {}
      },
      "source": [
        "type(a)"
      ],
      "execution_count": null,
      "outputs": []
    },
    {
      "cell_type": "code",
      "metadata": {
        "id": "JFqozerqAysD",
        "colab_type": "code",
        "colab": {}
      },
      "source": [
        "b"
      ],
      "execution_count": null,
      "outputs": []
    },
    {
      "cell_type": "code",
      "metadata": {
        "id": "1SjZEC42BArT",
        "colab_type": "code",
        "colab": {}
      },
      "source": [
        "type(b)"
      ],
      "execution_count": null,
      "outputs": []
    },
    {
      "cell_type": "code",
      "metadata": {
        "id": "1LeN9DnRCIdz",
        "colab_type": "code",
        "colab": {}
      },
      "source": [
        "c, type(c)"
      ],
      "execution_count": null,
      "outputs": []
    },
    {
      "cell_type": "markdown",
      "metadata": {
        "id": "z3xzR20hK0tr",
        "colab_type": "text"
      },
      "source": [
        "> bool 형\n",
        "\n",
        "* True와 False 두 가지 값을 나타내는 자료"
      ]
    },
    {
      "cell_type": "code",
      "metadata": {
        "id": "Cug3AF1hK8H3",
        "colab_type": "code",
        "colab": {}
      },
      "source": [
        "x = 3>2"
      ],
      "execution_count": null,
      "outputs": []
    },
    {
      "cell_type": "code",
      "metadata": {
        "id": "Rp0bGIX1LGTJ",
        "colab_type": "code",
        "colab": {}
      },
      "source": [
        "x"
      ],
      "execution_count": null,
      "outputs": []
    },
    {
      "cell_type": "code",
      "metadata": {
        "id": "8WhB20_HLKIB",
        "colab_type": "code",
        "colab": {}
      },
      "source": [
        "type(x)"
      ],
      "execution_count": null,
      "outputs": []
    },
    {
      "cell_type": "code",
      "metadata": {
        "id": "2dq4ZPtgLNyJ",
        "colab_type": "code",
        "colab": {}
      },
      "source": [
        "y = 2<3"
      ],
      "execution_count": null,
      "outputs": []
    },
    {
      "cell_type": "code",
      "metadata": {
        "id": "68AOkG3aLYC4",
        "colab_type": "code",
        "colab": {}
      },
      "source": [
        "y, type(y)"
      ],
      "execution_count": null,
      "outputs": []
    },
    {
      "cell_type": "markdown",
      "metadata": {
        "id": "CzPHxpbIBDr6",
        "colab_type": "text"
      },
      "source": [
        "> 기본 입출력\n",
        "\n",
        "* 기본 출력함수(화면에 출력): print\n",
        "* 기본 입력함수(키보드를 통해 입력): input"
      ]
    },
    {
      "cell_type": "code",
      "metadata": {
        "id": "5MsnIiNxBB1L",
        "colab_type": "code",
        "colab": {}
      },
      "source": [
        "print(\"Hello\")"
      ],
      "execution_count": null,
      "outputs": []
    },
    {
      "cell_type": "code",
      "metadata": {
        "id": "0U_KvpLHx2yq",
        "colab_type": "code",
        "colab": {}
      },
      "source": [
        "temp = input()"
      ],
      "execution_count": null,
      "outputs": []
    },
    {
      "cell_type": "code",
      "metadata": {
        "id": "6sJBhFHtx_zR",
        "colab_type": "code",
        "colab": {}
      },
      "source": [
        "temp, type(temp)"
      ],
      "execution_count": null,
      "outputs": []
    },
    {
      "cell_type": "code",
      "metadata": {
        "id": "4I7QZWpzDUs8",
        "colab_type": "code",
        "colab": {}
      },
      "source": [
        "name = input(\"당신의 이름은 무엇입니까?\")"
      ],
      "execution_count": null,
      "outputs": []
    },
    {
      "cell_type": "code",
      "metadata": {
        "id": "8JCZnuEPDeo6",
        "colab_type": "code",
        "colab": {}
      },
      "source": [
        "name, type(name)"
      ],
      "execution_count": null,
      "outputs": []
    },
    {
      "cell_type": "markdown",
      "metadata": {
        "id": "YVsYELJ_Dz0Z",
        "colab_type": "text"
      },
      "source": [
        "* 상수와 변수를 함께 출력하기\n",
        " * 괄호 안에 출력할 상수와 변수를\n",
        " * 콤마(,) 로 분리하여 나열\n"
      ]
    },
    {
      "cell_type": "code",
      "metadata": {
        "id": "ir_cQ6jPDor6",
        "colab_type": "code",
        "colab": {}
      },
      "source": [
        "name = input(\"이름은? \")"
      ],
      "execution_count": null,
      "outputs": []
    },
    {
      "cell_type": "code",
      "metadata": {
        "id": "UGapZL2HEMAi",
        "colab_type": "code",
        "colab": {}
      },
      "source": [
        "age = int(input(\"나이는?\"))"
      ],
      "execution_count": null,
      "outputs": []
    },
    {
      "cell_type": "code",
      "metadata": {
        "id": "9S9vEv8uyz8j",
        "colab_type": "code",
        "colab": {}
      },
      "source": [
        "type(age)"
      ],
      "execution_count": null,
      "outputs": []
    },
    {
      "cell_type": "code",
      "metadata": {
        "id": "Ptg_gZquERaK",
        "colab_type": "code",
        "colab": {}
      },
      "source": [
        "department = input(\"학과는?\")"
      ],
      "execution_count": null,
      "outputs": []
    },
    {
      "cell_type": "code",
      "metadata": {
        "id": "8giuh2wzEZrS",
        "colab_type": "code",
        "colab": {}
      },
      "source": [
        "print(\"이름: \", name, \"\\n학과: \", department, \"\\n나이: \", age,\"세\")  # \\n은 enter키를 의미"
      ],
      "execution_count": null,
      "outputs": []
    },
    {
      "cell_type": "code",
      "metadata": {
        "id": "n7OHljT3Elzx",
        "colab_type": "code",
        "colab": {}
      },
      "source": [
        "print(\"이름: {}, \\n학과: {}, \\n나이: {}세\".format(name, department, age))"
      ],
      "execution_count": null,
      "outputs": []
    },
    {
      "cell_type": "markdown",
      "metadata": {
        "id": "CeuHvbqMF71S",
        "colab_type": "text"
      },
      "source": [
        "## 4. 자료구조\n",
        "* 자료구조 : 자료를 저장하기 위한 구조(형식)\n",
        "* 자료구조는 변수의 확장이라고 할 수 있음\n",
        "* 파이썬의 자료구조 종류 : list, tuple, dictionary \n"
      ]
    },
    {
      "cell_type": "markdown",
      "metadata": {
        "id": "pshIergEGVvZ",
        "colab_type": "text"
      },
      "source": [
        "### 4.1 list 사용하기\n",
        "* list 구조 : 여러 개의 자료를 연속적으로 저장하는 자료구조\n",
        "* 예, 5명의 수학 성적을 리스트에 저장\n",
        "* 형태 : [a, b, c, ... x] - 대괄호 사용\n",
        "* C언어의 배열과 유사, 파이썬에는 배열이 없음\n",
        "* index(주소)를 통해 자료에 접근할 수 있음\n",
        "\n"
      ]
    },
    {
      "cell_type": "code",
      "metadata": {
        "id": "Cq6GFxaIGpGn",
        "colab_type": "code",
        "colab": {}
      },
      "source": [
        "scores1 = [90, 85, 80, 100, 95]"
      ],
      "execution_count": null,
      "outputs": []
    },
    {
      "cell_type": "code",
      "metadata": {
        "id": "NKrDUmIe1A9O",
        "colab_type": "code",
        "colab": {}
      },
      "source": [
        "scores1"
      ],
      "execution_count": null,
      "outputs": []
    },
    {
      "cell_type": "code",
      "metadata": {
        "id": "VyJIGZmTJcsh",
        "colab_type": "code",
        "colab": {}
      },
      "source": [
        "type(scores1)"
      ],
      "execution_count": null,
      "outputs": []
    },
    {
      "cell_type": "code",
      "metadata": {
        "id": "cnaA7McdGqNc",
        "colab_type": "code",
        "colab": {}
      },
      "source": [
        "# list의 첫번째 자료의 값을 출력: index는 0부터 시작함\n",
        "scores1[0]"
      ],
      "execution_count": null,
      "outputs": []
    },
    {
      "cell_type": "code",
      "metadata": {
        "id": "ZwIa6qIbHK6Z",
        "colab_type": "code",
        "colab": {}
      },
      "source": [
        "# list의 두번째 자료의 값을 출력: index는 0부터 시작함\n",
        "scores1[1]"
      ],
      "execution_count": null,
      "outputs": []
    },
    {
      "cell_type": "code",
      "metadata": {
        "id": "Lkudn49qGwuy",
        "colab_type": "code",
        "colab": {}
      },
      "source": [
        "# list의 마지막 자료의 값을 출력\n",
        "scores1[-1]"
      ],
      "execution_count": null,
      "outputs": []
    },
    {
      "cell_type": "code",
      "metadata": {
        "id": "QDmBZrDpIP65",
        "colab_type": "code",
        "colab": {}
      },
      "source": [
        "# 리스트의 마지막에 값을 추가\n",
        "scores1.append(96)"
      ],
      "execution_count": null,
      "outputs": []
    },
    {
      "cell_type": "code",
      "metadata": {
        "id": "7ShES9W1IYkK",
        "colab_type": "code",
        "colab": {}
      },
      "source": [
        "scores1"
      ],
      "execution_count": null,
      "outputs": []
    },
    {
      "cell_type": "code",
      "metadata": {
        "id": "x44NwoWjIcdo",
        "colab_type": "code",
        "colab": {}
      },
      "source": [
        "# 리스트의 특정 요소의 값을 변경 가능\n",
        "scores1[1] = 100"
      ],
      "execution_count": null,
      "outputs": []
    },
    {
      "cell_type": "code",
      "metadata": {
        "id": "VWdWpAu7Ij8Z",
        "colab_type": "code",
        "colab": {}
      },
      "source": [
        "scores1"
      ],
      "execution_count": null,
      "outputs": []
    },
    {
      "cell_type": "code",
      "metadata": {
        "id": "1AfFRjrEJTeq",
        "colab_type": "code",
        "colab": {}
      },
      "source": [
        "# len() 함수로 list의 길이를 잴 수 있습니다. \n",
        "len(scores1)"
      ],
      "execution_count": null,
      "outputs": []
    },
    {
      "cell_type": "markdown",
      "metadata": {
        "id": "hvgeWcrBHYJJ",
        "colab_type": "text"
      },
      "source": [
        "### 4.2 tuple 사용하기\n",
        "* tuple 구조 : 여러 개의 자료를 연속적으로 저장하는 자료구조\n",
        "* list 구조와 유사 : 여러 개의 자료를 연속적으로 저장\n",
        "* 형태 : (a, b, c, ... x) - 소괄호 사용, 종종 괄호 없이도 사용\n",
        "* list : 한번 생성 하면 항목을 추가, 삭제 가능 – 대괄호 사용\n",
        "* tuple : 한번 생성 하면 변경 못함 – 소괄호 사용 \n"
      ]
    },
    {
      "cell_type": "code",
      "metadata": {
        "id": "NvMytzMXHlLv",
        "colab_type": "code",
        "colab": {}
      },
      "source": [
        "t = (1,2,3,4,5)"
      ],
      "execution_count": null,
      "outputs": []
    },
    {
      "cell_type": "code",
      "metadata": {
        "id": "_A0QfzS9JfQR",
        "colab_type": "code",
        "colab": {}
      },
      "source": [
        "t, type(t)"
      ],
      "execution_count": null,
      "outputs": []
    },
    {
      "cell_type": "code",
      "metadata": {
        "id": "ycx3ZlbTH_Vc",
        "colab_type": "code",
        "colab": {}
      },
      "source": [
        "t[0]"
      ],
      "execution_count": null,
      "outputs": []
    },
    {
      "cell_type": "code",
      "metadata": {
        "id": "RI1jH64sIDhp",
        "colab_type": "code",
        "colab": {}
      },
      "source": [
        "# 튜플 자료구조는 값의 변경이 안됨\n",
        "t[0] = 5  "
      ],
      "execution_count": null,
      "outputs": []
    },
    {
      "cell_type": "markdown",
      "metadata": {
        "id": "sYmOXEg0HqW5",
        "colab_type": "text"
      },
      "source": [
        "### 4.3 dictionary 사용하기\n",
        "* dictionary 구조 : 사전 구조, \n",
        "* key와 value 두 개의 쌍이 하나의 데이터 묶음으로 되어 있고, 이들이 list와 같이 * 연속적으로 구성되는 자료구조\n",
        "* 형태 : {a:a1, b:b1, ..., x:x1} - 중괄호 사용\n",
        "* 각 구성요소는 key와 value 쌍으로 이루어짐\n",
        "* get, del 과 같은 명령을 사용할 수 있음\n"
      ]
    },
    {
      "cell_type": "code",
      "metadata": {
        "id": "Px902df2IpNB",
        "colab_type": "code",
        "colab": {}
      },
      "source": [
        "# 간단한 한영 사전\n",
        "d = {\"강아지\": \"dog\", \"새\": \"bird\", \"고양이\": \"cat\"}"
      ],
      "execution_count": null,
      "outputs": []
    },
    {
      "cell_type": "code",
      "metadata": {
        "id": "zk3USGQrJhD6",
        "colab_type": "code",
        "colab": {}
      },
      "source": [
        "type(d)"
      ],
      "execution_count": null,
      "outputs": []
    },
    {
      "cell_type": "code",
      "metadata": {
        "id": "tAOFY4KII3fH",
        "colab_type": "code",
        "colab": {}
      },
      "source": [
        "# dictionary 자료는 key를 통해 자료에 접근이 가능함\n",
        "d[\"강아지\"]"
      ],
      "execution_count": null,
      "outputs": []
    },
    {
      "cell_type": "code",
      "metadata": {
        "id": "MtoAy0veI81c",
        "colab_type": "code",
        "colab": {}
      },
      "source": [
        "# key만 보고자 할때\n",
        "d.keys()"
      ],
      "execution_count": null,
      "outputs": []
    },
    {
      "cell_type": "code",
      "metadata": {
        "id": "5o2rU_obJEG5",
        "colab_type": "code",
        "colab": {}
      },
      "source": [
        "# value만 보고자 할때 \n",
        "d.values()"
      ],
      "execution_count": null,
      "outputs": []
    },
    {
      "cell_type": "code",
      "metadata": {
        "id": "AYf8lrzOJI5h",
        "colab_type": "code",
        "colab": {}
      },
      "source": [
        "\n",
        "# in 연산자로 딕셔너리의 키 목록 안에 존재하는지를 확인합니다.\n",
        "\n",
        "\"강아지\" in d"
      ],
      "execution_count": null,
      "outputs": []
    },
    {
      "cell_type": "code",
      "metadata": {
        "id": "EfbP4ceEJzay",
        "colab_type": "code",
        "colab": {}
      },
      "source": [
        "\"dog\" in d"
      ],
      "execution_count": null,
      "outputs": []
    }
  ]
}