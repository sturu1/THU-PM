{
  "nbformat": 4,
  "nbformat_minor": 0,
  "metadata": {
    "kernelspec": {
      "display_name": "Python 3",
      "language": "python",
      "name": "python3"
    },
    "language_info": {
      "codemirror_mode": {
        "name": "ipython",
        "version": 3
      },
      "file_extension": ".py",
      "mimetype": "text/x-python",
      "name": "python",
      "nbconvert_exporter": "python",
      "pygments_lexer": "ipython3",
      "version": "3.6.6"
    },
    "colab": {
      "name": "Copy of 4.4.2.1 가중치규제.ipynb",
      "provenance": [],
      "collapsed_sections": [],
      "include_colab_link": true
    }
  },
  "cells": [
    {
      "cell_type": "markdown",
      "metadata": {
        "id": "view-in-github",
        "colab_type": "text"
      },
      "source": [
        "<a href=\"https://colab.research.google.com/github/sturu1/THU-PM/blob/master/Copy_of_4_4_2_1_%EA%B0%80%EC%A4%91%EC%B9%98%EA%B7%9C%EC%A0%9C.ipynb\" target=\"_parent\"><img src=\"https://colab.research.google.com/assets/colab-badge.svg\" alt=\"Open In Colab\"/></a>"
      ]
    },
    {
      "cell_type": "code",
      "metadata": {
        "id": "skgUUOO95d8h",
        "colab_type": "code",
        "colab": {
          "base_uri": "https://localhost:8080/",
          "height": 68
        },
        "outputId": "1e14e878-13c8-4c18-fc38-a17819772939"
      },
      "source": [
        "from keras.datasets import imdb\n",
        "\n",
        "(train_data, train_labels), (test_data, test_labels) = imdb.load_data(num_words=10000)"
      ],
      "execution_count": null,
      "outputs": [
        {
          "output_type": "stream",
          "text": [
            "Using TensorFlow backend.\n"
          ],
          "name": "stderr"
        },
        {
          "output_type": "stream",
          "text": [
            "Downloading data from https://s3.amazonaws.com/text-datasets/imdb.npz\n",
            "17465344/17464789 [==============================] - 0s 0us/step\n"
          ],
          "name": "stdout"
        }
      ]
    },
    {
      "cell_type": "code",
      "metadata": {
        "id": "U48U9Q2-5d89",
        "colab_type": "code",
        "colab": {}
      },
      "source": [
        "import numpy as np\n",
        "\n",
        "def vectorize_sequences(sequences, dimension=10000):\n",
        "    # 크기가 (len(sequences), dimension))이고 모든 원소가 0인 행렬을 만듭니다\n",
        "    results = np.zeros((len(sequences), dimension))\n",
        "    for i, sequence in enumerate(sequences):\n",
        "        results[i, sequence] = 1.  # results[i]에서 특정 인덱스의 위치를 1로 만듭니다\n",
        "    return results"
      ],
      "execution_count": null,
      "outputs": []
    },
    {
      "cell_type": "code",
      "metadata": {
        "id": "Kzuo-EqkIjuz",
        "colab_type": "code",
        "colab": {}
      },
      "source": [
        "# 훈련 데이터를 벡터로 변환합니다\n",
        "x_train = vectorize_sequences(train_data)\n",
        "# 테스트 데이터를 벡터로 변환합니다\n",
        "x_test = vectorize_sequences(test_data)"
      ],
      "execution_count": null,
      "outputs": []
    },
    {
      "cell_type": "code",
      "metadata": {
        "id": "fGoYIb8F5d9J",
        "colab_type": "code",
        "colab": {}
      },
      "source": [
        "# 레이블을 벡터로 바꿉니다\n",
        "y_train = np.asarray(train_labels).astype('float32')\n",
        "y_test = np.asarray(test_labels).astype('float32')"
      ],
      "execution_count": null,
      "outputs": []
    },
    {
      "cell_type": "markdown",
      "metadata": {
        "id": "LTNYgpMUImiN",
        "colab_type": "text"
      },
      "source": [
        "혹은 다음과 같이 코딩하여도 결과는 동일합니다. \n",
        "\n",
        "`y_train = np.array(train_labels, dtype=np.float32)`"
      ]
    },
    {
      "cell_type": "markdown",
      "metadata": {
        "id": "aoCKOPtI5d9g",
        "colab_type": "text"
      },
      "source": [
        "## 훈련 검증\n",
        "\n",
        "훈련하는 동안 처음 본 데이터에 대한 모델의 정확도를 측정하기 위해서는 원본 훈련 데이터에서 10,000의 샘플을 떼어서 검증 세트를 만들어야 합니다:"
      ]
    },
    {
      "cell_type": "code",
      "metadata": {
        "id": "B2ioqSNk5d9g",
        "colab_type": "code",
        "colab": {}
      },
      "source": [
        "#validation datset\n",
        "x_val = x_train[:10000]\n",
        "# train dataset\n",
        "partial_x_train = x_train[10000:]\n",
        "\n",
        "y_val = y_train[:10000]\n",
        "partial_y_train = y_train[10000:]"
      ],
      "execution_count": null,
      "outputs": []
    },
    {
      "cell_type": "code",
      "metadata": {
        "id": "9M0-xec5LFq4",
        "colab_type": "code",
        "colab": {
          "base_uri": "https://localhost:8080/",
          "height": 34
        },
        "outputId": "cbf235b9-d735-4e9f-c0e1-ccb32c55429d"
      },
      "source": [
        "x_val.shape, y_val.shape, partial_x_train.shape, partial_y_train.shape"
      ],
      "execution_count": null,
      "outputs": [
        {
          "output_type": "execute_result",
          "data": {
            "text/plain": [
              "((10000, 10000), (10000,), (15000, 10000), (15000,))"
            ]
          },
          "metadata": {
            "tags": []
          },
          "execution_count": 6
        }
      ]
    },
    {
      "cell_type": "code",
      "metadata": {
        "id": "cMwz3Z1qw0Pz",
        "colab_type": "code",
        "colab": {}
      },
      "source": [
        "from keras import models\n",
        "from keras import layers\n",
        "from keras import optimizers"
      ],
      "execution_count": null,
      "outputs": []
    },
    {
      "cell_type": "code",
      "metadata": {
        "id": "nlJsWvmExH_K",
        "colab_type": "code",
        "colab": {}
      },
      "source": [
        "# 원레 네트워크\n",
        "model = models.Sequential()\n",
        "model.add(layers.Dense(units=16, input_shape=(10000,), activation='relu'))\n",
        "model.add(layers.Dense(units=16, activation='relu'))\n",
        "model.add(layers.Dense(units=1, activation='sigmoid'))"
      ],
      "execution_count": null,
      "outputs": []
    },
    {
      "cell_type": "code",
      "metadata": {
        "id": "F35Yr63Axm3U",
        "colab_type": "code",
        "colab": {}
      },
      "source": [
        "model.compile(optimizer=optimizers.RMSprop(lr=0.001), loss='binary_crossentropy', metrics=['accuracy'])"
      ],
      "execution_count": null,
      "outputs": []
    },
    {
      "cell_type": "code",
      "metadata": {
        "id": "7GtrSqi4yn5A",
        "colab_type": "code",
        "colab": {}
      },
      "source": [
        "history = model.fit(partial_x_train, partial_y_train, epochs=20, batch_size=512, validation_data=(x_val, y_val))"
      ],
      "execution_count": null,
      "outputs": []
    },
    {
      "cell_type": "code",
      "metadata": {
        "id": "99xiz_yB5d9t",
        "colab_type": "code",
        "colab": {
          "base_uri": "https://localhost:8080/",
          "height": 295
        },
        "outputId": "0193d2d6-016b-4c44-f4ef-c72d576906a2"
      },
      "source": [
        "import matplotlib.pyplot as plt\n",
        "\n",
        "loss = history.history['loss']\n",
        "val_loss_origin = history.history['val_loss']\n",
        "\n",
        "epochs = range(1, 20 + 1)\n",
        "\n",
        "# ‘bo’는 파란색 점을 의미합니다\n",
        "plt.plot(epochs, loss, 'bo', label='Training loss')\n",
        "# ‘b’는 파란색 실선을 의미합니다\n",
        "plt.plot(epochs, val_loss_origin, 'b', label='Validation loss')\n",
        "plt.title('Training and validation loss')\n",
        "plt.xlabel('Epochs')\n",
        "plt.ylabel('Loss')\n",
        "plt.legend()  # 범례를 그래프 상에 표시합니다. \n",
        "\n",
        "plt.show()"
      ],
      "execution_count": null,
      "outputs": [
        {
          "output_type": "display_data",
          "data": {
            "image/png": "[encoded data removed]",
            "text/plain": [
              "<Figure size 432x288 with 1 Axes>"
            ]
          },
          "metadata": {
            "tags": [],
            "needs_background": "light"
          }
        }
      ]
    },
    {
      "cell_type": "markdown",
      "metadata": {
        "id": "FvxtDdGhGAwW",
        "colab_type": "text"
      },
      "source": [
        "여기까지가 3장에서 살펴본 모델과 그 성능입니다. \n",
        "가중치 규제를 추가해 보겠습니다. "
      ]
    },
    {
      "cell_type": "code",
      "metadata": {
        "id": "Lx41HEV6dMpX",
        "colab_type": "code",
        "colab": {}
      },
      "source": [
        "from keras import regularizers"
      ],
      "execution_count": null,
      "outputs": []
    },
    {
      "cell_type": "code",
      "metadata": {
        "id": "hndSZORTdQfT",
        "colab_type": "code",
        "colab": {}
      },
      "source": [
        "model = models.Sequential()"
      ],
      "execution_count": null,
      "outputs": []
    },
    {
      "cell_type": "code",
      "metadata": {
        "id": "zjNkuEa-dYAo",
        "colab_type": "code",
        "colab": {}
      },
      "source": [
        "model.add(layers.Dense(units=16, input_shape=(10000,), activation='relu', kernel_regularizer=regularizers.l2(0.001)))"
      ],
      "execution_count": null,
      "outputs": []
    },
    {
      "cell_type": "code",
      "metadata": {
        "id": "JVdkvdjBd5co",
        "colab_type": "code",
        "colab": {}
      },
      "source": [
        "model.add(layers.Dense(16, activation='relu', kernel_regularizer=regularizers.l2(0.001)))"
      ],
      "execution_count": null,
      "outputs": []
    },
    {
      "cell_type": "code",
      "metadata": {
        "id": "cui2UkwVeKTV",
        "colab_type": "code",
        "colab": {}
      },
      "source": [
        "model.add(layers.Dense(1, activation='sigmoid'))"
      ],
      "execution_count": null,
      "outputs": []
    },
    {
      "cell_type": "code",
      "metadata": {
        "id": "GGdaN1RoeO71",
        "colab_type": "code",
        "colab": {}
      },
      "source": [
        "model.compile(optimizer=optimizers.RMSprop(lr=0.001), loss='binary_crossentropy', metrics=['accuracy'])"
      ],
      "execution_count": null,
      "outputs": []
    },
    {
      "cell_type": "code",
      "metadata": {
        "id": "TvZgOIXUedS2",
        "colab_type": "code",
        "colab": {
          "base_uri": "https://localhost:8080/",
          "height": 714
        },
        "outputId": "b1adee2b-5f07-4728-92a2-751452b5d402"
      },
      "source": [
        "history = model.fit(partial_x_train, partial_y_train, epochs=20, batch_size=512, validation_data=(x_val, y_val))"
      ],
      "execution_count": null,
      "outputs": [
        {
          "output_type": "stream",
          "text": [
            "Train on 15000 samples, validate on 10000 samples\n",
            "Epoch 1/20\n",
            "15000/15000 [==============================] - 2s 108us/step - loss: 0.5425 - accuracy: 0.7993 - val_loss: 0.4260 - val_accuracy: 0.8668\n",
            "Epoch 2/20\n",
            "15000/15000 [==============================] - 1s 95us/step - loss: 0.3504 - accuracy: 0.8985 - val_loss: 0.3534 - val_accuracy: 0.8847\n",
            "Epoch 3/20\n",
            "15000/15000 [==============================] - 1s 98us/step - loss: 0.2820 - accuracy: 0.9234 - val_loss: 0.3310 - val_accuracy: 0.8884\n",
            "Epoch 4/20\n",
            "15000/15000 [==============================] - 1s 97us/step - loss: 0.2485 - accuracy: 0.9339 - val_loss: 0.3287 - val_accuracy: 0.8874\n",
            "Epoch 5/20\n",
            "15000/15000 [==============================] - 1s 95us/step - loss: 0.2251 - accuracy: 0.9432 - val_loss: 0.3442 - val_accuracy: 0.8837\n",
            "Epoch 6/20\n",
            "15000/15000 [==============================] - 1s 96us/step - loss: 0.2100 - accuracy: 0.9489 - val_loss: 0.3589 - val_accuracy: 0.8806\n",
            "Epoch 7/20\n",
            "15000/15000 [==============================] - 1s 96us/step - loss: 0.1985 - accuracy: 0.9550 - val_loss: 0.3461 - val_accuracy: 0.8839\n",
            "Epoch 8/20\n",
            "15000/15000 [==============================] - 1s 96us/step - loss: 0.1904 - accuracy: 0.9578 - val_loss: 0.3615 - val_accuracy: 0.8826\n",
            "Epoch 9/20\n",
            "15000/15000 [==============================] - 1s 94us/step - loss: 0.1852 - accuracy: 0.9589 - val_loss: 0.3625 - val_accuracy: 0.8815\n",
            "Epoch 10/20\n",
            "15000/15000 [==============================] - 1s 97us/step - loss: 0.1742 - accuracy: 0.9640 - val_loss: 0.3687 - val_accuracy: 0.8820\n",
            "Epoch 11/20\n",
            "15000/15000 [==============================] - 1s 98us/step - loss: 0.1683 - accuracy: 0.9667 - val_loss: 0.4326 - val_accuracy: 0.8647\n",
            "Epoch 12/20\n",
            "15000/15000 [==============================] - 1s 96us/step - loss: 0.1652 - accuracy: 0.9675 - val_loss: 0.4052 - val_accuracy: 0.8746\n",
            "Epoch 13/20\n",
            "15000/15000 [==============================] - 1s 96us/step - loss: 0.1620 - accuracy: 0.9679 - val_loss: 0.4085 - val_accuracy: 0.8703\n",
            "Epoch 14/20\n",
            "15000/15000 [==============================] - 1s 96us/step - loss: 0.1571 - accuracy: 0.9698 - val_loss: 0.4044 - val_accuracy: 0.8752\n",
            "Epoch 15/20\n",
            "15000/15000 [==============================] - 1s 97us/step - loss: 0.1530 - accuracy: 0.9725 - val_loss: 0.4166 - val_accuracy: 0.8715\n",
            "Epoch 16/20\n",
            "15000/15000 [==============================] - 1s 96us/step - loss: 0.1579 - accuracy: 0.9691 - val_loss: 0.4195 - val_accuracy: 0.8728\n",
            "Epoch 17/20\n",
            "15000/15000 [==============================] - 1s 97us/step - loss: 0.1457 - accuracy: 0.9762 - val_loss: 0.4222 - val_accuracy: 0.8763\n",
            "Epoch 18/20\n",
            "15000/15000 [==============================] - 1s 99us/step - loss: 0.1437 - accuracy: 0.9758 - val_loss: 0.4530 - val_accuracy: 0.8699\n",
            "Epoch 19/20\n",
            "15000/15000 [==============================] - 1s 98us/step - loss: 0.1458 - accuracy: 0.9747 - val_loss: 0.4343 - val_accuracy: 0.8745\n",
            "Epoch 20/20\n",
            "15000/15000 [==============================] - 1s 96us/step - loss: 0.1412 - accuracy: 0.9785 - val_loss: 0.4513 - val_accuracy: 0.8690\n"
          ],
          "name": "stdout"
        }
      ]
    },
    {
      "cell_type": "code",
      "metadata": {
        "id": "AMSjVMPKexr2",
        "colab_type": "code",
        "colab": {
          "base_uri": "https://localhost:8080/",
          "height": 295
        },
        "outputId": "4810ab9c-740f-4948-a000-977f7f437ae7"
      },
      "source": [
        "import matplotlib.pyplot as plt\n",
        "\n",
        "loss = history.history['loss']\n",
        "val_loss_regul = history.history['val_loss']\n",
        "\n",
        "epochs = range(1, 20 + 1)\n",
        "\n",
        "# ‘bo’는 파란색 점을 의미합니다\n",
        "plt.plot(epochs, loss, 'bo', label='Training loss')\n",
        "# ‘b’는 파란색 실선을 의미합니다\n",
        "plt.plot(epochs, val_loss_regul, 'b', label='Validation loss')\n",
        "plt.title('Training and validation loss')\n",
        "plt.xlabel('Epochs')\n",
        "plt.ylabel('Loss')\n",
        "plt.legend()  # 범례를 그래프 상에 표시합니다. \n",
        "\n",
        "plt.show()"
      ],
      "execution_count": null,
      "outputs": [
        {
          "output_type": "display_data",
          "data": {
            "image/png": "[encoded data removed]",
            "text/plain": [
              "<Figure size 432x288 with 1 Axes>"
            ]
          },
          "metadata": {
            "tags": [],
            "needs_background": "light"
          }
        }
      ]
    },
    {
      "cell_type": "code",
      "metadata": {
        "id": "YeUdIA0LfNjz",
        "colab_type": "code",
        "colab": {
          "base_uri": "https://localhost:8080/",
          "height": 295
        },
        "outputId": "109eb2cf-917f-40f1-a2a6-93af78187158"
      },
      "source": [
        "import matplotlib.pyplot as plt\n",
        "\n",
        "epochs = range(1, 20 + 1)\n",
        "\n",
        "plt.plot(epochs, val_loss_origin, 'b+', label='Validation loss origin')\n",
        "plt.plot(epochs, val_loss_regul, 'b', label='Validation loss regul')\n",
        "plt.title('Training and validation loss')\n",
        "plt.xlabel('Epochs')\n",
        "plt.ylabel('Loss')\n",
        "plt.legend()  # 범례를 그래프 상에 표시합니다. \n",
        "\n",
        "plt.show()"
      ],
      "execution_count": 33,
      "outputs": [
        {
          "output_type": "display_data",
          "data": {
            "image/png": "[encoded data removed]",
            "text/plain": [
              "<Figure size 432x288 with 1 Axes>"
            ]
          },
          "metadata": {
            "tags": [],
            "needs_background": "light"
          }
        }
      ]
    },
    {
      "cell_type": "code",
      "metadata": {
        "id": "HzQ0C8MLfkEl",
        "colab_type": "code",
        "colab": {}
      },
      "source": [
        ""
      ],
      "execution_count": null,
      "outputs": []
    }
  ]
}