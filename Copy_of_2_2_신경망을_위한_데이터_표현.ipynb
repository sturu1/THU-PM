{
  "nbformat": 4,
  "nbformat_minor": 0,
  "metadata": {
    "colab": {
      "name": "Copy of 2.2 신경망을 위한 데이터 표현.ipynb",
      "provenance": [],
      "collapsed_sections": [],
      "include_colab_link": true
    },
    "kernelspec": {
      "name": "python3",
      "display_name": "Python 3"
    }
  },
  "cells": [
    {
      "cell_type": "markdown",
      "metadata": {
        "id": "view-in-github",
        "colab_type": "text"
      },
      "source": [
        "<a href=\"https://colab.research.google.com/github/sturu1/THU-PM/blob/master/Copy_of_2_2_%EC%8B%A0%EA%B2%BD%EB%A7%9D%EC%9D%84_%EC%9C%84%ED%95%9C_%EB%8D%B0%EC%9D%B4%ED%84%B0_%ED%91%9C%ED%98%84.ipynb\" target=\"_parent\"><img src=\"https://colab.research.google.com/assets/colab-badge.svg\" alt=\"Open In Colab\"/></a>"
      ]
    },
    {
      "cell_type": "markdown",
      "metadata": {
        "id": "ElMjawteZAPs",
        "colab_type": "text"
      },
      "source": [
        "# 2.2 신경망을 위한 데이터 표현\n",
        "----\n",
        "\n",
        "텐서의 개념 파악\n",
        "\n",
        "텐서: 다지원 넘파이 배열\n",
        "\n",
        "텐서의 차원: 축(axis), rank(축의 개수)\n",
        "\n",
        "---\n",
        "\n",
        "이전 예제에서 텐서(tensor)라 부르는 다차원 넘파이 배열에 데이터를 저장하는 것부터 시작했습니다.8 최근의 모든 머신 러닝 시스템은 일반적으로 텐서를 기본 데이터 구조로 사용합니다. 텐서는 머신 러닝의 기본 구성 요소입니다. 구글의 텐서플로 이름을 여기에서 따왔습니다. 그럼 텐서는 무엇일까요?    핵심적으로 텐서는 데이터를 위한 컨테이너(container)입니다. 거의 항상 수치형 데이터를 다루므로 숫자를 위한 컨테이너입니다. 아마 2D 텐서인 행렬에 대해 이미 알고 있을 것입니다. 텐서는 임의의 차원 개수를 가지는 행렬의 일반화된 모습입니다(텐서에서는 차원(dimension)을 종종 축(axis)이라고 부릅니다).\n"
      ]
    },
    {
      "cell_type": "markdown",
      "metadata": {
        "id": "Nn_aXv0MaQNy",
        "colab_type": "text"
      },
      "source": [
        "##2.2.1 스칼라(0D 텐서)\n",
        "\n",
        "하나의 숫자만 담고 있는 텐서를 스칼라(scalar)(또는 스칼라 텐서, 0차원 텐서, 0D 텐서)라고 부릅니다. 넘파이에서는 float32나 float64 타입의 숫자가 스칼라 텐서(또는 배열 스칼라(array scalar)9)입니다. ndim 속성을 사용하면 넘파이 배열의 축 개수를 확인할 수 있습니다. 스칼라 텐서의 축 개수는 0입니다(ndim == 0). 텐서의 축 개수를 랭크(rank)라고도 부릅니다.10 다음이 스칼라 텐서입니다."
      ]
    },
    {
      "cell_type": "markdown",
      "metadata": {
        "id": "d2NvAEkgaSfK",
        "colab_type": "text"
      },
      "source": [
        "(1) 0D 텐서의 생성"
      ]
    },
    {
      "cell_type": "code",
      "metadata": {
        "id": "E-gmKLQFZnfD",
        "colab_type": "code",
        "colab": {}
      },
      "source": [
        "import numpy as np\n",
        "x = np.array(12)"
      ],
      "execution_count": null,
      "outputs": []
    },
    {
      "cell_type": "markdown",
      "metadata": {
        "id": "PjIT0IYiaFLK",
        "colab_type": "text"
      },
      "source": [
        "(2) 텐서의 rank 확인하기"
      ]
    },
    {
      "cell_type": "code",
      "metadata": {
        "id": "nWILWcjaZvbR",
        "colab_type": "code",
        "colab": {
          "base_uri": "https://localhost:8080/",
          "height": 34
        },
        "outputId": "27f8c52c-573a-407e-c9ea-c9d18115bc62"
      },
      "source": [
        "x.ndim"
      ],
      "execution_count": null,
      "outputs": [
        {
          "output_type": "execute_result",
          "data": {
            "text/plain": [
              "0"
            ]
          },
          "metadata": {
            "tags": []
          },
          "execution_count": 2
        }
      ]
    },
    {
      "cell_type": "markdown",
      "metadata": {
        "id": "kCqlTNvEd_OB",
        "colab_type": "text"
      },
      "source": [
        "(3) 텐서의 shape 확인하기"
      ]
    },
    {
      "cell_type": "code",
      "metadata": {
        "id": "pOuuYWDYeB4Z",
        "colab_type": "code",
        "colab": {
          "base_uri": "https://localhost:8080/",
          "height": 34
        },
        "outputId": "80f5e4ff-030e-4920-8d4c-7de262078229"
      },
      "source": [
        "x.shape"
      ],
      "execution_count": null,
      "outputs": [
        {
          "output_type": "execute_result",
          "data": {
            "text/plain": [
              "()"
            ]
          },
          "metadata": {
            "tags": []
          },
          "execution_count": 3
        }
      ]
    },
    {
      "cell_type": "markdown",
      "metadata": {
        "id": "-cDsIbtxacq6",
        "colab_type": "text"
      },
      "source": [
        "##2.2.2 벡터(1D 텐서)\n",
        "\n",
        "숫자의 배열을 벡터(vector) 또는 1D 텐서라고 부릅니다. 1D 텐서는 딱 하나의 축을 가집니다. 넘파이에서 벡터를 나타내면 다음과 같습니다."
      ]
    },
    {
      "cell_type": "markdown",
      "metadata": {
        "id": "_FeYJN5Xa3pS",
        "colab_type": "text"
      },
      "source": [
        "(1) 1D 텐서의 생성"
      ]
    },
    {
      "cell_type": "code",
      "metadata": {
        "id": "qpy-cqIyancj",
        "colab_type": "code",
        "colab": {
          "base_uri": "https://localhost:8080/",
          "height": 34
        },
        "outputId": "6dc203a5-94bd-483b-e127-26e3a623de70"
      },
      "source": [
        "x=np.array([12,3,6,14,7])\n",
        "x"
      ],
      "execution_count": null,
      "outputs": [
        {
          "output_type": "execute_result",
          "data": {
            "text/plain": [
              "array([12,  3,  6, 14,  7])"
            ]
          },
          "metadata": {
            "tags": []
          },
          "execution_count": 4
        }
      ]
    },
    {
      "cell_type": "markdown",
      "metadata": {
        "id": "mevn8m3ba8da",
        "colab_type": "text"
      },
      "source": [
        "(2) 텐서의 rank 확인하기"
      ]
    },
    {
      "cell_type": "code",
      "metadata": {
        "id": "eMoSeq78atCB",
        "colab_type": "code",
        "colab": {
          "base_uri": "https://localhost:8080/",
          "height": 34
        },
        "outputId": "8bbef9a3-85bf-45bb-9d2e-3c57dee502a4"
      },
      "source": [
        "x.ndim"
      ],
      "execution_count": null,
      "outputs": [
        {
          "output_type": "execute_result",
          "data": {
            "text/plain": [
              "1"
            ]
          },
          "metadata": {
            "tags": []
          },
          "execution_count": 5
        }
      ]
    },
    {
      "cell_type": "markdown",
      "metadata": {
        "colab_type": "text",
        "id": "N4KA-gWZeKzl"
      },
      "source": [
        "(3) 텐서의 shape 확인하기"
      ]
    },
    {
      "cell_type": "code",
      "metadata": {
        "colab_type": "code",
        "id": "v2rlYG07eTHS",
        "colab": {
          "base_uri": "https://localhost:8080/",
          "height": 34
        },
        "outputId": "671d61f8-feec-4962-ddf0-fca5ecf7aeb3"
      },
      "source": [
        "x.shape"
      ],
      "execution_count": null,
      "outputs": [
        {
          "output_type": "execute_result",
          "data": {
            "text/plain": [
              "(5,)"
            ]
          },
          "metadata": {
            "tags": []
          },
          "execution_count": 6
        }
      ]
    },
    {
      "cell_type": "markdown",
      "metadata": {
        "id": "EPVvob4kbaHp",
        "colab_type": "text"
      },
      "source": [
        "## 2.2.3 행렬(2D 텐서)\n",
        "\n",
        "벡터의 배열이 행렬(matrix) 또는 2D 텐서입니다. 행렬에는 2개의 축이 있습니다(보통 행(row)과 열(column)이라고 부릅니다). 행렬은 숫자가 채워진 사각 격자라고 생각할 수 있습니다. 넘파이에서 행렬을 나타내면 다음과 같습니다."
      ]
    },
    {
      "cell_type": "markdown",
      "metadata": {
        "id": "RGfjZM8PbxKi",
        "colab_type": "text"
      },
      "source": [
        "(1) 2D 텐서의 생성\n"
      ]
    },
    {
      "cell_type": "code",
      "metadata": {
        "id": "RZRaNgz3bilL",
        "colab_type": "code",
        "colab": {
          "base_uri": "https://localhost:8080/",
          "height": 67
        },
        "outputId": "a47c935a-6caa-47a4-e5de-9f30675cb83c"
      },
      "source": [
        "x = np.array([[5,78,2,34,0],\n",
        "              [6,79,3,35,1],\n",
        "              [7,80,4,36,2]])\n",
        "x"
      ],
      "execution_count": null,
      "outputs": [
        {
          "output_type": "execute_result",
          "data": {
            "text/plain": [
              "array([[ 5, 78,  2, 34,  0],\n",
              "       [ 6, 79,  3, 35,  1],\n",
              "       [ 7, 80,  4, 36,  2]])"
            ]
          },
          "metadata": {
            "tags": []
          },
          "execution_count": 7
        }
      ]
    },
    {
      "cell_type": "markdown",
      "metadata": {
        "id": "Qgquvhwxb_rR",
        "colab_type": "text"
      },
      "source": [
        "(2) 텐서의 rank 확인하기"
      ]
    },
    {
      "cell_type": "code",
      "metadata": {
        "id": "BzLOE0t7b-fJ",
        "colab_type": "code",
        "colab": {
          "base_uri": "https://localhost:8080/",
          "height": 34
        },
        "outputId": "7abdc901-8686-4b00-82b0-f695d93da038"
      },
      "source": [
        "x.ndim"
      ],
      "execution_count": null,
      "outputs": [
        {
          "output_type": "execute_result",
          "data": {
            "text/plain": [
              "2"
            ]
          },
          "metadata": {
            "tags": []
          },
          "execution_count": 8
        }
      ]
    },
    {
      "cell_type": "markdown",
      "metadata": {
        "colab_type": "text",
        "id": "IzG-8Op9eMJz"
      },
      "source": [
        "(3) 텐서의 shape 확인하기"
      ]
    },
    {
      "cell_type": "code",
      "metadata": {
        "colab_type": "code",
        "id": "hOPrVpX5eP0j",
        "colab": {
          "base_uri": "https://localhost:8080/",
          "height": 34
        },
        "outputId": "e04857a6-7764-4018-a145-7e7d38fa499f"
      },
      "source": [
        "x.shape"
      ],
      "execution_count": null,
      "outputs": [
        {
          "output_type": "execute_result",
          "data": {
            "text/plain": [
              "(3, 5)"
            ]
          },
          "metadata": {
            "tags": []
          },
          "execution_count": 9
        }
      ]
    },
    {
      "cell_type": "markdown",
      "metadata": {
        "id": "0urkShRtzEh2",
        "colab_type": "text"
      },
      "source": [
        "첫 번째 축에 놓여 있는 원소를 행이라 부르고, 두 번째 축에 놓여 있는 원소를 열이라 부릅니다. 앞의 예에서는 x의 첫 번째 행은 [5, 78, 2, 34, 0]이고, 첫 번째 열은 [5, 6, 7]입니다"
      ]
    },
    {
      "cell_type": "markdown",
      "metadata": {
        "id": "P5A0VXTWcN7J",
        "colab_type": "text"
      },
      "source": [
        "## 2.2.4 3D텐서와 고차원 텐서\n",
        "\n",
        "이런 행렬들을 하나의 새로운 배열로 합치면 숫자가 채워진 직육면체 형태로 해석할 수 있는 3D 텐서가 만들어집니다. 넘파이에서 3D 텐서를 나타내면 다음과 같습니다."
      ]
    },
    {
      "cell_type": "markdown",
      "metadata": {
        "id": "dmimjn-YcUTR",
        "colab_type": "text"
      },
      "source": [
        "(1) 3D 텐서 셍성"
      ]
    },
    {
      "cell_type": "code",
      "metadata": {
        "id": "JUjPT2TWcXab",
        "colab_type": "code",
        "colab": {
          "base_uri": "https://localhost:8080/",
          "height": 202
        },
        "outputId": "b0d5072f-780e-4c3e-a1f8-e3d2e05c9ae3"
      },
      "source": [
        "x = np.array([[[5,78,2,34,0],\n",
        "               [6,79,3,35,1],\n",
        "               [7,80,4,36,2]],\n",
        "              [[5, 78,2,34,0],\n",
        "               [6,79,3,35,1],\n",
        "               [7,80,4,36,2]],\n",
        "              [[5,78,2,34,0],\n",
        "               [6,79,3,35,1],\n",
        "               [7,80,4,36,2]]])\n",
        "x"
      ],
      "execution_count": null,
      "outputs": [
        {
          "output_type": "execute_result",
          "data": {
            "text/plain": [
              "array([[[ 5, 78,  2, 34,  0],\n",
              "        [ 6, 79,  3, 35,  1],\n",
              "        [ 7, 80,  4, 36,  2]],\n",
              "\n",
              "       [[ 5, 78,  2, 34,  0],\n",
              "        [ 6, 79,  3, 35,  1],\n",
              "        [ 7, 80,  4, 36,  2]],\n",
              "\n",
              "       [[ 5, 78,  2, 34,  0],\n",
              "        [ 6, 79,  3, 35,  1],\n",
              "        [ 7, 80,  4, 36,  2]]])"
            ]
          },
          "metadata": {
            "tags": []
          },
          "execution_count": 10
        }
      ]
    },
    {
      "cell_type": "markdown",
      "metadata": {
        "colab_type": "text",
        "id": "Rsd0oazhdCdZ"
      },
      "source": [
        "(2) 텐서의 rank 확인하기"
      ]
    },
    {
      "cell_type": "code",
      "metadata": {
        "id": "kaBWoD7WcMWQ",
        "colab_type": "code",
        "colab": {
          "base_uri": "https://localhost:8080/",
          "height": 34
        },
        "outputId": "934c7191-7ec9-432f-cd50-a8ec317b6d6e"
      },
      "source": [
        "x.ndim"
      ],
      "execution_count": null,
      "outputs": [
        {
          "output_type": "execute_result",
          "data": {
            "text/plain": [
              "3"
            ]
          },
          "metadata": {
            "tags": []
          },
          "execution_count": 11
        }
      ]
    },
    {
      "cell_type": "markdown",
      "metadata": {
        "colab_type": "text",
        "id": "Cp5Ojb1UeNLb"
      },
      "source": [
        "(3) 텐서의 shape 확인하기"
      ]
    },
    {
      "cell_type": "code",
      "metadata": {
        "colab_type": "code",
        "id": "OcVDRa4CeQlc",
        "colab": {
          "base_uri": "https://localhost:8080/",
          "height": 34
        },
        "outputId": "a237e753-7fa2-428e-a2ee-8fc88deb35da"
      },
      "source": [
        "x.shape"
      ],
      "execution_count": null,
      "outputs": [
        {
          "output_type": "execute_result",
          "data": {
            "text/plain": [
              "(3, 3, 5)"
            ]
          },
          "metadata": {
            "tags": []
          },
          "execution_count": 12
        }
      ]
    },
    {
      "cell_type": "markdown",
      "metadata": {
        "id": "K6R9UT5mdJDL",
        "colab_type": "text"
      },
      "source": [
        "3D 텐서들을 하나의 배열로 합치면 4D 텐서를 만들수 있습니다. \n",
        "딥러닝에서는 보통 0D에서 4D까지의 텐서를 다룹니다. \n",
        "동영상 데이터의 경우 5D 텐서까지 가기도 합니다. "
      ]
    },
    {
      "cell_type": "markdown",
      "metadata": {
        "id": "q1NoPX4zdbUB",
        "colab_type": "text"
      },
      "source": [
        "##2.2.5 핵심 속성\n",
        "\n",
        "텐서는 3개의 핵심 속성으로 정의됩니다.\n",
        "\n",
        "1.  축의 개수(랭크): 예를 들어 3D 텐서에는 3개의 축이 있고, 행렬에는 2개의 축이 있습니다. 넘파이 라이브러리에서는 ndim 속성에 저장되어 있습니다.\n",
        "2. 크기(shape): 텐서의 각 축을 따라 얼마나 많은 차원이 있는지를 나타낸 파이썬의 튜플(tuple)입니다. 예를 들어 앞에 나온 행렬의 크기는 (3, 5)이고 3D 텐서의 크기는 (3, 3, 5)입니다. 벡터의 크기는 (5,)처럼 1개의 원소로 이루어진 튜플입니다. 배열 스칼라는 ()처럼 크기가 없습니다.\n",
        "  \n",
        "    1) 앞의 0D 벡터의 크기: ()\n",
        "\n",
        "    2) 앞의 1D 벡터의 크기: (5,)\n",
        "\n",
        "    3) 앞의 2D 벡터의 크기: (3,5)\n",
        "\n",
        "    4) 앞의 3D 벡터의 크기: (3,3,5)\n",
        "\n",
        "3. 데이터 타입(넘파이에서는 dtype에 저장됩니다): 텐서에 포함된 데이터의 타입입니다. 예를 들어 텐서의 타입은 float32, uint8, float64 등이 될 수 있습니다. 드물게 char 타입을 사용합니다. 텐서는 사전에 할당되어 연속된 메모리에 저장되어야 하므로 넘파이 배열은 (그리고 대부분 다른 라이브러리는) 가변 길이의 문자열을 지원하지 않습니다.\n",
        "\n",
        "이를 구체적으로 확인해 보기 위해서 MNIST 예제에서 사용했던 데이터를 다시 들여다봅시다. 먼저 MNIST 데이터셋을 불러들입니다."
      ]
    },
    {
      "cell_type": "code",
      "metadata": {
        "id": "9Da1dk7IdEVQ",
        "colab_type": "code",
        "colab": {
          "base_uri": "https://localhost:8080/",
          "height": 69
        },
        "outputId": "61f12632-d82c-412b-fbe7-7ee5ab8b31ae"
      },
      "source": [
        "from keras.datasets import mnist\n",
        "\n",
        "(train_images, train_labels), (test_images, test_labels) = mnist.load_data()"
      ],
      "execution_count": null,
      "outputs": [
        {
          "output_type": "stream",
          "text": [
            "Using TensorFlow backend.\n"
          ],
          "name": "stderr"
        },
        {
          "output_type": "stream",
          "text": [
            "Downloading data from https://s3.amazonaws.com/img-datasets/mnist.npz\n",
            "11493376/11490434 [==============================] - 0s 0us/step\n"
          ],
          "name": "stdout"
        }
      ]
    },
    {
      "cell_type": "code",
      "metadata": {
        "id": "QG9mMlYGfNhT",
        "colab_type": "code",
        "colab": {
          "base_uri": "https://localhost:8080/",
          "height": 35
        },
        "outputId": "c0955771-d19b-42ff-fc93-7656313ba6e8"
      },
      "source": [
        "train_images.ndim"
      ],
      "execution_count": null,
      "outputs": [
        {
          "output_type": "execute_result",
          "data": {
            "text/plain": [
              "3"
            ]
          },
          "metadata": {
            "tags": []
          },
          "execution_count": 14
        }
      ]
    },
    {
      "cell_type": "code",
      "metadata": {
        "id": "YTJDEQasev6h",
        "colab_type": "code",
        "colab": {
          "base_uri": "https://localhost:8080/",
          "height": 35
        },
        "outputId": "41f9a128-cfa6-41ee-f491-d1101cd7de84"
      },
      "source": [
        "train_labels.shape"
      ],
      "execution_count": null,
      "outputs": [
        {
          "output_type": "execute_result",
          "data": {
            "text/plain": [
              "(60000,)"
            ]
          },
          "metadata": {
            "tags": []
          },
          "execution_count": 26
        }
      ]
    },
    {
      "cell_type": "code",
      "metadata": {
        "id": "CeFYMRb4fhNo",
        "colab_type": "code",
        "colab": {
          "base_uri": "https://localhost:8080/",
          "height": 35
        },
        "outputId": "5fc4ce0e-67d4-4f92-be64-9520cd797dd3"
      },
      "source": [
        "train_images.shape"
      ],
      "execution_count": null,
      "outputs": [
        {
          "output_type": "execute_result",
          "data": {
            "text/plain": [
              "(60000, 28, 28)"
            ]
          },
          "metadata": {
            "tags": []
          },
          "execution_count": 15
        }
      ]
    },
    {
      "cell_type": "code",
      "metadata": {
        "id": "VokhxdlufjuY",
        "colab_type": "code",
        "colab": {
          "base_uri": "https://localhost:8080/",
          "height": 35
        },
        "outputId": "414ffdbe-5bd0-4307-c6d8-ae8d55ebc2c4"
      },
      "source": [
        "train_images.dtype"
      ],
      "execution_count": null,
      "outputs": [
        {
          "output_type": "execute_result",
          "data": {
            "text/plain": [
              "dtype('uint8')"
            ]
          },
          "metadata": {
            "tags": []
          },
          "execution_count": 16
        }
      ]
    },
    {
      "cell_type": "code",
      "metadata": {
        "id": "w5-ULtjscB_I",
        "colab_type": "code",
        "colab": {}
      },
      "source": [
        "train_images[0]"
      ],
      "execution_count": null,
      "outputs": []
    },
    {
      "cell_type": "markdown",
      "metadata": {
        "id": "9ccpzKTKgjPk",
        "colab_type": "text"
      },
      "source": [
        "이 배열은 8비트 정수형 3D 텐서입니다. 좀 더 정확하게는 28×28 크기의 정수 행렬 6만 개가 있는 배열입니다. 각 행렬은 하나의 흑백 이미지고, 행렬의 각 원소는 0에서 255 사이의 값을 가집니다.    이 3D 텐서에서 다섯 번째 샘플을 (파이썬의 표준 과학 라이브러리 중 하나인) 맷플롯립(Matplotlib) 라이브러리를 사용해서 확인해 봅시다(그림 2-2 참고)."
      ]
    },
    {
      "cell_type": "code",
      "metadata": {
        "id": "4fX3M0aIfl-Y",
        "colab_type": "code",
        "colab": {
          "base_uri": "https://localhost:8080/",
          "height": 265
        },
        "outputId": "75b96f70-fffc-49f8-bc3d-8bb7b77c1210"
      },
      "source": [
        "digit = train_images[0]\n",
        "import matplotlib.pyplot as plt\n",
        "plt.imshow(digit, cmap=plt.cm.binary)\n",
        "plt.show()"
      ],
      "execution_count": null,
      "outputs": [
        {
          "output_type": "display_data",
          "data": {
            "image/png": "[encoded data removed]",
            "text/plain": [
              "<Figure size 432x288 with 1 Axes>"
            ]
          },
          "metadata": {
            "tags": [],
            "needs_background": "light"
          }
        }
      ]
    },
    {
      "cell_type": "code",
      "metadata": {
        "id": "DQZ50FFOcsv_",
        "colab_type": "code",
        "colab": {
          "base_uri": "https://localhost:8080/",
          "height": 35
        },
        "outputId": "7e078490-98a8-4108-a326-cce7815b572b"
      },
      "source": [
        "train_labels[0]"
      ],
      "execution_count": null,
      "outputs": [
        {
          "output_type": "execute_result",
          "data": {
            "text/plain": [
              "5"
            ]
          },
          "metadata": {
            "tags": []
          },
          "execution_count": 22
        }
      ]
    },
    {
      "cell_type": "markdown",
      "metadata": {
        "id": "2iJmQ6FMiC-y",
        "colab_type": "text"
      },
      "source": [
        "##2.2.6 넘파이로 텐서 조작하기\n",
        "이전 예제에서 train_images[i] 같은 형식으로 첫 번째 축을 따라 특정 숫자를 선택했습니다. 배열에 있는 특정 원소들을 선택하는 것을 슬라이싱(slicing)이라고 합니다. 넘파이 배열에서 할 수 있는 슬라이싱 연산을 살펴보겠습니다.    다음 예는 11번째에서 101번째까지(101번째는 포함하지 않고) 숫자를 선택하여 (90, 28, 28) 크기의 배열을 만듭니다."
      ]
    },
    {
      "cell_type": "code",
      "metadata": {
        "id": "DNuLD-WmhLQY",
        "colab_type": "code",
        "colab": {
          "base_uri": "https://localhost:8080/",
          "height": 35
        },
        "outputId": "63730040-14ce-410c-ed98-1290c0aa5c2c"
      },
      "source": [
        "my_slice = train_images[10:100]\n",
        "my_slice.shape"
      ],
      "execution_count": null,
      "outputs": [
        {
          "output_type": "execute_result",
          "data": {
            "text/plain": [
              "(90, 28, 28)"
            ]
          },
          "metadata": {
            "tags": []
          },
          "execution_count": 23
        }
      ]
    },
    {
      "cell_type": "markdown",
      "metadata": {
        "id": "8ohNlYAi33qQ",
        "colab_type": "text"
      },
      "source": [
        "동일하지만 조금 더 자세한 표기법은 각 배열의 축을 따라 슬라이싱의 시작 인덱스와 마지막 인덱스를 지정하는 것입니다. :(콜론)은 전체 인덱스를 선택합니다."
      ]
    },
    {
      "cell_type": "code",
      "metadata": {
        "id": "vRn5wT59iVyB",
        "colab_type": "code",
        "colab": {}
      },
      "source": [
        "my_slice = train_images[10:100, :, :]\n",
        "my_slice.shape"
      ],
      "execution_count": null,
      "outputs": []
    },
    {
      "cell_type": "code",
      "metadata": {
        "id": "62q8TCY4ih2X",
        "colab_type": "code",
        "colab": {
          "base_uri": "https://localhost:8080/",
          "height": 35
        },
        "outputId": "958f3a5e-e1aa-4e2e-adbe-d3150db67d37"
      },
      "source": [
        "my_slice=train_images[10:100, 0:28, 0:28]\n",
        "my_slice.shape\n",
        "test_images.shape"
      ],
      "execution_count": null,
      "outputs": [
        {
          "output_type": "execute_result",
          "data": {
            "text/plain": [
              "(10000, 28, 28)"
            ]
          },
          "metadata": {
            "tags": []
          },
          "execution_count": 25
        }
      ]
    },
    {
      "cell_type": "markdown",
      "metadata": {
        "id": "1yJejt2N3_-G",
        "colab_type": "text"
      },
      "source": [
        "일반적으로 각 배열의 축을 따라 어떤 인덱스 사이도 선택할 수 있습니다. 예를 들어 이미지의 오른쪽 아래 14×14픽셀을 선택하려면 다음과 같이 합니다."
      ]
    },
    {
      "cell_type": "code",
      "metadata": {
        "id": "t5uyGmqLioZw",
        "colab_type": "code",
        "colab": {}
      },
      "source": [
        "my_slice = train_images[:, 14:, 14:]\n",
        "my_slice.shape"
      ],
      "execution_count": null,
      "outputs": []
    },
    {
      "cell_type": "markdown",
      "metadata": {
        "id": "OA7DyQ0o4PCu",
        "colab_type": "text"
      },
      "source": [
        "음수 인덱스도 사용할 수 있습니다. 파이썬 리스트의 음수 인덱스와 마찬가지로 현재 축의 끝에서 상대적인 위치를 나타냅니다. 정중앙에 위치한 14×14픽셀 조각을 이미지에서 잘라 내려면 다음과 같이 합니다."
      ]
    },
    {
      "cell_type": "code",
      "metadata": {
        "id": "gk_Je1voi2SQ",
        "colab_type": "code",
        "colab": {}
      },
      "source": [
        "my_slice = train_images[:, 7:-7, 7:-7]\n",
        "my_slice.shape"
      ],
      "execution_count": null,
      "outputs": []
    },
    {
      "cell_type": "markdown",
      "metadata": {
        "id": "A5ogGAZhjfgs",
        "colab_type": "text"
      },
      "source": [
        "##2.2.7 배치 데이터\n",
        "\n",
        "딥러닝에서 사용하는 모든 데이터 텐서의 첫번째 축(인덱스가 0부터 시작하므로 0축)은 샘플 축(sample axis)입니다. MNIST 예제에서는 숫자 이미지가 샘플입니다. \n",
        "\n",
        "딥러닝 모델은 한 번에 전체 데이터셋을 처리하지 않습니다. 그 대신 데이터를 작은 배치(barch)로 나눕니다. 구체적으로 말하면 MNIST 숫자 데이터에서 크기가 128인 배치는 다음과 같습니다. "
      ]
    },
    {
      "cell_type": "code",
      "metadata": {
        "id": "qouHXWITi_lo",
        "colab_type": "code",
        "colab": {}
      },
      "source": [
        "batch = train_images[:128]"
      ],
      "execution_count": null,
      "outputs": []
    },
    {
      "cell_type": "markdown",
      "metadata": {
        "id": "6Mnqfa7_kGMS",
        "colab_type": "text"
      },
      "source": [
        "그다음 배치는 다음과 같습니다. "
      ]
    },
    {
      "cell_type": "code",
      "metadata": {
        "id": "sCFpFG4skE1g",
        "colab_type": "code",
        "colab": {}
      },
      "source": [
        "batch = train_images[128:256]"
      ],
      "execution_count": null,
      "outputs": []
    },
    {
      "cell_type": "markdown",
      "metadata": {
        "id": "amdIGNfBkM8a",
        "colab_type": "text"
      },
      "source": [
        "그리고 n번째 배치는 다음과 같습니다. "
      ]
    },
    {
      "cell_type": "code",
      "metadata": {
        "id": "fQLo6NbJkMCQ",
        "colab_type": "code",
        "colab": {}
      },
      "source": [
        "batch = train_images[128 * n:128 * (n + 1)]"
      ],
      "execution_count": null,
      "outputs": []
    },
    {
      "cell_type": "markdown",
      "metadata": {
        "id": "kAJhdNEmq-a6",
        "colab_type": "text"
      },
      "source": [
        "이런 배치 데이터를 다룰 때는 첫 번째 축(0번 축)을 배치 축(batch axis) 또는 배치 차원(batch dimension)이라고 부릅니다. 케라스나 다른 딥러닝 라이브러리를 사용할 때 이런 용어를 자주 만날 것입니다."
      ]
    },
    {
      "cell_type": "markdown",
      "metadata": {
        "id": "zOXVlN7orN4h",
        "colab_type": "text"
      },
      "source": [
        "#2.2.8 텐서의 실제 사례"
      ]
    },
    {
      "cell_type": "markdown",
      "metadata": {
        "id": "tyabq6ALw-An",
        "colab_type": "text"
      },
      "source": [
        "앞으로 보게 될 텐서의 몇 가지 예를 통해 좀 더 확실하게 알아보겠습니다. 우리가 사용할 데이터는 대부분 다음 중 하나에 속할 것입니다.\n",
        "\n",
        "* 벡터 데이터: (samples, features) 크기의 2D 텐서    \n",
        "* 시계열 데이터 또는 시퀀스(sequence) 데이터: (samples, timesteps, features) 크기의 3D 텐서    \n",
        "* 이미지: (samples, height, width, channels) 또는 (samples, channels, height, width) 크기의 4D 텐서    \n",
        "* 동영상: (samples, frames, height, width, channels) 또는 (samples, frames, channels, height, width) 크기의 5D 텐서"
      ]
    },
    {
      "cell_type": "markdown",
      "metadata": {
        "id": "zS6THRy1WHZU",
        "colab_type": "text"
      },
      "source": [
        "# 2.2.9 벡터 데이터\n",
        "\n",
        "대부분의 경우에 해당됩니다. 이런 데이터셋에서는 **하나의 데이터 포인트가 벡터로 인코딩**될 수 있으므로 배치 데이터는 2D 텐서로 인코딩될 것입니다(즉 벡터의 배열입니다). 여기서 **첫 번째 축은 샘플 축**이고, **두 번째 축은 특성 축**(feature axis)입니다.\n",
        "\n",
        "2개의 예를 살펴보겠습니다. \n",
        "\n",
        "*  사람의 **나이**, **우편 번호**, **소득**으로 구성된 인구 통계 데이터. 각 사람은 3개의 값을 가진 벡터로 구성되고 10만 명이 포함된 전체 데이터셋은 **(100000, 3)** 크기의 텐서에 저장될 수 있습니다. (rank는 2, ndim = 2)\n",
        "*  (공통 단어 2만 개로 만든 사전에서) 각 단어가 등장한 횟수로 표현된 텍스트 문서 데이터셋. 각 문서는 2만 개의 원소(사전에 있는 단어마다 하나의 원소에 대응합니다)를 가진 벡터로 인코딩될 수 있습니다. 500개의 문서로 이루어진 전체 데이터셋은 (500, 20000) 크기의 텐서로 저장됩니다.\n",
        "\n"
      ]
    },
    {
      "cell_type": "markdown",
      "metadata": {
        "id": "3hSEyWJnx0dC",
        "colab_type": "text"
      },
      "source": [
        "# 2.2.11 이미지 데이터\n",
        "\n",
        "이미지는 전형적으로 **높이, 너비, 컬러 채널의 3차원**으로 이루어집니다. (MNIST 숫자처럼) 흑백 이미지는 하나의 컬러 채널만을 가지고 있어 2D 텐서로 저장될 수 있지만 관례상 이미지 텐서는 항상 3D로 저장됩니다. 흑백 이미지의 경우 컬러 채널의 차원 크기는 1입니다. 256×256 크기의 흑백 이미지에 대한 128개의 배치는 (128, 256, 256, 1) 크기의 텐서에 저장될 수 있습니다. 컬러 이미지에 대한 128개의 배치라면 (128, 256, 256, 3) 크기의 텐서에 저장될 수 있습니다(그림 2-4 참고).    \n",
        "\n",
        "이미지 텐서의 크기를 지정하는 방식은 두 가지입니다. (텐서플로에서 사용하는) 채널 마지막(channel-last) 방식과 (씨아노에서 사용하는) 채널 우선(channel-first) 방식입니다. 구글의 텐서플로 머신 러닝 프레임워크는 (samples, height, width, color_depth)처럼 컬러 채널의 깊이를 끝에 놓습니다. 반면에 씨아노는 (samples, color_depth, height, width)처럼 컬러 채널의 깊이를 배치 축 바로 뒤에 놓습니다. 씨아노 방식을 사용하면 앞선 예는 (128, 1, 256, 256)과 (128, 3, 256, 256)이 됩니다. 케라스 프레임워크는 두 형식을 모두 지원합니다.15"
      ]
    },
    {
      "cell_type": "code",
      "metadata": {
        "id": "sl0TqNaAq7pt",
        "colab_type": "code",
        "colab": {}
      },
      "source": [
        ""
      ],
      "execution_count": null,
      "outputs": []
    }
  ]
}