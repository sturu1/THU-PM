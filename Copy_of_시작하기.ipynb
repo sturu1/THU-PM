{
  "nbformat": 4,
  "nbformat_minor": 0,
  "metadata": {
    "colab": {
      "name": "Copy of 시작하기.ipynb",
      "provenance": [],
      "include_colab_link": true
    },
    "kernelspec": {
      "name": "python3",
      "display_name": "Python 3"
    }
  },
  "cells": [
    {
      "cell_type": "markdown",
      "metadata": {
        "id": "view-in-github",
        "colab_type": "text"
      },
      "source": [
        "<a href=\"https://colab.research.google.com/github/sturu1/THU-PM/blob/master/Copy_of_%EC%8B%9C%EC%9E%91%ED%95%98%EA%B8%B0.ipynb\" target=\"_parent\"><img src=\"https://colab.research.google.com/assets/colab-badge.svg\" alt=\"Open In Colab\"/></a>"
      ]
    },
    {
      "cell_type": "markdown",
      "metadata": {
        "id": "WMt8IXo2y0_j",
        "colab_type": "text"
      },
      "source": [
        "# 딥러닝의 활용\n",
        "\n",
        "---\n",
        "\n",
        "## 사전 점검 사항\n",
        "\n",
        "*   Python 활용 능력\n",
        "*   머신러닝 수강 여부\n",
        "\n",
        "*   딥러닝의 이해 수준 (tensorflow 활용 경험)\n",
        "\n",
        "\n",
        "\n",
        "## 수업 방향\n",
        "\n",
        "\n",
        "*   1안) 본 교재 중심으로 진행\n",
        "\n",
        "> Python에 대한 기본 활용 능력 필요\n",
        "\n",
        "*   2안) tensorflow 기본 학습 --> 본교재 활용\n",
        "\n",
        " \n",
        "## 실습 요구 환경\n",
        "> **google colab**\n",
        "\n",
        "* http://colab.research.google.com\n",
        "\n",
        "* 구글계정 필요\n",
        "\n",
        "\n",
        "\n",
        "> PC with GPU \n",
        "\n",
        "> Amazon AWS\n",
        "\n",
        "## 기타\n",
        "> github 활용\n",
        "\n",
        "> sungkim 교수 강의자료\n",
        "\n",
        "  - http://hunkim.github.io/ml/\n",
        "\n",
        "> 강의자료\n",
        "\n",
        "\n",
        "## 주소록 만들기\n",
        "> 카톡 오픈채팅방\n",
        "\n",
        "1. 오픈채팅방 검색: KIU.2020-1 딥러닝활용\n",
        "2. 참여코드: deep\n",
        "3. 채팅방에 본인의 이름, 이메일주소(gmail주소 권고) 공개 (자료 공개용)\n",
        "\n",
        "   -- 예) 홍길동, abc@gmail.com\n",
        "\n",
        "\n"
      ]
    },
    {
      "cell_type": "code",
      "metadata": {
        "id": "3_3uki78SHLb",
        "colab_type": "code",
        "colab": {}
      },
      "source": [
        ""
      ],
      "execution_count": null,
      "outputs": []
    }
  ]
}