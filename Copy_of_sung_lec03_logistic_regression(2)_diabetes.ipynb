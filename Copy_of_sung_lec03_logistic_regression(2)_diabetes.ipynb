{
  "nbformat": 4,
  "nbformat_minor": 0,
  "metadata": {
    "colab": {
      "name": "Copy of sung_lec03_logistic_regression(2)_diabetes.ipynb",
      "provenance": [],
      "collapsed_sections": [],
      "include_colab_link": true
    },
    "kernelspec": {
      "name": "python3",
      "display_name": "Python 3"
    }
  },
  "cells": [
    {
      "cell_type": "markdown",
      "metadata": {
        "id": "view-in-github",
        "colab_type": "text"
      },
      "source": [
        "<a href=\"https://colab.research.google.com/github/sturu1/THU-PM/blob/master/Copy_of_sung_lec03_logistic_regression(2)_diabetes.ipynb\" target=\"_parent\"><img src=\"https://colab.research.google.com/assets/colab-badge.svg\" alt=\"Open In Colab\"/></a>"
      ]
    },
    {
      "cell_type": "markdown",
      "metadata": {
        "id": "Qf_FfgV1TOtw",
        "colab_type": "text"
      },
      "source": [
        "# logistic_regression 실습(1)\n",
        "> 이번 시간에는 보다 많은 데이터에 대해 2개의 class를 분류(binary classification)하는 logistic regression 실습을 하겠습니다.\n",
        "\n",
        "> 이 자료는 신체의 여러 측정치를 바탕으로 당뇨병(diabetes)를 예측하는 문제 입니다. 먼저 자료를 가져오도록 하겠습니다.  \n",
        "\n",
        "\n",
        "* 자료출처: https://github.com/hunkim/DeepLearningZeroToAll/tree/master/keras\n",
        "\n",
        "\n"
      ]
    },
    {
      "cell_type": "code",
      "metadata": {
        "id": "N8kEu4qSkLb-",
        "colab_type": "code",
        "colab": {}
      },
      "source": [
        "!wget https://raw.githubusercontent.com/hunkim/DeepLearningZeroToAll/master/keras/data-03-diabetes.csv"
      ],
      "execution_count": null,
      "outputs": []
    },
    {
      "cell_type": "markdown",
      "metadata": {
        "id": "oD1dyr2lU0jF",
        "colab_type": "text"
      },
      "source": [
        "디렉토리에 다운받은 내용을 확인해 보겠습니다. "
      ]
    },
    {
      "cell_type": "code",
      "metadata": {
        "id": "RKIhlAWgkjbE",
        "colab_type": "code",
        "colab": {}
      },
      "source": [
        "!ls"
      ],
      "execution_count": null,
      "outputs": []
    },
    {
      "cell_type": "markdown",
      "metadata": {
        "id": "lm0YbqjBUhw8",
        "colab_type": "text"
      },
      "source": [
        "다음으로 데이터 전처리 및 모델 생성을 위해 필요한 모듈을 불러옵니다. "
      ]
    },
    {
      "cell_type": "code",
      "metadata": {
        "id": "yubok0GTkkuL",
        "colab_type": "code",
        "colab": {}
      },
      "source": [
        "from keras.models import Sequential\n",
        "from keras.layers import Dense\n",
        "from keras.optimizers import SGD\n",
        "import numpy as np"
      ],
      "execution_count": null,
      "outputs": []
    },
    {
      "cell_type": "markdown",
      "metadata": {
        "id": "2P6yZlhnUtus",
        "colab_type": "text"
      },
      "source": [
        "데이터를 여러분의 작업공간으로 불러와서 전처리 작업을 하겠습니다. \n",
        "\n",
        "numpy의 `loadtxt()` 함수를 이용하여 디렉토리에 저장된 csv 파일을 xy 변수에 저장합니다. "
      ]
    },
    {
      "cell_type": "code",
      "metadata": {
        "id": "Oymj2SN_kuoT",
        "colab_type": "code",
        "colab": {}
      },
      "source": [
        "xy = np.loadtxt('data-03-diabetes.csv', delimiter=',', dtype=np.float32)"
      ],
      "execution_count": null,
      "outputs": []
    },
    {
      "cell_type": "markdown",
      "metadata": {
        "id": "_b53QAJCVN5S",
        "colab_type": "text"
      },
      "source": [
        "데이터의 내용과 모양을 확인해 볼까요? "
      ]
    },
    {
      "cell_type": "code",
      "metadata": {
        "id": "uaLipQ_WVPuo",
        "colab_type": "code",
        "colab": {}
      },
      "source": [
        "xy"
      ],
      "execution_count": null,
      "outputs": []
    },
    {
      "cell_type": "code",
      "metadata": {
        "id": "Z0FJkh6XVBSw",
        "colab_type": "code",
        "colab": {}
      },
      "source": [
        "xy.shape"
      ],
      "execution_count": null,
      "outputs": []
    },
    {
      "cell_type": "markdown",
      "metadata": {
        "id": "NLeomUZjVHtE",
        "colab_type": "text"
      },
      "source": [
        "데이터를 살펴보면, 총 759명의 개체(샘플)가 있으며, 각 샘플별로 8개의 입력 속성과 1개의 출력속성으로 구성되어 있음을 알 수 있습니다. 출력데이터의 값은 0 (정상)과 1 (당뇨병)으로 2진분류에 맞게 구성된 것을 알 수 있습니다.\n",
        "\n",
        "또한, 입력데이터 값의 scale이 엇비슷 하므로 이 예제에서는 데이터 정규화(normalization)는 생략하겠습니다. "
      ]
    },
    {
      "cell_type": "code",
      "metadata": {
        "id": "qn1d7fvuVrQy",
        "colab_type": "code",
        "colab": {}
      },
      "source": [
        "np.min(xy, axis=0)"
      ],
      "execution_count": null,
      "outputs": []
    },
    {
      "cell_type": "code",
      "metadata": {
        "id": "WdcWPYWfVxQT",
        "colab_type": "code",
        "colab": {}
      },
      "source": [
        "np.max(xy, axis=0)"
      ],
      "execution_count": null,
      "outputs": []
    },
    {
      "cell_type": "markdown",
      "metadata": {
        "id": "7ROdsr1oU5o2",
        "colab_type": "text"
      },
      "source": [
        "이제 데이터를 입력과 출력데이터로 분활합니다. "
      ]
    },
    {
      "cell_type": "code",
      "metadata": {
        "id": "hBoiapGRk4Nc",
        "colab_type": "code",
        "colab": {}
      },
      "source": [
        "x_data = xy[:,:-1]\n",
        "y_data = xy[:,[-1]]"
      ],
      "execution_count": null,
      "outputs": []
    },
    {
      "cell_type": "markdown",
      "metadata": {
        "id": "wC35Vu9pVggD",
        "colab_type": "text"
      },
      "source": [
        "각 입출력 데이터의 모양을 확인합니다. "
      ]
    },
    {
      "cell_type": "code",
      "metadata": {
        "id": "93robcYVk_zk",
        "colab_type": "code",
        "colab": {}
      },
      "source": [
        "x_data.shape, y_data.shape"
      ],
      "execution_count": null,
      "outputs": []
    },
    {
      "cell_type": "markdown",
      "metadata": {
        "id": "c748WhFjVlxq",
        "colab_type": "text"
      },
      "source": [
        "이제 모델을 생성하고 컴파일 하겠습니다. \n",
        "\n",
        "활성함수(activation function)로 2진분류의 결과를 도출하는 `simoid`, 손실함수(loss function)로 2진분류에 사용하는 `binary_crossentropy`를 사용함을 주의하시기 바랍니다. "
      ]
    },
    {
      "cell_type": "code",
      "metadata": {
        "id": "Bj7IrU1-lCGs",
        "colab_type": "code",
        "colab": {}
      },
      "source": [
        "model = Sequential()\n",
        "model.add(Dense(units=1, input_shape=(8,), activation='sigmoid'))\n",
        "model.compile(optimizer=SGD(learning_rate=0.01), loss='binary_crossentropy', metrics=[\"accuracy\"])"
      ],
      "execution_count": null,
      "outputs": []
    },
    {
      "cell_type": "markdown",
      "metadata": {
        "id": "BBQkjjnaVtpm",
        "colab_type": "text"
      },
      "source": [
        "그럼, 모델의 정보를 확인해 볼까요? "
      ]
    },
    {
      "cell_type": "code",
      "metadata": {
        "id": "b1MajiLwVwym",
        "colab_type": "code",
        "colab": {}
      },
      "source": [
        "model.summary()"
      ],
      "execution_count": null,
      "outputs": []
    },
    {
      "cell_type": "markdown",
      "metadata": {
        "id": "AeD3A0swV04h",
        "colab_type": "text"
      },
      "source": [
        "이제 총 500회의 반복을 통해 모델을 학습시키도록 하겠습니다. "
      ]
    },
    {
      "cell_type": "code",
      "metadata": {
        "id": "lCc3T6OhlbvD",
        "colab_type": "code",
        "colab": {}
      },
      "source": [
        "history = model.fit(x_data, y_data, epochs=500)"
      ],
      "execution_count": null,
      "outputs": []
    },
    {
      "cell_type": "markdown",
      "metadata": {
        "id": "7F0--pLWYCML",
        "colab_type": "text"
      },
      "source": [
        "학습이 진행되는 동안 손실함수 값의 변화를 살펴보겠습니다."
      ]
    },
    {
      "cell_type": "code",
      "metadata": {
        "id": "FfQlqu2HYvPw",
        "colab_type": "code",
        "colab": {}
      },
      "source": [
        "import matplotlib.pyplot as plt\n",
        "plt.plot(history.history[\"loss\"])\n",
        "plt.title(\"Loss\")\n",
        "plt.xlabel(\"epochs\")\n",
        "plt.ylabel(\"loss\")\n",
        "plt.show()"
      ],
      "execution_count": null,
      "outputs": []
    },
    {
      "cell_type": "markdown",
      "metadata": {
        "id": "aL6Sn-zEWAVW",
        "colab_type": "text"
      },
      "source": [
        "꾸준히 손실값이 감소되는 것을 알 수 있군요. 앞서 설명했듯이, 정확도 값의 변화가 없더라도 손실값은 지속해서 감소할 수 있으니 충분한 학습이 필요하겠죠? "
      ]
    },
    {
      "cell_type": "markdown",
      "metadata": {
        "id": "37foZ0HIZqnJ",
        "colab_type": "text"
      },
      "source": [
        "histroy.history 에는 학습기간동안 변화된 `loss` 값이 저장된다는 것은 이미 배웠습니다. 더불어 모델의 compile 시에 metric 값을 지정했을 경우 (본 예제에서는 `\"accuracy\"`) 지정된 지표에 대한 변화값 역시 저장하고 있습니다. \n",
        "\n",
        "history.history 변수는 dictionary 변수인데, 먼저 키값을 조회해 보지요. "
      ]
    },
    {
      "cell_type": "code",
      "metadata": {
        "id": "YvmoyDOmlgd8",
        "colab_type": "code",
        "colab": {}
      },
      "source": [
        "history.history.keys()"
      ],
      "execution_count": null,
      "outputs": []
    },
    {
      "cell_type": "markdown",
      "metadata": {
        "id": "y735uMQwaYwv",
        "colab_type": "text"
      },
      "source": [
        "앞서 설명한 것 처럼, `loss`와 'accuracy'를 키로 가지고 있습니다. \n",
        "\n",
        "각 키에 대한 `'value'`로 반복학습 동안 변화된 값을 리스트로 갖습니다. "
      ]
    },
    {
      "cell_type": "code",
      "metadata": {
        "id": "_E_9PeZuase2",
        "colab_type": "code",
        "colab": {}
      },
      "source": [
        "history.history[\"accuracy\"]"
      ],
      "execution_count": null,
      "outputs": []
    },
    {
      "cell_type": "markdown",
      "metadata": {
        "id": "9flIBXA9a0nb",
        "colab_type": "text"
      },
      "source": [
        "`'accuracy'`의 변화를 그래프로 그려볼까요?"
      ]
    },
    {
      "cell_type": "code",
      "metadata": {
        "id": "8PNYAfafa5QM",
        "colab_type": "code",
        "colab": {}
      },
      "source": [
        "plt.plot(history.history[\"accuracy\"])\n",
        "plt.title(\"Model Accuracy\")\n",
        "plt.xlabel(\"Epochs\")\n",
        "plt.ylabel(\"Accuracy\")\n",
        "plt.show()"
      ],
      "execution_count": null,
      "outputs": []
    },
    {
      "cell_type": "markdown",
      "metadata": {
        "id": "Z9JziquRaqIE",
        "colab_type": "text"
      },
      "source": [
        "학습이 진행되면서 정확도가 높아지는 것을 알 수 있네요. "
      ]
    },
    {
      "cell_type": "markdown",
      "metadata": {
        "id": "hN0otE2qbOKr",
        "colab_type": "text"
      },
      "source": [
        "이제, 새로운 데이터에 대한 예측을 수행해 보겠습니다. \n",
        "\n",
        "다음과 같은 지표를 갖는 사람에 대해 당요병을 진단해 보시기 바랍니다. \n",
        "\n",
        "`[0.176471, 0.155779, 0, 0, 0, 0.052161, -0.952178, -0.733333]`\n",
        "\n",
        "우선 입력데이터에 대한 sigmoid 함수 결과까지만 살펴 삭펴보겠습니다. "
      ]
    },
    {
      "cell_type": "code",
      "metadata": {
        "id": "tklR4PDvls48",
        "colab_type": "code",
        "colab": {}
      },
      "source": [
        "y_predict = model.predict(np.array([[0.176471, 0.155779, 0, 0, 0, 0.052161, -0.952178, -0.733333]]))"
      ],
      "execution_count": null,
      "outputs": []
    },
    {
      "cell_type": "code",
      "metadata": {
        "id": "dfPJ8OTvl0_U",
        "colab_type": "code",
        "colab": {}
      },
      "source": [
        "print(\"Predict value: {0}\".format(y_predict))"
      ],
      "execution_count": null,
      "outputs": []
    },
    {
      "cell_type": "markdown",
      "metadata": {
        "id": "GVsU-7mvbxEL",
        "colab_type": "text"
      },
      "source": [
        "`predict` 값은 입력데이터에 대한 출력이 특정 클래스에 속할 확률로 생각할 수 있습니다. 따라서 'y_predict'값과 0.5를 비교하여 0 클래스인지, 1클래인지를 결정할 수 있습니다. \n",
        "\n",
        "입력데이터가 어떤 클래스에 속할 것인지 바로 살펴보려면, `model.predict_classes'라는 함수를 사용하면 됩니다. "
      ]
    },
    {
      "cell_type": "code",
      "metadata": {
        "id": "tazT60NCmUCs",
        "colab_type": "code",
        "colab": {}
      },
      "source": [
        "y_predict_class = model.predict_classes(np.array([[0.176471, 0.155779, 0, 0, 0, 0.052161, -0.952178, -0.733333]]))\n",
        "print(\"predict class: \", y_predict_class)"
      ],
      "execution_count": null,
      "outputs": []
    },
    {
      "cell_type": "markdown",
      "metadata": {
        "id": "GZZNZljtXEeh",
        "colab_type": "text"
      },
      "source": [
        "위와 같은 입력데이터를 갖은 사람은 당뇨병이라고 진단하네요. \n",
        "\n",
        "이번 예제를 통해 여러분은 간단한 당뇨병 진단 모델을 개발하였습니다. \n",
        "수고많으셨습니다. "
      ]
    }
  ]
}