{
  "nbformat": 4,
  "nbformat_minor": 0,
  "metadata": {
    "colab": {
      "name": "Copy of python기초(4)_numpy.ipynb",
      "provenance": [],
      "collapsed_sections": [],
      "include_colab_link": true
    },
    "kernelspec": {
      "name": "python3",
      "display_name": "Python 3"
    }
  },
  "cells": [
    {
      "cell_type": "markdown",
      "metadata": {
        "id": "view-in-github",
        "colab_type": "text"
      },
      "source": [
        "<a href=\"https://colab.research.google.com/github/sturu1/THU-PM/blob/master/Copy_of_python%EA%B8%B0%EC%B4%88(4)_numpy.ipynb\" target=\"_parent\"><img src=\"https://colab.research.google.com/assets/colab-badge.svg\" alt=\"Open In Colab\"/></a>"
      ]
    },
    {
      "cell_type": "markdown",
      "metadata": {
        "id": "WdzgOew39BGm",
        "colab_type": "text"
      },
      "source": [
        "해당 내용은 flearning의 김길호님의 강의를 바탕으로 작성되었습니다.\n",
        "\n",
        "https://www.flearning.net/courses/6\n",
        "\n"
      ]
    },
    {
      "cell_type": "markdown",
      "metadata": {
        "id": "N9-ee4aT9JEX",
        "colab_type": "text"
      },
      "source": [
        "# 1. Numpy란\n",
        "\n",
        "> Numpy는 C언어로 구현된 파이썬 라이브러리로써, 고성능의 수치계산을 위해 제작되었습니다. Numerical Python의 줄임말이기도 한 Numpy는 **벡터 및 행렬 연산**에 있어서 매우 편리한 기능을 제공합니다.\n",
        "\n",
        "> numpy에서는 기본적으로 **array라는 단위로 데이터를 관리**하며 이에 대해 연산을 수행합니다. array는 말그대로 행렬이라는 개념으로 생각하시면 됩니다.\n",
        "\n",
        "> 먼저 numpy를 사용하기 위해서는 아래와 같은 코드로 numpy를 import해야 합니다."
      ]
    },
    {
      "cell_type": "markdown",
      "metadata": {
        "id": "gwXBXb8a-HFl",
        "colab_type": "text"
      },
      "source": [
        "### 1) Numpy 사용하기"
      ]
    },
    {
      "cell_type": "code",
      "metadata": {
        "id": "ojnGJHis9c8r",
        "colab_type": "code",
        "colab": {}
      },
      "source": [
        "import numpy as np"
      ],
      "execution_count": null,
      "outputs": []
    },
    {
      "cell_type": "markdown",
      "metadata": {
        "id": "7El-iWQx-OhC",
        "colab_type": "text"
      },
      "source": [
        "### 2) Array 정의 및 사용하기"
      ]
    },
    {
      "cell_type": "code",
      "metadata": {
        "id": "q20npkuq9qQk",
        "colab_type": "code",
        "colab": {
          "base_uri": "https://localhost:8080/",
          "height": 35
        },
        "outputId": "a5c2fc85-154b-474d-88b7-1a3aa68fabb3"
      },
      "source": [
        "data1 = [1,2,3,4,5]\n",
        "data1"
      ],
      "execution_count": null,
      "outputs": [
        {
          "output_type": "execute_result",
          "data": {
            "text/plain": [
              "[1, 2, 3, 4, 5]"
            ]
          },
          "metadata": {
            "tags": []
          },
          "execution_count": 2
        }
      ]
    },
    {
      "cell_type": "code",
      "metadata": {
        "id": "VaTYgwLD-efc",
        "colab_type": "code",
        "colab": {
          "base_uri": "https://localhost:8080/",
          "height": 35
        },
        "outputId": "eb13f3d4-dccc-47ed-eb6b-9b5801099226"
      },
      "source": [
        "data2 = [1,2,3,3.5,4]\n",
        "data2"
      ],
      "execution_count": null,
      "outputs": [
        {
          "output_type": "execute_result",
          "data": {
            "text/plain": [
              "[1, 2, 3, 3.5, 4]"
            ]
          },
          "metadata": {
            "tags": []
          },
          "execution_count": 3
        }
      ]
    },
    {
      "cell_type": "code",
      "metadata": {
        "id": "W-CP-pJMJUhr",
        "colab_type": "code",
        "colab": {
          "base_uri": "https://localhost:8080/",
          "height": 35
        },
        "outputId": "bf825274-0c0f-4515-8f77-73f055dade64"
      },
      "source": [
        "type(data1), type(data2)"
      ],
      "execution_count": null,
      "outputs": [
        {
          "output_type": "execute_result",
          "data": {
            "text/plain": [
              "(list, list)"
            ]
          },
          "metadata": {
            "tags": []
          },
          "execution_count": 4
        }
      ]
    },
    {
      "cell_type": "markdown",
      "metadata": {
        "id": "g1Ufy3Wk-oXd",
        "colab_type": "text"
      },
      "source": [
        "> numpy를 이용하여 array 정의하기\n",
        "\n",
        "> 위에서 만든 python list를 이용"
      ]
    },
    {
      "cell_type": "code",
      "metadata": {
        "id": "KdHmnHwt-lct",
        "colab_type": "code",
        "colab": {
          "base_uri": "https://localhost:8080/",
          "height": 35
        },
        "outputId": "d00c1043-e505-4c67-9641-352857e6da8b"
      },
      "source": [
        "arr1 = np.array(data1)\n",
        "arr1"
      ],
      "execution_count": null,
      "outputs": [
        {
          "output_type": "execute_result",
          "data": {
            "text/plain": [
              "array([1, 2, 3, 4, 5])"
            ]
          },
          "metadata": {
            "tags": []
          },
          "execution_count": 5
        }
      ]
    },
    {
      "cell_type": "code",
      "metadata": {
        "id": "MEuKT1l_Jl6r",
        "colab_type": "code",
        "colab": {
          "base_uri": "https://localhost:8080/",
          "height": 35
        },
        "outputId": "def2a523-5f38-4914-fd94-c5d5640576f8"
      },
      "source": [
        "type(arr1)"
      ],
      "execution_count": null,
      "outputs": [
        {
          "output_type": "execute_result",
          "data": {
            "text/plain": [
              "numpy.ndarray"
            ]
          },
          "metadata": {
            "tags": []
          },
          "execution_count": 6
        }
      ]
    },
    {
      "cell_type": "markdown",
      "metadata": {
        "id": "a7B5snVB-_Lt",
        "colab_type": "text"
      },
      "source": [
        "> array의 형태(크기)를 확인할 수 있다."
      ]
    },
    {
      "cell_type": "code",
      "metadata": {
        "id": "WiSx9Lnl-15p",
        "colab_type": "code",
        "colab": {
          "base_uri": "https://localhost:8080/",
          "height": 35
        },
        "outputId": "9b873bda-c286-4c58-eedc-370c9904ee25"
      },
      "source": [
        "arr1.shape"
      ],
      "execution_count": null,
      "outputs": [
        {
          "output_type": "execute_result",
          "data": {
            "text/plain": [
              "(5,)"
            ]
          },
          "metadata": {
            "tags": []
          },
          "execution_count": 7
        }
      ]
    },
    {
      "cell_type": "code",
      "metadata": {
        "id": "6H1e3e8VKgzB",
        "colab_type": "code",
        "colab": {
          "base_uri": "https://localhost:8080/",
          "height": 35
        },
        "outputId": "3c343a59-d1f3-4494-d1ce-7db5ab80a184"
      },
      "source": [
        "arr1.ndim"
      ],
      "execution_count": null,
      "outputs": [
        {
          "output_type": "execute_result",
          "data": {
            "text/plain": [
              "1"
            ]
          },
          "metadata": {
            "tags": []
          },
          "execution_count": 10
        }
      ]
    },
    {
      "cell_type": "markdown",
      "metadata": {
        "id": "7GkJ9z6-_XaN",
        "colab_type": "text"
      },
      "source": [
        "> 바로 python list를 넣어 줌으로써 만들기"
      ]
    },
    {
      "cell_type": "code",
      "metadata": {
        "id": "LFA1dXls_aer",
        "colab_type": "code",
        "colab": {
          "base_uri": "https://localhost:8080/",
          "height": 35
        },
        "outputId": "28da9334-ee84-4073-a6ec-cfb0ef2fe4cf"
      },
      "source": [
        "arr2 = np.array([1,2,3,4,5])\n",
        "arr2"
      ],
      "execution_count": null,
      "outputs": [
        {
          "output_type": "execute_result",
          "data": {
            "text/plain": [
              "array([1, 2, 3, 4, 5])"
            ]
          },
          "metadata": {
            "tags": []
          },
          "execution_count": 11
        }
      ]
    },
    {
      "cell_type": "code",
      "metadata": {
        "id": "tFzc6q1z_cyV",
        "colab_type": "code",
        "colab": {
          "base_uri": "https://localhost:8080/",
          "height": 35
        },
        "outputId": "704ea112-68a7-463e-d99c-78e3dacf0394"
      },
      "source": [
        "arr2.shape"
      ],
      "execution_count": null,
      "outputs": [
        {
          "output_type": "execute_result",
          "data": {
            "text/plain": [
              "(5,)"
            ]
          },
          "metadata": {
            "tags": []
          },
          "execution_count": 12
        }
      ]
    },
    {
      "cell_type": "code",
      "metadata": {
        "id": "j2Vw4FduKYbZ",
        "colab_type": "code",
        "colab": {
          "base_uri": "https://localhost:8080/",
          "height": 35
        },
        "outputId": "cc5eee2b-0873-4766-b900-0dbdeb821c45"
      },
      "source": [
        "arr2.ndim"
      ],
      "execution_count": null,
      "outputs": [
        {
          "output_type": "execute_result",
          "data": {
            "text/plain": [
              "1"
            ]
          },
          "metadata": {
            "tags": []
          },
          "execution_count": 13
        }
      ]
    },
    {
      "cell_type": "markdown",
      "metadata": {
        "id": "iWMPSS0C_iBE",
        "colab_type": "text"
      },
      "source": [
        "array의 자료형을 확인할 수 있다."
      ]
    },
    {
      "cell_type": "code",
      "metadata": {
        "id": "d9WujYLD_efU",
        "colab_type": "code",
        "colab": {
          "base_uri": "https://localhost:8080/",
          "height": 34
        },
        "outputId": "a10ef64a-60c2-4e4c-98c1-81a7e77fb582"
      },
      "source": [
        "arr2.dtype"
      ],
      "execution_count": null,
      "outputs": [
        {
          "output_type": "execute_result",
          "data": {
            "text/plain": [
              "dtype('int64')"
            ]
          },
          "metadata": {
            "tags": []
          },
          "execution_count": 14
        }
      ]
    },
    {
      "cell_type": "code",
      "metadata": {
        "id": "arPjo1q8_osE",
        "colab_type": "code",
        "colab": {
          "base_uri": "https://localhost:8080/",
          "height": 34
        },
        "outputId": "7e470675-bc50-473b-a034-3e012a1e67aa"
      },
      "source": [
        "arr3 = np.array(data2)\n",
        "arr3"
      ],
      "execution_count": null,
      "outputs": [
        {
          "output_type": "execute_result",
          "data": {
            "text/plain": [
              "array([1. , 2. , 3. , 3.5, 4. ])"
            ]
          },
          "metadata": {
            "tags": []
          },
          "execution_count": 15
        }
      ]
    },
    {
      "cell_type": "code",
      "metadata": {
        "id": "qjt7VrE2Lcbx",
        "colab_type": "code",
        "colab": {
          "base_uri": "https://localhost:8080/",
          "height": 34
        },
        "outputId": "d0015126-1c4a-4355-9f63-75238e7b22ae"
      },
      "source": [
        "data2"
      ],
      "execution_count": null,
      "outputs": [
        {
          "output_type": "execute_result",
          "data": {
            "text/plain": [
              "[1, 2, 3, 3.5, 4]"
            ]
          },
          "metadata": {
            "tags": []
          },
          "execution_count": 16
        }
      ]
    },
    {
      "cell_type": "code",
      "metadata": {
        "id": "62IJg7-V_tBt",
        "colab_type": "code",
        "colab": {
          "base_uri": "https://localhost:8080/",
          "height": 34
        },
        "outputId": "55f03cf3-443a-4faa-fad4-53eb32766ea9"
      },
      "source": [
        "arr3.shape"
      ],
      "execution_count": null,
      "outputs": [
        {
          "output_type": "execute_result",
          "data": {
            "text/plain": [
              "(5,)"
            ]
          },
          "metadata": {
            "tags": []
          },
          "execution_count": 17
        }
      ]
    },
    {
      "cell_type": "code",
      "metadata": {
        "id": "fpxJmxs7_uh8",
        "colab_type": "code",
        "colab": {
          "base_uri": "https://localhost:8080/",
          "height": 34
        },
        "outputId": "f7c8dc8e-660a-4375-a556-bd1cf7c90af1"
      },
      "source": [
        "arr3.dtype"
      ],
      "execution_count": null,
      "outputs": [
        {
          "output_type": "execute_result",
          "data": {
            "text/plain": [
              "dtype('float64')"
            ]
          },
          "metadata": {
            "tags": []
          },
          "execution_count": 18
        }
      ]
    },
    {
      "cell_type": "code",
      "metadata": {
        "id": "bbkndy3__142",
        "colab_type": "code",
        "colab": {
          "base_uri": "https://localhost:8080/",
          "height": 84
        },
        "outputId": "3b13ae51-841e-45ff-b49e-691339357f24"
      },
      "source": [
        "arr4 = np.array([[1,2,3],[4,5,6],[7,8,9],[10,11,12]])\n",
        "arr4"
      ],
      "execution_count": null,
      "outputs": [
        {
          "output_type": "execute_result",
          "data": {
            "text/plain": [
              "array([[ 1,  2,  3],\n",
              "       [ 4,  5,  6],\n",
              "       [ 7,  8,  9],\n",
              "       [10, 11, 12]])"
            ]
          },
          "metadata": {
            "tags": []
          },
          "execution_count": 19
        }
      ]
    },
    {
      "cell_type": "code",
      "metadata": {
        "id": "xpc0zuvq_4-F",
        "colab_type": "code",
        "colab": {
          "base_uri": "https://localhost:8080/",
          "height": 34
        },
        "outputId": "047d710f-d004-4d79-bd83-760e120b57d0"
      },
      "source": [
        "arr4.shape"
      ],
      "execution_count": null,
      "outputs": [
        {
          "output_type": "execute_result",
          "data": {
            "text/plain": [
              "(4, 3)"
            ]
          },
          "metadata": {
            "tags": []
          },
          "execution_count": 20
        }
      ]
    },
    {
      "cell_type": "code",
      "metadata": {
        "id": "0zhjfnUiMT9Z",
        "colab_type": "code",
        "colab": {
          "base_uri": "https://localhost:8080/",
          "height": 34
        },
        "outputId": "f92c68c9-39c3-4b8c-b975-17110a2cbeea"
      },
      "source": [
        "arr4.ndim"
      ],
      "execution_count": null,
      "outputs": [
        {
          "output_type": "execute_result",
          "data": {
            "text/plain": [
              "2"
            ]
          },
          "metadata": {
            "tags": []
          },
          "execution_count": 21
        }
      ]
    },
    {
      "cell_type": "markdown",
      "metadata": {
        "id": "Tv1KTsnc_7Y1",
        "colab_type": "text"
      },
      "source": [
        "**numpy shape**\n",
        "\n",
        "numpy에서는 해당 array의 크기를 알 수 있다.\n",
        "\n",
        "shape 을 확인함으로써 몇개의 데이터가 있는지, 몇 차원으로 존재하는지 등을 확인할 수 있다.\n",
        "\n",
        "위에서 arr1.shape의 결과는 (5,) 으로써, 1차원의 데이터이며 총 5라는 크기를 갖고 있음을 알 수 있다.\n",
        "\n",
        "arr4.shape의 결과는 (4,3) 으로써, 2차원의 데이터이며 4 * 3 크기를 갖고 있는 array 이다.\n",
        "\n",
        "**numpy 자료형**\n",
        "\n",
        "arr1이나 arr2는 int64라는 자료형을 갖는 것에 반해 arr3는 float64라는 자료형을 갖는다.\n",
        "\n",
        "이는 arr3내부 데이터를 살펴보면 3.5라는 실수형 데이터를 갖기 때문임을 알 수 있다.\n",
        "\n",
        "numpy에서 사용되는 자료형은 아래와 같다. (자료형 뒤에 붙는 숫자는 몇 비트 크기인지를 의미한다.)\n",
        "\n",
        "* 부호가 있는 정수 int(8, 16, 32, 64)\n",
        "* 부호가 없는 정수 uint(8 ,16, 32, 54)\n",
        "* 실수 float(16, 32, 64, 128)\n",
        "* 복소수 complex(64, 128, 256)\n",
        "* 불리언 bool\n",
        "* 문자열 string_\n",
        "* 파이썬 오프젝트 object\n",
        "* 유니코드 unicode_"
      ]
    },
    {
      "cell_type": "code",
      "metadata": {
        "id": "H2sbZxEoNVUF",
        "colab_type": "code",
        "colab": {}
      },
      "source": [
        "arr5 = np.array([[[1,2],[3,4]],\n",
        "                 [[5,6],[7,8]],\n",
        "                 [[9,10],[11,12]]])"
      ],
      "execution_count": null,
      "outputs": []
    },
    {
      "cell_type": "code",
      "metadata": {
        "id": "-qfASuF7NaZD",
        "colab_type": "code",
        "colab": {
          "base_uri": "https://localhost:8080/",
          "height": 34
        },
        "outputId": "48a66273-237e-4561-ad8c-bdb3e7f62332"
      },
      "source": [
        "arr5.shape\n"
      ],
      "execution_count": null,
      "outputs": [
        {
          "output_type": "execute_result",
          "data": {
            "text/plain": [
              "(3, 2, 2)"
            ]
          },
          "metadata": {
            "tags": []
          },
          "execution_count": 23
        }
      ]
    },
    {
      "cell_type": "code",
      "metadata": {
        "id": "hyoTWkSyOGHB",
        "colab_type": "code",
        "colab": {
          "base_uri": "https://localhost:8080/",
          "height": 34
        },
        "outputId": "a6240da9-d404-40f2-f6bc-5ee41ce893a7"
      },
      "source": [
        "arr5.ndim"
      ],
      "execution_count": null,
      "outputs": [
        {
          "output_type": "execute_result",
          "data": {
            "text/plain": [
              "3"
            ]
          },
          "metadata": {
            "tags": []
          },
          "execution_count": 25
        }
      ]
    },
    {
      "cell_type": "markdown",
      "metadata": {
        "id": "mAfbERY0ARoN",
        "colab_type": "text"
      },
      "source": [
        "**2-1.** **np.zeros(), np.ones(), np.arange() 함수**\n",
        "\n",
        "\n",
        "numpy에서 array를 정의할 때 사용되는 함수들이다.\n",
        "\n",
        "아래 실습을 통해 각각이 어떻게 다른지 살펴본다."
      ]
    },
    {
      "cell_type": "code",
      "metadata": {
        "id": "fR8qSkZr_5Ul",
        "colab_type": "code",
        "colab": {
          "base_uri": "https://localhost:8080/",
          "height": 34
        },
        "outputId": "ecb082e8-0e56-43d0-a244-1840af925763"
      },
      "source": [
        "np.zeros(10)"
      ],
      "execution_count": null,
      "outputs": [
        {
          "output_type": "execute_result",
          "data": {
            "text/plain": [
              "array([0., 0., 0., 0., 0., 0., 0., 0., 0., 0.])"
            ]
          },
          "metadata": {
            "tags": []
          },
          "execution_count": 26
        }
      ]
    },
    {
      "cell_type": "code",
      "metadata": {
        "id": "wBscj-9IAaYP",
        "colab_type": "code",
        "colab": {
          "base_uri": "https://localhost:8080/",
          "height": 67
        },
        "outputId": "4c98f99e-edcf-4d80-8f53-701fe7867fc9"
      },
      "source": [
        "np.zeros((3,5))"
      ],
      "execution_count": null,
      "outputs": [
        {
          "output_type": "execute_result",
          "data": {
            "text/plain": [
              "array([[0., 0., 0., 0., 0.],\n",
              "       [0., 0., 0., 0., 0.],\n",
              "       [0., 0., 0., 0., 0.]])"
            ]
          },
          "metadata": {
            "tags": []
          },
          "execution_count": 27
        }
      ]
    },
    {
      "cell_type": "markdown",
      "metadata": {
        "id": "Judma4heAeon",
        "colab_type": "text"
      },
      "source": [
        "np.zeros() 함수는 인자로 받는 크기만큼, 모든요소가 0인 array를 만든다."
      ]
    },
    {
      "cell_type": "code",
      "metadata": {
        "id": "cDDFPqCBAcpN",
        "colab_type": "code",
        "colab": {
          "base_uri": "https://localhost:8080/",
          "height": 34
        },
        "outputId": "f4b6d662-f3a3-4861-d105-27fe51776a0b"
      },
      "source": [
        "np.ones(9)"
      ],
      "execution_count": null,
      "outputs": [
        {
          "output_type": "execute_result",
          "data": {
            "text/plain": [
              "array([1., 1., 1., 1., 1., 1., 1., 1., 1.])"
            ]
          },
          "metadata": {
            "tags": []
          },
          "execution_count": 28
        }
      ]
    },
    {
      "cell_type": "code",
      "metadata": {
        "id": "NYCKG-fVAiKV",
        "colab_type": "code",
        "colab": {
          "base_uri": "https://localhost:8080/",
          "height": 50
        },
        "outputId": "fc16caf8-70a4-4f97-8f91-1629a4d7b577"
      },
      "source": [
        "np.ones((2,10))"
      ],
      "execution_count": null,
      "outputs": [
        {
          "output_type": "execute_result",
          "data": {
            "text/plain": [
              "array([[1., 1., 1., 1., 1., 1., 1., 1., 1., 1.],\n",
              "       [1., 1., 1., 1., 1., 1., 1., 1., 1., 1.]])"
            ]
          },
          "metadata": {
            "tags": []
          },
          "execution_count": 29
        }
      ]
    },
    {
      "cell_type": "markdown",
      "metadata": {
        "id": "l2qLnCMOAlsh",
        "colab_type": "text"
      },
      "source": [
        "np.ones() 함수는 인자로 받는 크기만큼, 모든요소가 1인 array를 만든다."
      ]
    },
    {
      "cell_type": "code",
      "metadata": {
        "id": "BnXnnJzJAje1",
        "colab_type": "code",
        "colab": {
          "base_uri": "https://localhost:8080/",
          "height": 34
        },
        "outputId": "149d5341-2743-4b83-df4a-170d2e99db9d"
      },
      "source": [
        "np.arange(10)"
      ],
      "execution_count": null,
      "outputs": [
        {
          "output_type": "execute_result",
          "data": {
            "text/plain": [
              "array([0, 1, 2, 3, 4, 5, 6, 7, 8, 9])"
            ]
          },
          "metadata": {
            "tags": []
          },
          "execution_count": 30
        }
      ]
    },
    {
      "cell_type": "code",
      "metadata": {
        "id": "EQpfKfq3ApKF",
        "colab_type": "code",
        "colab": {
          "base_uri": "https://localhost:8080/",
          "height": 34
        },
        "outputId": "10cb2783-b39d-4c5b-9f8b-5532031b1dee"
      },
      "source": [
        "np.arange(3,10)"
      ],
      "execution_count": null,
      "outputs": [
        {
          "output_type": "execute_result",
          "data": {
            "text/plain": [
              "array([3, 4, 5, 6, 7, 8, 9])"
            ]
          },
          "metadata": {
            "tags": []
          },
          "execution_count": 31
        }
      ]
    },
    {
      "cell_type": "markdown",
      "metadata": {
        "id": "0iqYqz-qAsH1",
        "colab_type": "text"
      },
      "source": [
        "np.arange() 함수는 인자로 받는 값 만큼 1씩 증가하는 1차원 array를 만든다.\n",
        "이때 하나의 인자만 입력하면 0 ~ 입력한 인자, 값 만큼의 크기를 가진다."
      ]
    },
    {
      "cell_type": "markdown",
      "metadata": {
        "id": "WVXdY6s0Awk9",
        "colab_type": "text"
      },
      "source": [
        "### 3) Array 연산\n",
        "\n",
        "기본적으로 numpy에서 연산을 할때는 크기가 서로 동일한 array 끼리 연산이 진행된다.\n",
        "\n",
        "이때 같은 위치에 있는 요소들 끼리 연산이 진행된다."
      ]
    },
    {
      "cell_type": "code",
      "metadata": {
        "id": "tQP0JWugAqTF",
        "colab_type": "code",
        "colab": {
          "base_uri": "https://localhost:8080/",
          "height": 50
        },
        "outputId": "64f85543-8156-4437-a8ec-71b387035f79"
      },
      "source": [
        "arr1 = np.array([[1,2,3],\n",
        "                 [4,5,6]])\n",
        "arr1"
      ],
      "execution_count": null,
      "outputs": [
        {
          "output_type": "execute_result",
          "data": {
            "text/plain": [
              "array([[1, 2, 3],\n",
              "       [4, 5, 6]])"
            ]
          },
          "metadata": {
            "tags": []
          },
          "execution_count": 32
        }
      ]
    },
    {
      "cell_type": "code",
      "metadata": {
        "id": "JXIkddttA6ZP",
        "colab_type": "code",
        "colab": {}
      },
      "source": [
        "arr1.shape"
      ],
      "execution_count": null,
      "outputs": []
    },
    {
      "cell_type": "code",
      "metadata": {
        "id": "yApowcboA7mk",
        "colab_type": "code",
        "colab": {
          "base_uri": "https://localhost:8080/",
          "height": 50
        },
        "outputId": "d915cc13-1a73-4ddb-f46a-f8272a77d97d"
      },
      "source": [
        "arr2 = np.array([[10,11,12],\n",
        "                 [13,14,15]])\n",
        "arr2"
      ],
      "execution_count": null,
      "outputs": [
        {
          "output_type": "execute_result",
          "data": {
            "text/plain": [
              "array([[10, 11, 12],\n",
              "       [13, 14, 15]])"
            ]
          },
          "metadata": {
            "tags": []
          },
          "execution_count": 33
        }
      ]
    },
    {
      "cell_type": "code",
      "metadata": {
        "id": "bUrpzuVzA90s",
        "colab_type": "code",
        "colab": {}
      },
      "source": [
        "arr2.shape"
      ],
      "execution_count": null,
      "outputs": []
    },
    {
      "cell_type": "markdown",
      "metadata": {
        "id": "fyTRaYi3A_st",
        "colab_type": "text"
      },
      "source": [
        "**3-1. array 덧셈**"
      ]
    },
    {
      "cell_type": "code",
      "metadata": {
        "id": "9I4xcOGWA-09",
        "colab_type": "code",
        "colab": {
          "base_uri": "https://localhost:8080/",
          "height": 50
        },
        "outputId": "cf14b475-e248-4096-b898-cb80aae05445"
      },
      "source": [
        "arr1 + arr2"
      ],
      "execution_count": null,
      "outputs": [
        {
          "output_type": "execute_result",
          "data": {
            "text/plain": [
              "array([[11, 13, 15],\n",
              "       [17, 19, 21]])"
            ]
          },
          "metadata": {
            "tags": []
          },
          "execution_count": 34
        }
      ]
    },
    {
      "cell_type": "markdown",
      "metadata": {
        "id": "z1TYhTk1BCk1",
        "colab_type": "text"
      },
      "source": [
        "**3-2. array 뺄셈**\n"
      ]
    },
    {
      "cell_type": "code",
      "metadata": {
        "id": "_4e2rB8UBIhy",
        "colab_type": "code",
        "colab": {
          "base_uri": "https://localhost:8080/",
          "height": 50
        },
        "outputId": "58a1fc9b-83a8-455a-a8f0-ed7e4905e558"
      },
      "source": [
        "arr1 - arr2"
      ],
      "execution_count": null,
      "outputs": [
        {
          "output_type": "execute_result",
          "data": {
            "text/plain": [
              "array([[-9, -9, -9],\n",
              "       [-9, -9, -9]])"
            ]
          },
          "metadata": {
            "tags": []
          },
          "execution_count": 35
        }
      ]
    },
    {
      "cell_type": "markdown",
      "metadata": {
        "id": "lEB6JRJuBJtV",
        "colab_type": "text"
      },
      "source": [
        "**3-3. array 곱셈**\n",
        "\n",
        "주의하자.\n",
        "\n",
        "행렬의 곱처럼 곱셈이 진행되는 것이 아니라 각 요소별로 곱셈이 진행된다."
      ]
    },
    {
      "cell_type": "code",
      "metadata": {
        "id": "Ext6xhy0BO8L",
        "colab_type": "code",
        "colab": {
          "base_uri": "https://localhost:8080/",
          "height": 50
        },
        "outputId": "5e7d69e1-0137-4827-e120-87e47d01cb49"
      },
      "source": [
        "arr1 * arr2"
      ],
      "execution_count": null,
      "outputs": [
        {
          "output_type": "execute_result",
          "data": {
            "text/plain": [
              "array([[10, 22, 36],\n",
              "       [52, 70, 90]])"
            ]
          },
          "metadata": {
            "tags": []
          },
          "execution_count": 36
        }
      ]
    },
    {
      "cell_type": "markdown",
      "metadata": {
        "id": "-9x2bMv8BQIM",
        "colab_type": "text"
      },
      "source": [
        "**3-4. array 나눗셈**"
      ]
    },
    {
      "cell_type": "code",
      "metadata": {
        "id": "6y17hitjBW-N",
        "colab_type": "code",
        "colab": {
          "base_uri": "https://localhost:8080/",
          "height": 50
        },
        "outputId": "7e3d9345-1342-4373-e218-1d3d1292c486"
      },
      "source": [
        "arr1 / arr2"
      ],
      "execution_count": null,
      "outputs": [
        {
          "output_type": "execute_result",
          "data": {
            "text/plain": [
              "array([[0.1       , 0.18181818, 0.25      ],\n",
              "       [0.30769231, 0.35714286, 0.4       ]])"
            ]
          },
          "metadata": {
            "tags": []
          },
          "execution_count": 37
        }
      ]
    },
    {
      "cell_type": "markdown",
      "metadata": {
        "id": "JBZ9hp9pBYI9",
        "colab_type": "text"
      },
      "source": [
        "**3-5. array의 브로드 캐스트**\n",
        "\n",
        "위에서는 array가 같은 크기를 가져야 서로 연산이 가능하다고 했지만,numpy에서는 브로드캐스트라는 기능을 제공한다. 브로드캐스트란, 서로 크기가 다른 array가 연산이 가능하게끔 하는 것이다."
      ]
    },
    {
      "cell_type": "code",
      "metadata": {
        "id": "xbZ8G7GOBged",
        "colab_type": "code",
        "colab": {
          "base_uri": "https://localhost:8080/",
          "height": 50
        },
        "outputId": "70beb86c-fd04-4ad3-f78f-adede0606d0b"
      },
      "source": [
        "arr1"
      ],
      "execution_count": null,
      "outputs": [
        {
          "output_type": "execute_result",
          "data": {
            "text/plain": [
              "array([[1, 2, 3],\n",
              "       [4, 5, 6]])"
            ]
          },
          "metadata": {
            "tags": []
          },
          "execution_count": 38
        }
      ]
    },
    {
      "cell_type": "code",
      "metadata": {
        "id": "wBNEDKAcBkdV",
        "colab_type": "code",
        "colab": {
          "base_uri": "https://localhost:8080/",
          "height": 34
        },
        "outputId": "96849ddc-3fe5-4961-857d-34a6a1c8388d"
      },
      "source": [
        "arr1.shape"
      ],
      "execution_count": null,
      "outputs": [
        {
          "output_type": "execute_result",
          "data": {
            "text/plain": [
              "(2, 3)"
            ]
          },
          "metadata": {
            "tags": []
          },
          "execution_count": 39
        }
      ]
    },
    {
      "cell_type": "code",
      "metadata": {
        "id": "fZH-v3rFBlhV",
        "colab_type": "code",
        "colab": {
          "base_uri": "https://localhost:8080/",
          "height": 34
        },
        "outputId": "126f827c-82a5-4514-f28a-db8c861b0cf5"
      },
      "source": [
        "arr3 = np.array([10,11,12])\n",
        "arr3"
      ],
      "execution_count": null,
      "outputs": [
        {
          "output_type": "execute_result",
          "data": {
            "text/plain": [
              "array([10, 11, 12])"
            ]
          },
          "metadata": {
            "tags": []
          },
          "execution_count": 40
        }
      ]
    },
    {
      "cell_type": "code",
      "metadata": {
        "id": "Effgt8xLBnBF",
        "colab_type": "code",
        "colab": {
          "base_uri": "https://localhost:8080/",
          "height": 34
        },
        "outputId": "9b5c7a06-24f5-4167-bb4b-1db380bacf38"
      },
      "source": [
        "arr3.shape"
      ],
      "execution_count": null,
      "outputs": [
        {
          "output_type": "execute_result",
          "data": {
            "text/plain": [
              "(3,)"
            ]
          },
          "metadata": {
            "tags": []
          },
          "execution_count": 41
        }
      ]
    },
    {
      "cell_type": "code",
      "metadata": {
        "id": "WODvF34nBqS1",
        "colab_type": "code",
        "colab": {
          "base_uri": "https://localhost:8080/",
          "height": 50
        },
        "outputId": "3c91a147-d80b-44b4-b7d2-61effdd6024e"
      },
      "source": [
        "arr1 + arr3"
      ],
      "execution_count": null,
      "outputs": [
        {
          "output_type": "execute_result",
          "data": {
            "text/plain": [
              "array([[11, 13, 15],\n",
              "       [14, 16, 18]])"
            ]
          },
          "metadata": {
            "tags": []
          },
          "execution_count": 42
        }
      ]
    },
    {
      "cell_type": "code",
      "metadata": {
        "id": "s3boHEMdBs-d",
        "colab_type": "code",
        "colab": {
          "base_uri": "https://localhost:8080/",
          "height": 50
        },
        "outputId": "0bffd723-47e8-4f29-9d51-4c2a0e9651ab"
      },
      "source": [
        "arr1 * arr3"
      ],
      "execution_count": null,
      "outputs": [
        {
          "output_type": "execute_result",
          "data": {
            "text/plain": [
              "array([[10, 22, 36],\n",
              "       [40, 55, 72]])"
            ]
          },
          "metadata": {
            "tags": []
          },
          "execution_count": 43
        }
      ]
    },
    {
      "cell_type": "markdown",
      "metadata": {
        "id": "kEX-RJH1BvE1",
        "colab_type": "text"
      },
      "source": [
        "위와 같이 서로 크기가 다른 arr1과 arr3의 연산이 가능하다. \n",
        "\n",
        "연산결과를 살펴보면 arr3이 [10,11,12] 에서 [[10,11,12],[10,11,12]]로 확장되어 계산되었음을 확인할 수 있다.\n",
        "\n",
        "동일한 방식으로 하나의 array에 스칼라 연산도 가능하다."
      ]
    },
    {
      "cell_type": "code",
      "metadata": {
        "id": "fPtqVeHcB2sa",
        "colab_type": "code",
        "colab": {
          "base_uri": "https://localhost:8080/",
          "height": 50
        },
        "outputId": "ea8712a2-02d7-46c8-8a21-5e0682bcf1ee"
      },
      "source": [
        "arr1 * 10"
      ],
      "execution_count": null,
      "outputs": [
        {
          "output_type": "execute_result",
          "data": {
            "text/plain": [
              "array([[10, 20, 30],\n",
              "       [40, 50, 60]])"
            ]
          },
          "metadata": {
            "tags": []
          },
          "execution_count": 44
        }
      ]
    },
    {
      "cell_type": "code",
      "metadata": {
        "id": "8DTrqKrpB5EN",
        "colab_type": "code",
        "colab": {
          "base_uri": "https://localhost:8080/",
          "height": 50
        },
        "outputId": "ed0407c2-a7d4-4da9-cacc-3b2148374bc0"
      },
      "source": [
        "# 요소에 대해 제곱처리\n",
        "arr1 ** 2"
      ],
      "execution_count": null,
      "outputs": [
        {
          "output_type": "execute_result",
          "data": {
            "text/plain": [
              "array([[ 1,  4,  9],\n",
              "       [16, 25, 36]])"
            ]
          },
          "metadata": {
            "tags": []
          },
          "execution_count": 45
        }
      ]
    },
    {
      "cell_type": "markdown",
      "metadata": {
        "id": "dNPErpjEB7iN",
        "colab_type": "text"
      },
      "source": [
        "### 4) Array 인덱싱\n",
        "\n",
        "numpy에서 사용되는 인덱싱은 기본적으로 python 인덱싱과 동일하다.\n",
        "\n",
        "이때, python에서와 같이 1번째로 시작하는 것이 아니라 0번째로 시작하는 것에 주의한다."
      ]
    },
    {
      "cell_type": "code",
      "metadata": {
        "id": "bIwpu6omCECF",
        "colab_type": "code",
        "colab": {
          "base_uri": "https://localhost:8080/",
          "height": 34
        },
        "outputId": "2c6800a4-5af9-4d81-bebc-3c019b63d788"
      },
      "source": [
        "arr1 = np.arange(10)\n",
        "arr1"
      ],
      "execution_count": null,
      "outputs": [
        {
          "output_type": "execute_result",
          "data": {
            "text/plain": [
              "array([0, 1, 2, 3, 4, 5, 6, 7, 8, 9])"
            ]
          },
          "metadata": {
            "tags": []
          },
          "execution_count": 46
        }
      ]
    },
    {
      "cell_type": "markdown",
      "metadata": {
        "id": "VkpLBC4ACGZF",
        "colab_type": "text"
      },
      "source": [
        "0번째 요소"
      ]
    },
    {
      "cell_type": "code",
      "metadata": {
        "id": "UYbNWR1dCIpI",
        "colab_type": "code",
        "colab": {
          "base_uri": "https://localhost:8080/",
          "height": 34
        },
        "outputId": "732e96c1-c664-4b37-f7d8-9cc79e883842"
      },
      "source": [
        "arr1[0]"
      ],
      "execution_count": null,
      "outputs": [
        {
          "output_type": "execute_result",
          "data": {
            "text/plain": [
              "0"
            ]
          },
          "metadata": {
            "tags": []
          },
          "execution_count": 47
        }
      ]
    },
    {
      "cell_type": "markdown",
      "metadata": {
        "id": "wFw2GJDhCMHl",
        "colab_type": "text"
      },
      "source": [
        "3번째 요소"
      ]
    },
    {
      "cell_type": "code",
      "metadata": {
        "id": "N6-QreEcCNLe",
        "colab_type": "code",
        "colab": {
          "base_uri": "https://localhost:8080/",
          "height": 34
        },
        "outputId": "c8c9e8f9-1cd8-4f0b-d512-206ce642f274"
      },
      "source": [
        "arr1[3]"
      ],
      "execution_count": null,
      "outputs": [
        {
          "output_type": "execute_result",
          "data": {
            "text/plain": [
              "3"
            ]
          },
          "metadata": {
            "tags": []
          },
          "execution_count": 48
        }
      ]
    },
    {
      "cell_type": "markdown",
      "metadata": {
        "id": "XljUJsQGCQZV",
        "colab_type": "text"
      },
      "source": [
        "3번째 요소부터 8번째 요소"
      ]
    },
    {
      "cell_type": "code",
      "metadata": {
        "id": "B7OwNd0uCUON",
        "colab_type": "code",
        "colab": {
          "base_uri": "https://localhost:8080/",
          "height": 34
        },
        "outputId": "afd72d86-f63d-498e-bd7b-513e3e8b3bd1"
      },
      "source": [
        "arr1[3:9]"
      ],
      "execution_count": null,
      "outputs": [
        {
          "output_type": "execute_result",
          "data": {
            "text/plain": [
              "array([3, 4, 5, 6, 7, 8])"
            ]
          },
          "metadata": {
            "tags": []
          },
          "execution_count": 49
        }
      ]
    },
    {
      "cell_type": "code",
      "metadata": {
        "id": "zdT_n-rpCUr1",
        "colab_type": "code",
        "colab": {
          "base_uri": "https://localhost:8080/",
          "height": 35
        },
        "outputId": "f128bd7b-b14e-4a9e-d099-a18e4235510f"
      },
      "source": [
        "arr1[:]"
      ],
      "execution_count": null,
      "outputs": [
        {
          "output_type": "execute_result",
          "data": {
            "text/plain": [
              "array([0, 1, 2, 3, 4, 5, 6, 7, 8, 9])"
            ]
          },
          "metadata": {
            "tags": []
          },
          "execution_count": 50
        }
      ]
    },
    {
      "cell_type": "markdown",
      "metadata": {
        "id": "lTxa2zSsCbht",
        "colab_type": "text"
      },
      "source": [
        "물론 1차원이 아닌 그 이상의 차원에서도 인덱싱이 가능하다."
      ]
    },
    {
      "cell_type": "code",
      "metadata": {
        "id": "CfNka3bXCfsS",
        "colab_type": "code",
        "colab": {
          "base_uri": "https://localhost:8080/",
          "height": 69
        },
        "outputId": "8d6625b2-d218-478f-ce77-6a23cda5fde1"
      },
      "source": [
        "arr2 = np.array([[1,2,3,4],\n",
        "                 [5,6,7,8],\n",
        "                 [9,10,11,12]])\n",
        "arr2"
      ],
      "execution_count": null,
      "outputs": [
        {
          "output_type": "execute_result",
          "data": {
            "text/plain": [
              "array([[ 1,  2,  3,  4],\n",
              "       [ 5,  6,  7,  8],\n",
              "       [ 9, 10, 11, 12]])"
            ]
          },
          "metadata": {
            "tags": []
          },
          "execution_count": 51
        }
      ]
    },
    {
      "cell_type": "markdown",
      "metadata": {
        "id": "DDscVdjJCivF",
        "colab_type": "text"
      },
      "source": [
        "2차원의 array에서 인덱싱을 하기 위해선 2개의 인자를 입력해야 합니다. "
      ]
    },
    {
      "cell_type": "code",
      "metadata": {
        "id": "U4NM9ghpChMu",
        "colab_type": "code",
        "colab": {
          "base_uri": "https://localhost:8080/",
          "height": 35
        },
        "outputId": "891acde2-e5f5-43bb-94d5-777fd718e696"
      },
      "source": [
        "arr2[0,0]"
      ],
      "execution_count": null,
      "outputs": [
        {
          "output_type": "execute_result",
          "data": {
            "text/plain": [
              "1"
            ]
          },
          "metadata": {
            "tags": []
          },
          "execution_count": 52
        }
      ]
    },
    {
      "cell_type": "markdown",
      "metadata": {
        "id": "Az8RePhtFziL",
        "colab_type": "text"
      },
      "source": [
        "2행의 모든 요소 꺼내기"
      ]
    },
    {
      "cell_type": "code",
      "metadata": {
        "id": "YxgmLZmWF4w3",
        "colab_type": "code",
        "colab": {
          "base_uri": "https://localhost:8080/",
          "height": 35
        },
        "outputId": "e7806c96-b4c7-46bf-b2fb-3f98f8c56752"
      },
      "source": [
        "arr2[2,:]"
      ],
      "execution_count": null,
      "outputs": [
        {
          "output_type": "execute_result",
          "data": {
            "text/plain": [
              "array([ 9, 10, 11, 12])"
            ]
          },
          "metadata": {
            "tags": []
          },
          "execution_count": 53
        }
      ]
    },
    {
      "cell_type": "markdown",
      "metadata": {
        "id": "iCiodnPkII3o",
        "colab_type": "text"
      },
      "source": [
        ""
      ]
    },
    {
      "cell_type": "markdown",
      "metadata": {
        "id": "318iROBNF-jO",
        "colab_type": "text"
      },
      "source": [
        "2행의 3번째 요소 꺼내기"
      ]
    },
    {
      "cell_type": "code",
      "metadata": {
        "id": "dRMYQw-nGBFB",
        "colab_type": "code",
        "colab": {
          "base_uri": "https://localhost:8080/",
          "height": 35
        },
        "outputId": "9b6f3370-2202-4dac-c0d7-fec924cdd13c"
      },
      "source": [
        "arr2[2,3]"
      ],
      "execution_count": null,
      "outputs": [
        {
          "output_type": "execute_result",
          "data": {
            "text/plain": [
              "12"
            ]
          },
          "metadata": {
            "tags": []
          },
          "execution_count": 54
        }
      ]
    },
    {
      "cell_type": "markdown",
      "metadata": {
        "id": "GFkX4GJ-H0xx",
        "colab_type": "text"
      },
      "source": [
        "모든 행의 3번째 요소 꺼내기"
      ]
    },
    {
      "cell_type": "code",
      "metadata": {
        "id": "o0p3OZOxHy_U",
        "colab_type": "code",
        "colab": {
          "base_uri": "https://localhost:8080/",
          "height": 35
        },
        "outputId": "742700ee-15ea-4641-f42f-5e49204b594d"
      },
      "source": [
        "arr2[:,3]"
      ],
      "execution_count": null,
      "outputs": [
        {
          "output_type": "execute_result",
          "data": {
            "text/plain": [
              "array([ 4,  8, 12])"
            ]
          },
          "metadata": {
            "tags": []
          },
          "execution_count": 55
        }
      ]
    },
    {
      "cell_type": "markdown",
      "metadata": {
        "id": "D3ED-D-iQu1r",
        "colab_type": "text"
      },
      "source": [
        "특정 부분만 꺼내기"
      ]
    },
    {
      "cell_type": "code",
      "metadata": {
        "id": "3XLC_GwhQgTF",
        "colab_type": "code",
        "colab": {
          "base_uri": "https://localhost:8080/",
          "height": 104
        },
        "outputId": "5c4e0510-c955-4183-cf06-9fc187c6c794"
      },
      "source": [
        "print(arr2)\n",
        "arr2[1:3, 1:3]"
      ],
      "execution_count": null,
      "outputs": [
        {
          "output_type": "stream",
          "text": [
            "[[ 1  2  3  4]\n",
            " [ 5  6  7  8]\n",
            " [ 9 10 11 12]]\n"
          ],
          "name": "stdout"
        },
        {
          "output_type": "execute_result",
          "data": {
            "text/plain": [
              "array([[ 6,  7],\n",
              "       [10, 11]])"
            ]
          },
          "metadata": {
            "tags": []
          },
          "execution_count": 56
        }
      ]
    },
    {
      "cell_type": "markdown",
      "metadata": {
        "id": "1BnTP4WqH57O",
        "colab_type": "text"
      },
      "source": [
        "### 5) Array boolean 인덱싱(마스크)\n",
        "\n",
        "numpy에서는 array에 적용되는 다양한 함수가 있다."
      ]
    },
    {
      "cell_type": "markdown",
      "metadata": {
        "id": "cIur8v6nISQU",
        "colab_type": "text"
      },
      "source": [
        "**5-1. 하나의 array에 적용되는 함수**"
      ]
    },
    {
      "cell_type": "code",
      "metadata": {
        "id": "kvYwHyepIvoe",
        "colab_type": "code",
        "colab": {}
      },
      "source": [
        "arr1 = np.random.randn(5,3)\n",
        "arr1"
      ],
      "execution_count": null,
      "outputs": []
    },
    {
      "cell_type": "markdown",
      "metadata": {
        "id": "va2H5-JfIwwP",
        "colab_type": "text"
      },
      "source": [
        "각 성분의 절대값 계산하기"
      ]
    },
    {
      "cell_type": "code",
      "metadata": {
        "id": "n45mad8nI3n3",
        "colab_type": "code",
        "colab": {}
      },
      "source": [
        "np.abs(arr1)"
      ],
      "execution_count": null,
      "outputs": []
    },
    {
      "cell_type": "markdown",
      "metadata": {
        "id": "185gK0NqI5Cu",
        "colab_type": "text"
      },
      "source": [
        "각 성분의 제곱근 계산하기 ( == array ** 0.5)"
      ]
    },
    {
      "cell_type": "code",
      "metadata": {
        "id": "MSNSI4S7I9Lm",
        "colab_type": "code",
        "colab": {}
      },
      "source": [
        "np.sqrt(arr1)"
      ],
      "execution_count": null,
      "outputs": []
    },
    {
      "cell_type": "markdown",
      "metadata": {
        "id": "A5J0vFqrI-1-",
        "colab_type": "text"
      },
      "source": [
        "**5-2. 두 개의 array에 적용되는 함수**"
      ]
    },
    {
      "cell_type": "code",
      "metadata": {
        "id": "hlbvmqTXJRXv",
        "colab_type": "code",
        "colab": {}
      },
      "source": [
        "arr1"
      ],
      "execution_count": null,
      "outputs": []
    },
    {
      "cell_type": "code",
      "metadata": {
        "id": "zAQGegg1JSgG",
        "colab_type": "code",
        "colab": {}
      },
      "source": [
        "arr2 = np.random.randn(5,3)\n",
        "arr2"
      ],
      "execution_count": null,
      "outputs": []
    },
    {
      "cell_type": "markdown",
      "metadata": {
        "id": "FKwsqR2sJUxk",
        "colab_type": "text"
      },
      "source": [
        "두 개의 array에 대해 동일한 위치의 성분끼리 연산 값을 계산하기(add, subtract, multiply, divide)"
      ]
    },
    {
      "cell_type": "code",
      "metadata": {
        "id": "7dQEXsYuJUCR",
        "colab_type": "code",
        "colab": {}
      },
      "source": [
        "np.multiply(arr1,arr2)"
      ],
      "execution_count": null,
      "outputs": []
    },
    {
      "cell_type": "markdown",
      "metadata": {
        "id": "jNAgloSRJYf2",
        "colab_type": "text"
      },
      "source": [
        "두 개의 array에 대해 동일한 위치의 성분끼리 비교하여 최대값 또는 최소값 계산하기(maximum, minimum)"
      ]
    },
    {
      "cell_type": "code",
      "metadata": {
        "id": "iVdDCX6OJfPX",
        "colab_type": "code",
        "colab": {}
      },
      "source": [
        "np.maximum(arr1,arr2)"
      ],
      "execution_count": null,
      "outputs": []
    },
    {
      "cell_type": "markdown",
      "metadata": {
        "id": "qB7T3rUKJgTW",
        "colab_type": "text"
      },
      "source": [
        "**6-3. 통계 함수**\n",
        "\n",
        "통계 함수를 통해 array의 합이나 평균등을 구할 때,\n",
        "\n",
        "추가로 axis라는 인자에 대한 값을 지정하여 열 또는 행의 합 또는 평균등을 구할 수 있다."
      ]
    },
    {
      "cell_type": "code",
      "metadata": {
        "id": "57mCgmTjJlxg",
        "colab_type": "code",
        "colab": {
          "base_uri": "https://localhost:8080/",
          "height": 101
        },
        "outputId": "3c3033ed-d1b9-42e5-a903-66c1c84225d1"
      },
      "source": [
        "arr1=np.random.randn(5,3)\n",
        "arr1"
      ],
      "execution_count": null,
      "outputs": [
        {
          "output_type": "execute_result",
          "data": {
            "text/plain": [
              "array([[-0.46005564,  0.18198178, -2.1386053 ],\n",
              "       [-1.07847607,  0.05792211,  1.64086583],\n",
              "       [ 0.92643324,  0.86153575,  1.74690579],\n",
              "       [-0.13068043, -0.71087449,  0.67646052],\n",
              "       [-0.11034742, -0.2199008 ,  0.30027672]])"
            ]
          },
          "metadata": {
            "tags": []
          },
          "execution_count": 57
        }
      ]
    },
    {
      "cell_type": "code",
      "metadata": {
        "id": "VnxxXux7KSpq",
        "colab_type": "code",
        "colab": {
          "base_uri": "https://localhost:8080/",
          "height": 34
        },
        "outputId": "019a1b69-fd40-4116-df92-0908d45b5c96"
      },
      "source": [
        "arr1.shape"
      ],
      "execution_count": null,
      "outputs": [
        {
          "output_type": "execute_result",
          "data": {
            "text/plain": [
              "(5, 3)"
            ]
          },
          "metadata": {
            "tags": []
          },
          "execution_count": 58
        }
      ]
    },
    {
      "cell_type": "markdown",
      "metadata": {
        "id": "Y1YPsy8xJnZi",
        "colab_type": "text"
      },
      "source": [
        "전체 성분의 합을 계산"
      ]
    },
    {
      "cell_type": "code",
      "metadata": {
        "id": "bMwX4RX4Jqlm",
        "colab_type": "code",
        "colab": {
          "base_uri": "https://localhost:8080/",
          "height": 34
        },
        "outputId": "ecbb76fe-da83-4416-93c3-18af3884dd1d"
      },
      "source": [
        "np.sum(arr1)"
      ],
      "execution_count": null,
      "outputs": [
        {
          "output_type": "execute_result",
          "data": {
            "text/plain": [
              "1.5434415732245594"
            ]
          },
          "metadata": {
            "tags": []
          },
          "execution_count": 59
        }
      ]
    },
    {
      "cell_type": "markdown",
      "metadata": {
        "id": "IIvec07QJsIW",
        "colab_type": "text"
      },
      "source": [
        "행간의 합을 계산 (1축 기준)"
      ]
    },
    {
      "cell_type": "code",
      "metadata": {
        "id": "awzTzkB-JulG",
        "colab_type": "code",
        "colab": {
          "base_uri": "https://localhost:8080/",
          "height": 34
        },
        "outputId": "9671244a-5f5f-4508-90d8-90dd0132c70e"
      },
      "source": [
        "np.sum(arr1, axis=1)"
      ],
      "execution_count": null,
      "outputs": [
        {
          "output_type": "execute_result",
          "data": {
            "text/plain": [
              "array([-2.41667917,  0.62031187,  3.53487477, -0.1650944 , -0.0299715 ])"
            ]
          },
          "metadata": {
            "tags": []
          },
          "execution_count": 60
        }
      ]
    },
    {
      "cell_type": "markdown",
      "metadata": {
        "id": "ZpzMpSW8JxJm",
        "colab_type": "text"
      },
      "source": [
        "열 간의 합을 계산(0축 기준)"
      ]
    },
    {
      "cell_type": "code",
      "metadata": {
        "id": "UxaANw3KJ1XA",
        "colab_type": "code",
        "colab": {
          "base_uri": "https://localhost:8080/",
          "height": 34
        },
        "outputId": "c1795f36-0f75-4a03-d68a-50e7e0195a2e"
      },
      "source": [
        "np.sum(arr1, axis=0)"
      ],
      "execution_count": null,
      "outputs": [
        {
          "output_type": "execute_result",
          "data": {
            "text/plain": [
              "array([-0.85312632,  0.17066435,  2.22590355])"
            ]
          },
          "metadata": {
            "tags": []
          },
          "execution_count": 61
        }
      ]
    },
    {
      "cell_type": "markdown",
      "metadata": {
        "id": "uipfDNhNJ3X2",
        "colab_type": "text"
      },
      "source": [
        "전체 성분의 평균을 계산"
      ]
    },
    {
      "cell_type": "code",
      "metadata": {
        "id": "NseHM3eBJ8De",
        "colab_type": "code",
        "colab": {}
      },
      "source": [
        "np.mean(arr1)"
      ],
      "execution_count": null,
      "outputs": []
    },
    {
      "cell_type": "markdown",
      "metadata": {
        "id": "XtVsTIHAJ_FG",
        "colab_type": "text"
      },
      "source": [
        "열 간의 평균을 계산 (0축 기준)"
      ]
    },
    {
      "cell_type": "code",
      "metadata": {
        "id": "IaJ-R_pTKBTe",
        "colab_type": "code",
        "colab": {}
      },
      "source": [
        "np.mean(arr1, axis=0)"
      ],
      "execution_count": null,
      "outputs": []
    },
    {
      "cell_type": "markdown",
      "metadata": {
        "id": "gE9QQAbBOigW",
        "colab_type": "text"
      },
      "source": [
        "행 간의 평균을 계산 (1축 기준)"
      ]
    },
    {
      "cell_type": "code",
      "metadata": {
        "id": "pRN3Zc4rKDY5",
        "colab_type": "code",
        "colab": {}
      },
      "source": [
        "np.mean(arr1, axis=1)"
      ],
      "execution_count": null,
      "outputs": []
    },
    {
      "cell_type": "markdown",
      "metadata": {
        "id": "VNf4KI21KLyG",
        "colab_type": "text"
      },
      "source": [
        "전체 성분의 표준편차, 분산, 최소값, 최대값 계산(std, var, min, max)\n"
      ]
    },
    {
      "cell_type": "code",
      "metadata": {
        "id": "mmnqEv3SO_QX",
        "colab_type": "code",
        "colab": {}
      },
      "source": [
        "np.std(arr1)"
      ],
      "execution_count": null,
      "outputs": []
    },
    {
      "cell_type": "markdown",
      "metadata": {
        "id": "z-4mK9wAPAt3",
        "colab_type": "text"
      },
      "source": [
        "열간의 표준편차 계산 (0축 기준)"
      ]
    },
    {
      "cell_type": "code",
      "metadata": {
        "id": "6nnVaoaOPFj_",
        "colab_type": "code",
        "colab": {}
      },
      "source": [
        "np.std(arr1, axis=0)"
      ],
      "execution_count": null,
      "outputs": []
    },
    {
      "cell_type": "markdown",
      "metadata": {
        "id": "JdLZ9NcQPHYH",
        "colab_type": "text"
      },
      "source": [
        "행간의 표준편차 계산 (1축 기준)"
      ]
    },
    {
      "cell_type": "code",
      "metadata": {
        "id": "REjVZS6LPLQg",
        "colab_type": "code",
        "colab": {}
      },
      "source": [
        "np.std(arr1, axis=1)"
      ],
      "execution_count": null,
      "outputs": []
    },
    {
      "cell_type": "markdown",
      "metadata": {
        "id": "x8g-XQYvPNhH",
        "colab_type": "text"
      },
      "source": [
        "전체 성분의 최소값, 최대값이 위치한 인덱스를 반환(argmin, argmax)"
      ]
    },
    {
      "cell_type": "code",
      "metadata": {
        "id": "z9RxuD4-PV0P",
        "colab_type": "code",
        "colab": {}
      },
      "source": [
        "np.argmax(arr1)"
      ],
      "execution_count": null,
      "outputs": []
    },
    {
      "cell_type": "markdown",
      "metadata": {
        "id": "ml-VX9YLPseo",
        "colab_type": "text"
      },
      "source": [
        "열간의 최대값이 위치한 인덱스를 반환"
      ]
    },
    {
      "cell_type": "code",
      "metadata": {
        "id": "Qk7_m8yAPYl2",
        "colab_type": "code",
        "colab": {}
      },
      "source": [
        "np.argmax(arr1, axis=0)"
      ],
      "execution_count": null,
      "outputs": []
    },
    {
      "cell_type": "markdown",
      "metadata": {
        "id": "Bix6EmDRPxK3",
        "colab_type": "text"
      },
      "source": [
        "행간의 최대값이 위치한 인덱스를 반환"
      ]
    },
    {
      "cell_type": "code",
      "metadata": {
        "id": "Q9fKXYslPdAf",
        "colab_type": "code",
        "colab": {}
      },
      "source": [
        "np.argmax(arr1, axis=1)"
      ],
      "execution_count": null,
      "outputs": []
    }
  ]
}