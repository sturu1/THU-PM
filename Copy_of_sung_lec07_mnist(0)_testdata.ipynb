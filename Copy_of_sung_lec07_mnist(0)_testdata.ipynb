{
  "nbformat": 4,
  "nbformat_minor": 0,
  "metadata": {
    "colab": {
      "name": "Copy of sung_lec07_mnist(0)_testdata.ipynb",
      "provenance": [],
      "collapsed_sections": [],
      "include_colab_link": true
    },
    "kernelspec": {
      "name": "python3",
      "display_name": "Python 3"
    }
  },
  "cells": [
    {
      "cell_type": "markdown",
      "metadata": {
        "id": "view-in-github",
        "colab_type": "text"
      },
      "source": [
        "<a href=\"https://colab.research.google.com/github/sturu1/THU-PM/blob/master/Copy_of_sung_lec07_mnist(0)_testdata.ipynb\" target=\"_parent\"><img src=\"https://colab.research.google.com/assets/colab-badge.svg\" alt=\"Open In Colab\"/></a>"
      ]
    },
    {
      "cell_type": "markdown",
      "metadata": {
        "id": "5PhUiFYcKd3W",
        "colab_type": "text"
      },
      "source": [
        "# 딥러닝 입문을 위한 준비작업\n",
        "\n",
        "여러분이 지금까지 배운 머신러닝의 지도학습(supervised learning)은 다음과 같습니다. \n",
        "\n",
        "* linear regression: 숫자 예측시 사용, activation함수 없음. 손실함수로 `mse' 사용, 마지막 layer에 `units=1`을 설정\n",
        "* binary classification(logistic reression): 두개의 클래스를 분류시 사용, activation 함수로 `sigmoid`, 손실함수로 `binary_crossentropy`를 사용, 마지막 layer에 `units=1`을 설정\n",
        "* multi-label claasification(softmax): 여러개의 클래스 분류시 사용, activation 함수로 `softmax`, 손실함수로 'categorical_crossentropy' 사용, 마지막 layer에 `units=클래스 갯수`로 설정\n",
        "\n",
        "지금까지 배운 내용은 deep learning에서도 그대로 활용됩니다. 차이점은 기존 학습 내용에서는 네트워크의 구조가 매우 단순했다는 겁니다(layer 1개)\n",
        "\n",
        "단순한 구조의 네트워크는 매우 단순한 학습만 할수 있습니다. 복잡한 문제에서 분류 및 예측 정확도가 높은 모델을 만들기 위해서는 보다 복잡한 네트워크 구조가 필요합니다. (물론 복작하다고 다 좋은 것은 아닙니다. 뒤에서 자세히 다루겠습니다.)\n",
        "\n",
        "이번 수업에서는 복잡한 네트워크 구조를 이용한 'Deep Learning' 학습에 입문하기 위해 필요한 몇가지를 학습하도록 하겠습니다. . "
      ]
    },
    {
      "cell_type": "markdown",
      "metadata": {
        "id": "AHYdHq8ExTM7",
        "colab_type": "text"
      },
      "source": [
        "먼저 필요한 모듈을 불러옵니다. \n"
      ]
    },
    {
      "cell_type": "code",
      "metadata": {
        "id": "Emzz6zJ-JFVS",
        "colab_type": "code",
        "colab": {}
      },
      "source": [
        "import numpy as np\n",
        "from keras.models import Sequential\n",
        "from keras.layers import Dense\n",
        "from keras.optimizers import SGD"
      ],
      "execution_count": null,
      "outputs": []
    },
    {
      "cell_type": "markdown",
      "metadata": {
        "id": "ZSY1GMGxLAMu",
        "colab_type": "text"
      },
      "source": [
        "입출력 데이터를 정의하겠습니다. \n",
        "\n",
        "이 예제에서는 이전과 다르게 훈련데이터와 테스트데이터를 각각 정의했습니다. \n",
        "\n",
        "그럼, 왜 데이터를 훈련데이터와 테스트데이터로 구분할까요? \n",
        "\n",
        "그 이유는 간단합니다. 훈련데이터로 학습한 모델은 당연히 훈련데이터에 대해 좋은 성능을 나타낼 것입니다. 그러나 우리의 목적은 새로운 데이터에 대해서도 좋은 성능이 나타나는 모델입니다. 따라서 훈련에 한번도 사용하지 않은 새로운 데이터에 대한 성능을 확인해 봐야 합니다. 이것에 데이터를 훈련/학습 데이터로 구분하는 이유입니다. \n",
        "\n",
        "마치 여러분이 모의고사를 통해 실력을 키웠으면, 실제 수능을 보고 그 실력을 테스태해 보아야 하는 것과 같습니다. 여기서 모의고사와 실제 수능 문제가 같으면 안되겠지요? "
      ]
    },
    {
      "cell_type": "code",
      "metadata": {
        "id": "bowD0hF3JZ9c",
        "colab_type": "code",
        "colab": {}
      },
      "source": [
        "x_train = np.array([[1, 2, 1], [1, 3, 2], [1, 3, 4], [1, 5, 5],\n",
        "          [1, 7, 5], [1, 2, 5], [1, 6, 6], [1, 7, 7]])\n",
        "y_train = np.array([[0, 0, 1], [0, 0, 1], [0, 0, 1], [0, 1, 0],\n",
        "          [0, 1, 0], [0, 1, 0], [1, 0, 0], [1, 0, 0]])"
      ],
      "execution_count": null,
      "outputs": []
    },
    {
      "cell_type": "code",
      "metadata": {
        "id": "-lDFHrfhJc8i",
        "colab_type": "code",
        "colab": {}
      },
      "source": [
        "# Evaluation our model using this test dataset\n",
        "x_test = np.array([[2, 1, 1], [3, 1, 2], [3, 3, 4]])\n",
        "y_test = np.array([[0, 0, 1], [0, 0, 1], [0, 0, 1]])"
      ],
      "execution_count": null,
      "outputs": []
    },
    {
      "cell_type": "markdown",
      "metadata": {
        "id": "Ntr_MR15LT3f",
        "colab_type": "text"
      },
      "source": [
        "모양을 확인해 보겠습니다."
      ]
    },
    {
      "cell_type": "code",
      "metadata": {
        "id": "YVYVOdy8LZvl",
        "colab_type": "code",
        "colab": {}
      },
      "source": [
        "x_train.shape, y_train.shape, x_test.shape, y_test.shape"
      ],
      "execution_count": null,
      "outputs": []
    },
    {
      "cell_type": "markdown",
      "metadata": {
        "id": "b-T8cW8oLl3G",
        "colab_type": "text"
      },
      "source": [
        "모델을 생성하겠습니다. \n",
        "\n",
        "* 다중 분류 문제이므로 units의 개수를 클래스의 개수로 하였습니다. \n",
        "* 입력데이터 한 개체의 모양을 input_shape에 기입합니다. \n",
        "* 다중 분류 문제이므로 `activation` 함수로 `softmax`를 사용합니다.   \n",
        "\n"
      ]
    },
    {
      "cell_type": "code",
      "metadata": {
        "id": "lHLiFIloJeJa",
        "colab_type": "code",
        "colab": {}
      },
      "source": [
        "model = Sequential()\n",
        "model.add(Dense(units=3, input_shape=(3,), activation='softmax'))"
      ],
      "execution_count": null,
      "outputs": []
    },
    {
      "cell_type": "code",
      "metadata": {
        "id": "t8afxcFuJr0S",
        "colab_type": "code",
        "colab": {}
      },
      "source": [
        "model.summary()"
      ],
      "execution_count": null,
      "outputs": []
    },
    {
      "cell_type": "code",
      "metadata": {
        "id": "F_lktI4oJ0X8",
        "colab_type": "code",
        "colab": {}
      },
      "source": [
        "model.compile(loss='categorical_crossentropy',\n",
        "              optimizer=SGD(lr=0.1),\n",
        "              metrics=['accuracy'])"
      ],
      "execution_count": null,
      "outputs": []
    },
    {
      "cell_type": "markdown",
      "metadata": {
        "id": "z6ZFKpfFtAqf",
        "colab_type": "text"
      },
      "source": [
        "모델의 생성이 끝났이니, 이제 훈련데이터(traninig data)를 기반으로 학습을 진행하겠습니다. "
      ]
    },
    {
      "cell_type": "code",
      "metadata": {
        "id": "rMgMutPOJ2FG",
        "colab_type": "code",
        "colab": {}
      },
      "source": [
        "history = model.fit(x_train, y_train, epochs=200)"
      ],
      "execution_count": null,
      "outputs": []
    },
    {
      "cell_type": "markdown",
      "metadata": {
        "id": "DgFdlY2QtThN",
        "colab_type": "text"
      },
      "source": [
        "훈련데이터에 대해 약 75% 정도의 정확도를 보이고 있군요. \n",
        "이제 테스트 데이터에 대해 어느정도 정확도를 보이는지 살펴보겠습니다."
      ]
    },
    {
      "cell_type": "code",
      "metadata": {
        "id": "OR-UgdEnJ4o2",
        "colab_type": "code",
        "colab": {}
      },
      "source": [
        "model.predict(x_test)"
      ],
      "execution_count": null,
      "outputs": []
    },
    {
      "cell_type": "code",
      "metadata": {
        "id": "NgYHjgZcxqU-",
        "colab_type": "code",
        "colab": {}
      },
      "source": [
        "model.predict_classes(x_test)"
      ],
      "execution_count": null,
      "outputs": []
    },
    {
      "cell_type": "code",
      "metadata": {
        "id": "YMHafOSPxwzB",
        "colab_type": "code",
        "colab": {}
      },
      "source": [
        "np.argmax(y_test, axis=1)"
      ],
      "execution_count": null,
      "outputs": []
    },
    {
      "cell_type": "code",
      "metadata": {
        "id": "-lTBbCtkyI7_",
        "colab_type": "code",
        "colab": {}
      },
      "source": [
        "for i,j in zip(model.predict_classes(x_test), np.argmax(y_test, axis=1)):\n",
        "  print(\"predict_class: {}, real_class: {}\".format(i,j))"
      ],
      "execution_count": null,
      "outputs": []
    },
    {
      "cell_type": "markdown",
      "metadata": {
        "id": "N6a65zH6yk1T",
        "colab_type": "text"
      },
      "source": [
        "사실, keras에는 test를 수행해서 그 성능을 손쉽게 보여주는 함수가 있습니다. 바로 `evaluate` 함수 입니다. 이번에는 `evaluate`함수를 사용해서 성능을 알아보겠습니다. "
      ]
    },
    {
      "cell_type": "code",
      "metadata": {
        "id": "-JzautKiJ81J",
        "colab_type": "code",
        "colab": {}
      },
      "source": [
        "score = model.evaluate(x_test, y_test)"
      ],
      "execution_count": null,
      "outputs": []
    },
    {
      "cell_type": "markdown",
      "metadata": {
        "id": "F1kZgj5my5Nf",
        "colab_type": "text"
      },
      "source": [
        "`evaluate` 함수의 실행결과는 손실함수 값과 accuracy 입니다. "
      ]
    },
    {
      "cell_type": "code",
      "metadata": {
        "id": "9vdhSoE0KAt6",
        "colab_type": "code",
        "colab": {}
      },
      "source": [
        "score"
      ],
      "execution_count": null,
      "outputs": []
    },
    {
      "cell_type": "markdown",
      "metadata": {
        "id": "yT6NA8k8zB6t",
        "colab_type": "text"
      },
      "source": [
        "test 데이터에 대해 100% 정확도를 보임을 알 수 있군요. "
      ]
    }
  ]
}