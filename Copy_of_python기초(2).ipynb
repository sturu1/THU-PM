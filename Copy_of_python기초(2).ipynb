{
  "nbformat": 4,
  "nbformat_minor": 0,
  "metadata": {
    "colab": {
      "name": "Copy of python기초(2).ipynb",
      "provenance": [],
      "collapsed_sections": [],
      "include_colab_link": true
    },
    "kernelspec": {
      "name": "python3",
      "display_name": "Python 3"
    }
  },
  "cells": [
    {
      "cell_type": "markdown",
      "metadata": {
        "id": "view-in-github",
        "colab_type": "text"
      },
      "source": [
        "<a href=\"https://colab.research.google.com/github/sturu1/THU-PM/blob/master/Copy_of_python%EA%B8%B0%EC%B4%88(2).ipynb\" target=\"_parent\"><img src=\"https://colab.research.google.com/assets/colab-badge.svg\" alt=\"Open In Colab\"/></a>"
      ]
    },
    {
      "cell_type": "markdown",
      "metadata": {
        "id": "4InmU5YGKeVT",
        "colab_type": "text"
      },
      "source": [
        "## 5. 조건문\n",
        "\n",
        "### 5.1 비교연산자\n",
        "\n",
        "> * 두 피연산자를 비교하는 연산자\n",
        "* 파이썬은 다음과 같이 6가지를 제공\n",
        "*   ==, >=,>, <=,<. !=\n"
      ]
    },
    {
      "cell_type": "code",
      "metadata": {
        "id": "wPwxqlxIMh6Z",
        "colab_type": "code",
        "colab": {}
      },
      "source": [
        "a=30"
      ],
      "execution_count": null,
      "outputs": []
    },
    {
      "cell_type": "code",
      "metadata": {
        "id": "P8wLNTmdMkLZ",
        "colab_type": "code",
        "colab": {}
      },
      "source": [
        "a==30"
      ],
      "execution_count": null,
      "outputs": []
    },
    {
      "cell_type": "code",
      "metadata": {
        "id": "bSGIfhqSM4My",
        "colab_type": "code",
        "colab": {}
      },
      "source": [
        "a==40"
      ],
      "execution_count": null,
      "outputs": []
    },
    {
      "cell_type": "code",
      "metadata": {
        "id": "1smRz4-zMxKo",
        "colab_type": "code",
        "colab": {}
      },
      "source": [
        "a>30"
      ],
      "execution_count": null,
      "outputs": []
    },
    {
      "cell_type": "code",
      "metadata": {
        "id": "FhBA8sPCM1uy",
        "colab_type": "code",
        "colab": {}
      },
      "source": [
        "a>=30"
      ],
      "execution_count": null,
      "outputs": []
    },
    {
      "cell_type": "markdown",
      "metadata": {
        "id": "pjQno98wMfr2",
        "colab_type": "text"
      },
      "source": [
        "\n",
        "\n",
        "\n",
        "### 5.2 코드블록(Code Block)\n",
        "> * 여러 코드가 이루는 일정한 구역\n",
        "* 프로그래밍 언어들마다 이것을 표현하는 방법이 다름\n",
        "* 파이썬은 들여쓰기로 구역을 나눔\n",
        "* 들여쓰기는 스페이스(Space)나 탭(Tab) 둘 다 사용 가능\n",
        "* 파이썬을 만든 귀도는 스페이스 4칸을 사용할 것을 권장\n",
        "\n",
        "\n"
      ]
    },
    {
      "cell_type": "markdown",
      "metadata": {
        "id": "fO2pSEelNG2f",
        "colab_type": "text"
      },
      "source": [
        "## 5.3 조건문\n",
        "기본구조\n",
        "```\n",
        "if 조건:\n",
        "    명령1\n",
        "    명령2\n",
        "    ….\n",
        "else:\n",
        "    명령3\n",
        "    명령4\n",
        "    … \n",
        "```"
      ]
    },
    {
      "cell_type": "code",
      "metadata": {
        "id": "XQNaefpV8Fhu",
        "colab_type": "code",
        "colab": {}
      },
      "source": [
        "a=30\n",
        "if a==30:\n",
        "  a=a+30\n",
        "\n",
        "print(a)"
      ],
      "execution_count": null,
      "outputs": []
    },
    {
      "cell_type": "code",
      "metadata": {
        "id": "oC-gU8EYKIma",
        "colab_type": "code",
        "colab": {}
      },
      "source": [
        "a = int(input('수를 입력하세요 : '))\n",
        "\n",
        "if a == 0 : \n",
        "    print('0은 나눗셈에 이용할 수 없습니다.')\n",
        "else :\n",
        "    print('3 /', a, '=', 3/a)"
      ],
      "execution_count": null,
      "outputs": []
    },
    {
      "cell_type": "markdown",
      "metadata": {
        "id": "6eaplE4tNkm6",
        "colab_type": "text"
      },
      "source": [
        "여러 개의 조건을 다룰 때는?\n",
        "\n",
        "if와 함께 elif 절 사용  \n",
        "```\n",
        "if 조건1:\n",
        "    코드블록\n",
        "    …\n",
        "elif 조건2:\n",
        "    코드블록\n",
        "    …\n",
        "elif 조건3:\n",
        "    코드블록\n",
        "    …\n",
        "elif 조건4:\n",
        "    코드블록\n",
        "    …\n",
        "else:\n",
        "    코드블록\n",
        "    … \n",
        "```"
      ]
    },
    {
      "cell_type": "code",
      "metadata": {
        "id": "BtlH7MFvNV1H",
        "colab_type": "code",
        "colab": {}
      },
      "source": [
        "print('수를 입력하세요 : ')\n",
        "a = int(input())\n",
        "\n",
        "if a > 10 and a % 2 == 0:\n",
        "    print('10보다 큰 짝수')\n",
        "elif a > 10 and a % 2 != 0:\n",
        "    print('10보다 큰 홀수')        \n",
        "elif a % 2 == 0 :\n",
        "    print('10이하의 짝수')\n",
        "else :\n",
        "    print('10이하의 홀수')"
      ],
      "execution_count": null,
      "outputs": []
    },
    {
      "cell_type": "markdown",
      "metadata": {
        "id": "hW1GaIiAN_DA",
        "colab_type": "text"
      },
      "source": [
        "> 논리 연산자\n",
        "  * and 연산자\n",
        "    * 두 피연산자 간의 논리곱을 수행\n",
        "    * 논리곱 연산의 결과는 두 피연산자 모두가 True인 경우에만 True가 되고, 그렇지 않은 경우에는 항상 False\n",
        "  * or 연산자\n",
        "    * 두 피연산자 모두가 False인 경우에만 False가 되고, 그렇지 않은 경우에는 그 결과가 항상  True\n"
      ]
    },
    {
      "cell_type": "code",
      "metadata": {
        "id": "qeE8gxjwN2a4",
        "colab_type": "code",
        "colab": {}
      },
      "source": [
        "True and True"
      ],
      "execution_count": null,
      "outputs": []
    },
    {
      "cell_type": "code",
      "metadata": {
        "id": "z-o1yOgoOSfY",
        "colab_type": "code",
        "colab": {}
      },
      "source": [
        "True and False"
      ],
      "execution_count": null,
      "outputs": []
    },
    {
      "cell_type": "code",
      "metadata": {
        "id": "6q5zHNBuOUbR",
        "colab_type": "code",
        "colab": {}
      },
      "source": [
        "True or False"
      ],
      "execution_count": null,
      "outputs": []
    },
    {
      "cell_type": "code",
      "metadata": {
        "id": "_q_ZB1aROfrB",
        "colab_type": "code",
        "colab": {}
      },
      "source": [
        "False or False"
      ],
      "execution_count": null,
      "outputs": []
    },
    {
      "cell_type": "markdown",
      "metadata": {
        "id": "bkQg4FFCOvUx",
        "colab_type": "text"
      },
      "source": [
        "## 6. 반복문\n",
        "\n",
        "> for 문 사용하기\n",
        "```\n",
        "for 반복자 in 반복할 수 있는것:\n",
        "    코드\n",
        "```\n",
        "\n"
      ]
    },
    {
      "cell_type": "code",
      "metadata": {
        "id": "bG-rSIx5PRch",
        "colab_type": "code",
        "colab": {}
      },
      "source": [
        "array = [12,42,53,12,45]\n",
        "for i in array:\n",
        "  print(i)"
      ],
      "execution_count": null,
      "outputs": []
    },
    {
      "cell_type": "code",
      "metadata": {
        "id": "KE2YziNuAPIw",
        "colab_type": "code",
        "colab": {}
      },
      "source": [
        "temp = range(1,10)\n",
        "list(temp)"
      ],
      "execution_count": null,
      "outputs": []
    },
    {
      "cell_type": "code",
      "metadata": {
        "id": "nD6rApuIOhph",
        "colab_type": "code",
        "colab": {}
      },
      "source": [
        "for j in range(1,10):\n",
        "  print(j)"
      ],
      "execution_count": null,
      "outputs": []
    },
    {
      "cell_type": "code",
      "metadata": {
        "id": "w39Mo9-RPqNw",
        "colab_type": "code",
        "colab": {}
      },
      "source": [
        "for i in range(2,10):\n",
        "  for j in range(1,10):\n",
        "    print(\"{}*{}={}\".format(i,j,i*j))"
      ],
      "execution_count": null,
      "outputs": []
    },
    {
      "cell_type": "code",
      "metadata": {
        "id": "nB9-1JdxPz1g",
        "colab_type": "code",
        "colab": {}
      },
      "source": [
        ""
      ],
      "execution_count": null,
      "outputs": []
    }
  ]
}