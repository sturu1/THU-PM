{
  "nbformat": 4,
  "nbformat_minor": 0,
  "metadata": {
    "colab": {
      "name": "Copy of sung_lec04_softmax(1).ipynb",
      "provenance": [],
      "collapsed_sections": [],
      "include_colab_link": true
    },
    "kernelspec": {
      "name": "python3",
      "display_name": "Python 3"
    }
  },
  "cells": [
    {
      "cell_type": "markdown",
      "metadata": {
        "id": "view-in-github",
        "colab_type": "text"
      },
      "source": [
        "<a href=\"https://colab.research.google.com/github/sturu1/THU-PM/blob/master/Copy_of_sung_lec04_softmax(1).ipynb\" target=\"_parent\"><img src=\"https://colab.research.google.com/assets/colab-badge.svg\" alt=\"Open In Colab\"/></a>"
      ]
    },
    {
      "cell_type": "markdown",
      "metadata": {
        "id": "1AYZ_CLanJJJ",
        "colab_type": "text"
      },
      "source": [
        "# Softmax regression\n",
        "\n",
        "이번시간에는 **다중분류 (multi-label classification)**실습을 진행하겠습니다. 먼저 간단한 예제를 통해 다중분류 모델의 구성 방법에 대해 학습해 보겠습니다. \n",
        "\n",
        "다중분류는 **softmax regression**이라는 용어로도 사용됩니다. 이론시간에 공부했지만, 이는 입력데이터를 선형변환(linear regression) 한 이후, **softmax 활성함수**를 통해 각 클래스에 속할 확률값을 계산하기 때문입니다. "
      ]
    },
    {
      "cell_type": "markdown",
      "metadata": {
        "id": "3hjzOhLf2NC_",
        "colab_type": "text"
      },
      "source": [
        "먼저, 실습할 데이터를 정의하겠습니다. 4개의 속성을 갖는 입력데이터와 3개의 클래스 중 하나를 갖는 출력데이터가 다음과 같이 구성되어 있습니다. \n",
        "\n",
        "이 예제에서는 출력데이터가 이미 **one-hot encoding** 되어 있습니다. 즉 3개의 클래스가 존재하기 때문에 출력데이터의 속성도 3개가 됩니다. \n",
        "\n",
        "만일, 상중하를 분류하는 문제라면, 상은 [1,0,0], 중은 [0,1,0], 하는 [0,0,1]로 표기하는 것이 one-hot encoding 입니다. 따라서 분류해야하는 클래스의 수 만큼 출력데이터의 속성의 수가 있습니다. 또한, 각각의 출력데이터는 여러개의 속성 중 하나만 1의 값을 갖고 나머지 속성은 모두 0을 갖습니다. \n",
        "\n",
        "다음번 예제에서 보겠지만 출력데이터가 one-hot encoding 되어 있지 않다면, 데이터 전치리과정에서 one-hot encoding 작업을 진행해야 합니다. "
      ]
    },
    {
      "cell_type": "code",
      "metadata": {
        "id": "1DM0ryxn3Gyi",
        "colab_type": "code",
        "colab": {}
      },
      "source": [
        "import numpy as np\n",
        "x_data = np.array([[1, 2, 1, 1],\n",
        "                   [2, 1, 3, 2],\n",
        "                   [3, 1, 3, 4],\n",
        "                   [4, 1, 5, 5],\n",
        "                   [1, 7, 5, 5],\n",
        "                   [1, 2, 5, 6],\n",
        "                   [1, 6, 6, 6],\n",
        "                   [1, 7, 7, 7]],dtype=np.float32)\n",
        "y_data = np.array([[0, 0, 1],\n",
        "                   [0, 0, 1],\n",
        "                   [0, 0, 1],\n",
        "                   [0, 1, 0],\n",
        "                   [0, 1, 0],\n",
        "                   [0, 1, 0],\n",
        "                   [1, 0, 0],\n",
        "                   [1, 0, 0]], dtype=np.float32)"
      ],
      "execution_count": null,
      "outputs": []
    },
    {
      "cell_type": "markdown",
      "metadata": {
        "id": "H7SjUsiQYkfl",
        "colab_type": "text"
      },
      "source": [
        "입출력 데이터의 모양을 살펴보죠. "
      ]
    },
    {
      "cell_type": "code",
      "metadata": {
        "id": "A_MaSBmJ3dny",
        "colab_type": "code",
        "colab": {}
      },
      "source": [
        "x_data.shape, y_data.shape"
      ],
      "execution_count": null,
      "outputs": []
    },
    {
      "cell_type": "markdown",
      "metadata": {
        "id": "Uc-Gi3zs3K9g",
        "colab_type": "text"
      },
      "source": [
        "딥러닝 모델을 생성하고 구성하기 위한 모듈을 불러옵니다. "
      ]
    },
    {
      "cell_type": "code",
      "metadata": {
        "id": "Eo2fAvUf2z5U",
        "colab_type": "code",
        "colab": {}
      },
      "source": [
        "from keras.models import Sequential\n",
        "from keras.layers import Dense\n",
        "from keras.optimizers import SGD"
      ],
      "execution_count": null,
      "outputs": []
    },
    {
      "cell_type": "markdown",
      "metadata": {
        "id": "x0zcQ3wv3dLV",
        "colab_type": "text"
      },
      "source": [
        "이 예제에서는 출력데이터의 class (그룹)는 총 3개인데, 이를 `nb_classes'라는 변수에 저장하겠습니다. \n"
      ]
    },
    {
      "cell_type": "code",
      "metadata": {
        "id": "_sKVghg-3Q3p",
        "colab_type": "code",
        "colab": {}
      },
      "source": [
        "nb_classes = 3"
      ],
      "execution_count": null,
      "outputs": []
    },
    {
      "cell_type": "markdown",
      "metadata": {
        "id": "tZC3dIqL3qXZ",
        "colab_type": "text"
      },
      "source": [
        "이제 모델을 생성하겠습니다. 이때 **두가지에 주의**하셔야 합니다. 먼저 `activation` 함수로 `softmax`를 사용한다는 것과 둘째, `loss function(손실함수)`로 `categorical_crossentropy`를 사용한다는 점입니다. 그리고 참고로, 이 문제도 분류 문제이므로 우리가 모델의 성능을 모니터링하기 위한 `metrics`으로 `accuarcy(정확도)`를 사용합니다. "
      ]
    },
    {
      "cell_type": "code",
      "metadata": {
        "id": "9G2FGjRy3SGR",
        "colab_type": "code",
        "colab": {}
      },
      "source": [
        "model=Sequential()\n",
        "model.add(Dense(units=3,input_shape=(4,), activation='softmax' ))\n",
        "model.compile(optimizer=SGD(lr=0.1), loss='categorical_crossentropy',metrics=['accuracy'])"
      ],
      "execution_count": null,
      "outputs": []
    },
    {
      "cell_type": "markdown",
      "metadata": {
        "id": "UYyteF7q4bB3",
        "colab_type": "text"
      },
      "source": [
        "모델의 요약 정보를 살펴보겠습니다. "
      ]
    },
    {
      "cell_type": "code",
      "metadata": {
        "id": "PDXvI_IJ3mpC",
        "colab_type": "code",
        "colab": {}
      },
      "source": [
        "model.summary()"
      ],
      "execution_count": null,
      "outputs": []
    },
    {
      "cell_type": "markdown",
      "metadata": {
        "id": "eC3WeLol4igp",
        "colab_type": "text"
      },
      "source": [
        "output shape이 3인 것을 확인할 수 있습니다. 이는 출력데이터의 속성, 즉 우리가 분류하고자 하는 class의 갯수가 3개 인 것을 의미합니다. \n",
        "\n",
        "이제 모델을 주어진 입출력 데이터에 대해 총 1000번 반복하면서 학습을 진행하겠습니다. 여러분은 loss값이 줄어드는 것과 accuracy 값이 증가하는 것을 주의하면서 학습과정을 지켜보시기 바랍니다. "
      ]
    },
    {
      "cell_type": "code",
      "metadata": {
        "id": "DlIwb0AP4Hii",
        "colab_type": "code",
        "colab": {}
      },
      "source": [
        "history=model.fit(x_data, y_data, epochs=1000)"
      ],
      "execution_count": null,
      "outputs": []
    },
    {
      "cell_type": "markdown",
      "metadata": {
        "id": "EAFZZSha5N0k",
        "colab_type": "text"
      },
      "source": [
        "학습과정동안 손실함수 및 정확도의 변화를 그래프로 그려보겠습니다. "
      ]
    },
    {
      "cell_type": "code",
      "metadata": {
        "id": "E_wEpxkB5UT0",
        "colab_type": "code",
        "colab": {}
      },
      "source": [
        "import matplotlib.pyplot as plt\n",
        "plt.plot(history.history[\"loss\"])\n",
        "plt.title(\"Model Loss\")\n",
        "plt.xlabel(\"Epochs\")\n",
        "plt.ylabel(\"Loss\")\n",
        "plt.show()"
      ],
      "execution_count": null,
      "outputs": []
    },
    {
      "cell_type": "markdown",
      "metadata": {
        "id": "ldc0lWcR5qwl",
        "colab_type": "text"
      },
      "source": [
        "손실함수(loss)의 값이 지속적으로 감소하는 것을 알 수 있습니다. \n",
        "다음으로 정확도도 그려보겠습니다. "
      ]
    },
    {
      "cell_type": "code",
      "metadata": {
        "id": "OGpul21z5wys",
        "colab_type": "code",
        "colab": {}
      },
      "source": [
        "plt.plot(history.history[\"accuracy\"])\n",
        "plt.title(\"Model Accuracy\")\n",
        "plt.xlabel(\"Epochs\")\n",
        "plt.ylabel(\"Accuracy\")\n",
        "plt.show()"
      ],
      "execution_count": null,
      "outputs": []
    },
    {
      "cell_type": "markdown",
      "metadata": {
        "id": "fuPsdM5w6Ffs",
        "colab_type": "text"
      },
      "source": [
        "정확도의 값도 학습이 진행되면서 점차 증가하여 학습 데이터에 대해 모델의 출력값과 실제 타겟 값이 동일해지는 1 (100%)에 달했음을 알 수 있습니다. \n",
        "\n",
        "이제 모델을 생성했으니 새로운 데이터에 대해 예측을 해보겠습니다. 새로운 입력데이터 [1,2,1,1]에 대해 앞선 예제와 마찬가지로 두가지 방식로 예측하겠습니다. softmax 값으로 예측(각 클래스에 속할 확률)과 그 클래스를 예측합니다. "
      ]
    },
    {
      "cell_type": "code",
      "metadata": {
        "id": "eXv7MjvM4NTa",
        "colab_type": "code",
        "colab": {}
      },
      "source": [
        "y_predict_value = model.predict(np.array([[1,2,1,1]]))\n",
        "print(\"predict_value: \", y_predict_value)\n"
      ],
      "execution_count": null,
      "outputs": []
    },
    {
      "cell_type": "markdown",
      "metadata": {
        "id": "3ZuBWGjR7F9p",
        "colab_type": "text"
      },
      "source": [
        "확률적으로 3번째 클래스에 속할 확률이 가장 높음을 알 수 있습니다. \n",
        "더불어 각 클래스에 속할 확률을 모두 합하면 1이 됩니다. "
      ]
    },
    {
      "cell_type": "code",
      "metadata": {
        "id": "n6Aq5DZf7Q-h",
        "colab_type": "code",
        "colab": {}
      },
      "source": [
        "np.sum(model.predict(np.array([[1,2,1,1]])))"
      ],
      "execution_count": null,
      "outputs": []
    },
    {
      "cell_type": "markdown",
      "metadata": {
        "id": "7WIIg05T7Z7o",
        "colab_type": "text"
      },
      "source": [
        "이제 해당 입력이 어느 클래스에 속하는지 예측해 보겠습니다. "
      ]
    },
    {
      "cell_type": "code",
      "metadata": {
        "id": "CO3k_1bG4eHp",
        "colab_type": "code",
        "colab": {}
      },
      "source": [
        "y_predict_class = model.predict_classes(np.array([[1,2,1,1]]))\n",
        "print(\"predict_class: \", y_predict_class)"
      ],
      "execution_count": null,
      "outputs": []
    }
  ]
}