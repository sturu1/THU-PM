{
  "nbformat": 4,
  "nbformat_minor": 0,
  "metadata": {
    "colab": {
      "name": "Copy of sung_lec04_softmax(2).ipynb",
      "provenance": [],
      "collapsed_sections": [],
      "include_colab_link": true
    },
    "kernelspec": {
      "name": "python3",
      "display_name": "Python 3"
    }
  },
  "cells": [
    {
      "cell_type": "markdown",
      "metadata": {
        "id": "view-in-github",
        "colab_type": "text"
      },
      "source": [
        "<a href=\"https://colab.research.google.com/github/sturu1/THU-PM/blob/master/Copy_of_sung_lec04_softmax(2).ipynb\" target=\"_parent\"><img src=\"https://colab.research.google.com/assets/colab-badge.svg\" alt=\"Open In Colab\"/></a>"
      ]
    },
    {
      "cell_type": "markdown",
      "metadata": {
        "id": "KOV_2sIaYHB2",
        "colab_type": "text"
      },
      "source": [
        "# Softmax Regression (2)\n",
        "\n",
        "이번 시간에는 동물들의 특성을 바탕으로 어떤 부류의 동물인지 그 종을 예측하는 예측 모델을 개발해 보겠습니다. 먼저 데이터를 열어서 그 내용을 확인해 보겠습니다. \n",
        "\n",
        "* 자료출처: https://github.com/hunkim/DeepLearningZeroToAll/blob/master/keras/data-04-zoo.csv\n",
        "\n",
        "100여개의 동물이 18개의 속성으로 표현되어 있습니다. 이중 앞의 17개는 입력데이터로 활용할 속성이고, 마지막 1개가 해당 동물의 클래스를 표현하고 있습니다. \n",
        "\n",
        "데이터를 불러오겠습니다. "
      ]
    },
    {
      "cell_type": "code",
      "metadata": {
        "id": "0ieWaf785IkN",
        "colab_type": "code",
        "colab": {}
      },
      "source": [
        "!wget https://raw.githubusercontent.com/hunkim/DeepLearningZeroToAll/master/keras/data-04-zoo.csv"
      ],
      "execution_count": null,
      "outputs": []
    },
    {
      "cell_type": "markdown",
      "metadata": {
        "id": "TRRahd6faRYF",
        "colab_type": "text"
      },
      "source": [
        "여러분의 디렉토리에 있는 파일들을 나열해 볼까요?"
      ]
    },
    {
      "cell_type": "code",
      "metadata": {
        "id": "w4Wtzal15TBm",
        "colab_type": "code",
        "colab": {}
      },
      "source": [
        "!ls"
      ],
      "execution_count": null,
      "outputs": []
    },
    {
      "cell_type": "markdown",
      "metadata": {
        "id": "PbM6En8i431W",
        "colab_type": "text"
      },
      "source": [
        "불러온 데이터를 xy 변수에 `np.loadtxt()`라는 함수를 이용하여 저장하겠습니다. "
      ]
    },
    {
      "cell_type": "code",
      "metadata": {
        "id": "FGlcN1a52AA3",
        "colab_type": "code",
        "colab": {}
      },
      "source": [
        "import numpy as np\n",
        "xy = np.loadtxt('data-04-zoo.csv', delimiter=',', dtype=np.float32)"
      ],
      "execution_count": null,
      "outputs": []
    },
    {
      "cell_type": "markdown",
      "metadata": {
        "id": "vuIczAXf5CrM",
        "colab_type": "text"
      },
      "source": [
        "xy 변수에 저장된 데이터의 내용과 모양을 살펴봅시다. "
      ]
    },
    {
      "cell_type": "code",
      "metadata": {
        "id": "HHSHkdA-2SqM",
        "colab_type": "code",
        "colab": {}
      },
      "source": [
        "xy"
      ],
      "execution_count": null,
      "outputs": []
    },
    {
      "cell_type": "code",
      "metadata": {
        "id": "vWZ650kwaiWW",
        "colab_type": "code",
        "colab": {}
      },
      "source": [
        "xy.shape"
      ],
      "execution_count": null,
      "outputs": []
    },
    {
      "cell_type": "markdown",
      "metadata": {
        "id": "BKuSlHgQ8Jiw",
        "colab_type": "text"
      },
      "source": [
        "입력데이터의 값의 범위가 크게 상이하지 않으므로 이번 예제에서는 데이터 정규화 과정은 생략하도록 하겠습니다. (관심있는 학생들은 정규화 과정도 수행해보고, 그렇지 않을때와의 성능을 비교해 보는 것도 좋은 학습이 될것 같습니다)"
      ]
    },
    {
      "cell_type": "code",
      "metadata": {
        "id": "3UgU9oqsaoFq",
        "colab_type": "code",
        "colab": {}
      },
      "source": [
        "np.max(xy, axis=0)"
      ],
      "execution_count": null,
      "outputs": []
    },
    {
      "cell_type": "code",
      "metadata": {
        "id": "iBUgg3NkavTT",
        "colab_type": "code",
        "colab": {}
      },
      "source": [
        "np.min(xy, axis=0)"
      ],
      "execution_count": null,
      "outputs": []
    },
    {
      "cell_type": "markdown",
      "metadata": {
        "id": "9kJJ_Ja2amlp",
        "colab_type": "text"
      },
      "source": [
        "\n",
        "\n",
        "다음으로 데이터를 입력과 출력데이터로 나누겠습니다. 원본 데이터의 가장 마지막 열이 동물 분류를 나타내는 속성이고, 그 이전 속성은 모두 입력데이터의 속성이 됩니다. \n"
      ]
    },
    {
      "cell_type": "code",
      "metadata": {
        "id": "NWNu15Wd5tfa",
        "colab_type": "code",
        "colab": {}
      },
      "source": [
        "x_data = xy[:,:-1]\n",
        "y_data = xy[:,[-1]]"
      ],
      "execution_count": null,
      "outputs": []
    },
    {
      "cell_type": "code",
      "metadata": {
        "id": "zpGMXFqR5gqA",
        "colab_type": "code",
        "colab": {}
      },
      "source": [
        "x_data.shape, y_data.shape"
      ],
      "execution_count": null,
      "outputs": []
    },
    {
      "cell_type": "markdown",
      "metadata": {
        "id": "DZpFXnk62aWL",
        "colab_type": "text"
      },
      "source": [
        "이 예제에서, 출력 변수는 one-hot encoding이 되어 있지 않습니다. 따라서 출력변수에 대한 전처리(one-hot encoding)을 수행해야 합니다. 먼저 출력값이 몇개의 분류(class)로 구분된는지 확인해 보겠습니다. "
      ]
    },
    {
      "cell_type": "code",
      "metadata": {
        "id": "c_gr5pUB2ZSv",
        "colab_type": "code",
        "colab": {}
      },
      "source": [
        "np.unique(xy[:,-1])"
      ],
      "execution_count": null,
      "outputs": []
    },
    {
      "cell_type": "code",
      "metadata": {
        "id": "PUiwrwob2rm6",
        "colab_type": "code",
        "colab": {}
      },
      "source": [
        "len(np.unique(xy[:,-1]))"
      ],
      "execution_count": null,
      "outputs": []
    },
    {
      "cell_type": "markdown",
      "metadata": {
        "id": "HMBIA_M_6CKj",
        "colab_type": "text"
      },
      "source": [
        "7개의 클래스가 존재하며, 이 클래스 값을 `nb_classes`에 저장하겠습니다. "
      ]
    },
    {
      "cell_type": "code",
      "metadata": {
        "id": "YEN_o1zA6JDq",
        "colab_type": "code",
        "colab": {}
      },
      "source": [
        "nb_classes = 7"
      ],
      "execution_count": null,
      "outputs": []
    },
    {
      "cell_type": "markdown",
      "metadata": {
        "id": "TKvGWxgy6MmL",
        "colab_type": "text"
      },
      "source": [
        "one-hot encoding을 수행하는 keras의 관련 함수를 불러옵니다."
      ]
    },
    {
      "cell_type": "code",
      "metadata": {
        "id": "hgQZ19eG6Vei",
        "colab_type": "code",
        "colab": {}
      },
      "source": [
        "from keras.utils import np_utils"
      ],
      "execution_count": null,
      "outputs": []
    },
    {
      "cell_type": "markdown",
      "metadata": {
        "id": "2zCwbzha6pN6",
        "colab_type": "text"
      },
      "source": [
        "출력데이터(y_data)에 대해 onoe-hot encoding을 수행하고 그 결과를 y_one_hot 이라는 변수에 저장합니다. "
      ]
    },
    {
      "cell_type": "code",
      "metadata": {
        "id": "s-DRovip6NlB",
        "colab_type": "code",
        "colab": {}
      },
      "source": [
        "y_one_hot = np_utils.to_categorical(y_data, nb_classes)"
      ],
      "execution_count": null,
      "outputs": []
    },
    {
      "cell_type": "markdown",
      "metadata": {
        "id": "E6ygFtwj7ukz",
        "colab_type": "text"
      },
      "source": [
        "y_one_hot의 모양과 내용을 살펴봅니다. 1개의 열에 숫자로 구분되던 class가 7개의 속성으로 전환되고 0과 1로 encoding 된것에 주목하십시오. "
      ]
    },
    {
      "cell_type": "code",
      "metadata": {
        "id": "I_06hejebCMr",
        "colab_type": "code",
        "colab": {}
      },
      "source": [
        "y_one_hot"
      ],
      "execution_count": null,
      "outputs": []
    },
    {
      "cell_type": "code",
      "metadata": {
        "id": "49ELzLGx7ovE",
        "colab_type": "code",
        "colab": {}
      },
      "source": [
        "y_one_hot.shape"
      ],
      "execution_count": null,
      "outputs": []
    },
    {
      "cell_type": "markdown",
      "metadata": {
        "id": "jdOid8_R8D0X",
        "colab_type": "text"
      },
      "source": [
        "이제 모델을 구축하겠습니다. "
      ]
    },
    {
      "cell_type": "code",
      "metadata": {
        "id": "zoh0YP5z5ZCy",
        "colab_type": "code",
        "colab": {}
      },
      "source": [
        "from keras.models import Sequential\n",
        "from keras.layers import Dense\n",
        "from keras.optimizers import SGD"
      ],
      "execution_count": null,
      "outputs": []
    },
    {
      "cell_type": "code",
      "metadata": {
        "id": "042wbO2W6UHR",
        "colab_type": "code",
        "colab": {}
      },
      "source": [
        "model = Sequential()\n",
        "model.add(Dense(units=nb_classes, activation='softmax', input_shape=(16,)))\n",
        "model.compile(optimizer=SGD(lr=0.01), loss='categorical_crossentropy',metrics=['accuracy'])"
      ],
      "execution_count": null,
      "outputs": []
    },
    {
      "cell_type": "markdown",
      "metadata": {
        "id": "Uk4alnsD8bFa",
        "colab_type": "text"
      },
      "source": [
        "모델의 요약정보를 확인합니다. "
      ]
    },
    {
      "cell_type": "code",
      "metadata": {
        "id": "_SMWo-GE6r8R",
        "colab_type": "code",
        "colab": {}
      },
      "source": [
        "model.summary()"
      ],
      "execution_count": null,
      "outputs": []
    },
    {
      "cell_type": "code",
      "metadata": {
        "id": "8_kzPEj269k5",
        "colab_type": "code",
        "colab": {}
      },
      "source": [
        "history=model.fit(x_data, y_one_hot, epochs=1000)"
      ],
      "execution_count": null,
      "outputs": []
    },
    {
      "cell_type": "markdown",
      "metadata": {
        "id": "cjGTl6e08vUT",
        "colab_type": "text"
      },
      "source": [
        "학습기간동안의 손실함수 변화 및 정확도의 변화값을 그래프로 그려보겠습니다. "
      ]
    },
    {
      "cell_type": "code",
      "metadata": {
        "id": "pL4ar9tx80DZ",
        "colab_type": "code",
        "colab": {}
      },
      "source": [
        "import matplotlib.pyplot as plt\n",
        "plt.plot(history.history[\"loss\"])\n",
        "plt.title(\"Model Loss\")\n",
        "plt.xlabel(\"Epochs\")\n",
        "plt.ylabel(\"Loss\")\n",
        "plt.show()"
      ],
      "execution_count": null,
      "outputs": []
    },
    {
      "cell_type": "code",
      "metadata": {
        "id": "geiRFSWi9TIN",
        "colab_type": "code",
        "colab": {}
      },
      "source": [
        "import matplotlib.pyplot as plt\n",
        "plt.plot(history.history[\"accuracy\"])\n",
        "plt.title(\"Model Accuracy\")\n",
        "plt.xlabel(\"Epochs\")\n",
        "plt.ylabel(\"Accuracy\")\n",
        "plt.show()"
      ],
      "execution_count": null,
      "outputs": []
    },
    {
      "cell_type": "markdown",
      "metadata": {
        "id": "Jg0ky2_Z9cnE",
        "colab_type": "text"
      },
      "source": [
        "학습 데이터에 대해 모델의 예측값과 실제 타깃값을 비교해 보겠습니다. "
      ]
    },
    {
      "cell_type": "code",
      "metadata": {
        "id": "jcevv5Tm7EiR",
        "colab_type": "code",
        "colab": {}
      },
      "source": [
        "pred = model.predict_classes(x_data)"
      ],
      "execution_count": null,
      "outputs": []
    },
    {
      "cell_type": "code",
      "metadata": {
        "id": "TT8w7bvX7WZJ",
        "colab_type": "code",
        "colab": {}
      },
      "source": [
        "for p,y in zip(pred, y_data):\n",
        "  print(\"prediction: {}, true Y: {}\".format(p,y))"
      ],
      "execution_count": null,
      "outputs": []
    }
  ]
}